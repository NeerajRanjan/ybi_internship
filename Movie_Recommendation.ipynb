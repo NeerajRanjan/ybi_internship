{
  "nbformat": 4,
  "nbformat_minor": 0,
  "metadata": {
    "colab": {
      "provenance": [],
      "include_colab_link": true
    },
    "kernelspec": {
      "name": "python3",
      "display_name": "Python 3"
    },
    "language_info": {
      "name": "python"
    }
  },
  "cells": [
    {
      "cell_type": "markdown",
      "metadata": {
        "id": "view-in-github",
        "colab_type": "text"
      },
      "source": [
        "<a href=\"https://colab.research.google.com/github/NeerajRanjan/ybi_internship/blob/main/Movie_Recommendation.ipynb\" target=\"_parent\"><img src=\"https://colab.research.google.com/assets/colab-badge.svg\" alt=\"Open In Colab\"/></a>"
      ]
    },
    {
      "cell_type": "markdown",
      "source": [
        "**Title of Project**\n",
        "\n",
        "\n",
        "**Movie Recommendation System**\n",
        "\n",
        "\n",
        "**Objective**\n",
        "\n",
        "\n",
        "Recommender System is a system that seeks to predict or filter preferences according to the user's choices. Recommender systems are utilized in a variety of areas including movies, music, news, books, research articles, search queries, social tags, and products in general. Recommender systems produce a list of recommendations in any of the two ways-\n",
        "\n",
        "Collaborative filtering: Collaborative filtering approaches build a model from the user's past behavior (e. items purchased or searched by the user) as well as similar decisions made by other users. This model is then used to predict items (or ratings for items) that users may have an interest in.\n",
        "\n",
        "Content-based filtering: Content-based filtering approaches uses a series of discrete characteristics of an item in order to recommend additional items with similar properties. Content-based filtering methods are totally based on a description of the item and a profile of the user's preferences. It recommends items based on the user's past preferences."
      ],
      "metadata": {
        "id": "J5eRiylp6oeK"
      }
    },
    {
      "cell_type": "markdown",
      "source": [
        "**Import Library**"
      ],
      "metadata": {
        "id": "rWOtPyh24BWd"
      }
    },
    {
      "cell_type": "code",
      "execution_count": 1,
      "metadata": {
        "id": "Q9EBThWtwodJ"
      },
      "outputs": [],
      "source": [
        "import numpy as np\n",
        "import pandas as pd"
      ]
    },
    {
      "cell_type": "markdown",
      "source": [
        "**Import Data**"
      ],
      "metadata": {
        "id": "-7RrJ5fU48sH"
      }
    },
    {
      "cell_type": "code",
      "source": [
        "df = pd.read_csv(r\"https://github.com/YBIFoundation/Dataset/raw/main/Movies%20Recommendation.csv\")"
      ],
      "metadata": {
        "id": "1ddUTduBxcKY"
      },
      "execution_count": 2,
      "outputs": []
    },
    {
      "cell_type": "markdown",
      "source": [
        "**Describe Data**"
      ],
      "metadata": {
        "id": "gdc0xmnY5C3J"
      }
    },
    {
      "cell_type": "code",
      "source": [
        "df.head()"
      ],
      "metadata": {
        "colab": {
          "base_uri": "https://localhost:8080/",
          "height": 672
        },
        "id": "nrV0FS1Fyo66",
        "outputId": "e1e6b548-e829-442a-c629-4a1b2350f927"
      },
      "execution_count": 3,
      "outputs": [
        {
          "output_type": "execute_result",
          "data": {
            "text/plain": [
              "   Movie_ID      Movie_Title                       Movie_Genre Movie_Language  \\\n",
              "0         1       Four Rooms                      Crime Comedy             en   \n",
              "1         2        Star Wars  Adventure Action Science Fiction             en   \n",
              "2         3     Finding Nemo                  Animation Family             en   \n",
              "3         4     Forrest Gump              Comedy Drama Romance             en   \n",
              "4         5  American Beauty                             Drama             en   \n",
              "\n",
              "   Movie_Budget  Movie_Popularity Movie_Release_Date  Movie_Revenue  \\\n",
              "0       4000000         22.876230         09-12-1995        4300000   \n",
              "1      11000000        126.393695         25-05-1977      775398007   \n",
              "2      94000000         85.688789         30-05-2003      940335536   \n",
              "3      55000000        138.133331         06-07-1994      677945399   \n",
              "4      15000000         80.878605         15-09-1999      356296601   \n",
              "\n",
              "   Movie_Runtime  Movie_Vote  ...  \\\n",
              "0           98.0         6.5  ...   \n",
              "1          121.0         8.1  ...   \n",
              "2          100.0         7.6  ...   \n",
              "3          142.0         8.2  ...   \n",
              "4          122.0         7.9  ...   \n",
              "\n",
              "                                      Movie_Homepage  \\\n",
              "0                                                NaN   \n",
              "1  http://www.starwars.com/films/star-wars-episod...   \n",
              "2              http://movies.disney.com/finding-nemo   \n",
              "3                                                NaN   \n",
              "4                      http://www.dreamworks.com/ab/   \n",
              "\n",
              "                                      Movie_Keywords  \\\n",
              "0          hotel new year's eve witch bet hotel room   \n",
              "1        android galaxy hermit death star lightsaber   \n",
              "2  father son relationship harbor underwater fish...   \n",
              "3  vietnam veteran hippie mentally disabled runni...   \n",
              "4  male nudity female nudity adultery midlife cri...   \n",
              "\n",
              "                                      Movie_Overview  \\\n",
              "0  It's Ted the Bellhop's first night on the job....   \n",
              "1  Princess Leia is captured and held hostage by ...   \n",
              "2  Nemo, an adventurous young clownfish, is unexp...   \n",
              "3  A man with a low IQ has accomplished great thi...   \n",
              "4  Lester Burnham, a depressed suburban father in...   \n",
              "\n",
              "                              Movie_Production_House  \\\n",
              "0  [{\"name\": \"Miramax Films\", \"id\": 14}, {\"name\":...   \n",
              "1  [{\"name\": \"Lucasfilm\", \"id\": 1}, {\"name\": \"Twe...   \n",
              "2     [{\"name\": \"Pixar Animation Studios\", \"id\": 3}]   \n",
              "3          [{\"name\": \"Paramount Pictures\", \"id\": 4}]   \n",
              "4  [{\"name\": \"DreamWorks SKG\", \"id\": 27}, {\"name\"...   \n",
              "\n",
              "                            Movie_Production_Country  \\\n",
              "0  [{\"iso_3166_1\": \"US\", \"name\": \"United States o...   \n",
              "1  [{\"iso_3166_1\": \"US\", \"name\": \"United States o...   \n",
              "2  [{\"iso_3166_1\": \"US\", \"name\": \"United States o...   \n",
              "3  [{\"iso_3166_1\": \"US\", \"name\": \"United States o...   \n",
              "4  [{\"iso_3166_1\": \"US\", \"name\": \"United States o...   \n",
              "\n",
              "                      Movie_Spoken_Language  \\\n",
              "0  [{\"iso_639_1\": \"en\", \"name\": \"English\"}]   \n",
              "1  [{\"iso_639_1\": \"en\", \"name\": \"English\"}]   \n",
              "2  [{\"iso_639_1\": \"en\", \"name\": \"English\"}]   \n",
              "3  [{\"iso_639_1\": \"en\", \"name\": \"English\"}]   \n",
              "4  [{\"iso_639_1\": \"en\", \"name\": \"English\"}]   \n",
              "\n",
              "                                       Movie_Tagline  \\\n",
              "0  Twelve outrageous guests. Four scandalous requ...   \n",
              "1       A long time ago in a galaxy far, far away...   \n",
              "2  There are 3.7 trillion fish in the ocean, they...   \n",
              "3  The world will never be the same, once you've ...   \n",
              "4                                       Look closer.   \n",
              "\n",
              "                                          Movie_Cast  \\\n",
              "0  Tim Roth Antonio Banderas Jennifer Beals Madon...   \n",
              "1  Mark Hamill Harrison Ford Carrie Fisher Peter ...   \n",
              "2  Albert Brooks Ellen DeGeneres Alexander Gould ...   \n",
              "3  Tom Hanks Robin Wright Gary Sinise Mykelti Wil...   \n",
              "4  Kevin Spacey Annette Bening Thora Birch Wes Be...   \n",
              "\n",
              "                                          Movie_Crew   Movie_Director  \n",
              "0  [{'name': 'Allison Anders', 'gender': 1, 'depa...   Allison Anders  \n",
              "1  [{'name': 'George Lucas', 'gender': 2, 'depart...     George Lucas  \n",
              "2  [{'name': 'Andrew Stanton', 'gender': 2, 'depa...   Andrew Stanton  \n",
              "3  [{'name': 'Alan Silvestri', 'gender': 2, 'depa...  Robert Zemeckis  \n",
              "4  [{'name': 'Thomas Newman', 'gender': 2, 'depar...       Sam Mendes  \n",
              "\n",
              "[5 rows x 21 columns]"
            ],
            "text/html": [
              "\n",
              "  <div id=\"df-43998e6b-ec06-4e68-a078-db722224e6ad\" class=\"colab-df-container\">\n",
              "    <div>\n",
              "<style scoped>\n",
              "    .dataframe tbody tr th:only-of-type {\n",
              "        vertical-align: middle;\n",
              "    }\n",
              "\n",
              "    .dataframe tbody tr th {\n",
              "        vertical-align: top;\n",
              "    }\n",
              "\n",
              "    .dataframe thead th {\n",
              "        text-align: right;\n",
              "    }\n",
              "</style>\n",
              "<table border=\"1\" class=\"dataframe\">\n",
              "  <thead>\n",
              "    <tr style=\"text-align: right;\">\n",
              "      <th></th>\n",
              "      <th>Movie_ID</th>\n",
              "      <th>Movie_Title</th>\n",
              "      <th>Movie_Genre</th>\n",
              "      <th>Movie_Language</th>\n",
              "      <th>Movie_Budget</th>\n",
              "      <th>Movie_Popularity</th>\n",
              "      <th>Movie_Release_Date</th>\n",
              "      <th>Movie_Revenue</th>\n",
              "      <th>Movie_Runtime</th>\n",
              "      <th>Movie_Vote</th>\n",
              "      <th>...</th>\n",
              "      <th>Movie_Homepage</th>\n",
              "      <th>Movie_Keywords</th>\n",
              "      <th>Movie_Overview</th>\n",
              "      <th>Movie_Production_House</th>\n",
              "      <th>Movie_Production_Country</th>\n",
              "      <th>Movie_Spoken_Language</th>\n",
              "      <th>Movie_Tagline</th>\n",
              "      <th>Movie_Cast</th>\n",
              "      <th>Movie_Crew</th>\n",
              "      <th>Movie_Director</th>\n",
              "    </tr>\n",
              "  </thead>\n",
              "  <tbody>\n",
              "    <tr>\n",
              "      <th>0</th>\n",
              "      <td>1</td>\n",
              "      <td>Four Rooms</td>\n",
              "      <td>Crime Comedy</td>\n",
              "      <td>en</td>\n",
              "      <td>4000000</td>\n",
              "      <td>22.876230</td>\n",
              "      <td>09-12-1995</td>\n",
              "      <td>4300000</td>\n",
              "      <td>98.0</td>\n",
              "      <td>6.5</td>\n",
              "      <td>...</td>\n",
              "      <td>NaN</td>\n",
              "      <td>hotel new year's eve witch bet hotel room</td>\n",
              "      <td>It's Ted the Bellhop's first night on the job....</td>\n",
              "      <td>[{\"name\": \"Miramax Films\", \"id\": 14}, {\"name\":...</td>\n",
              "      <td>[{\"iso_3166_1\": \"US\", \"name\": \"United States o...</td>\n",
              "      <td>[{\"iso_639_1\": \"en\", \"name\": \"English\"}]</td>\n",
              "      <td>Twelve outrageous guests. Four scandalous requ...</td>\n",
              "      <td>Tim Roth Antonio Banderas Jennifer Beals Madon...</td>\n",
              "      <td>[{'name': 'Allison Anders', 'gender': 1, 'depa...</td>\n",
              "      <td>Allison Anders</td>\n",
              "    </tr>\n",
              "    <tr>\n",
              "      <th>1</th>\n",
              "      <td>2</td>\n",
              "      <td>Star Wars</td>\n",
              "      <td>Adventure Action Science Fiction</td>\n",
              "      <td>en</td>\n",
              "      <td>11000000</td>\n",
              "      <td>126.393695</td>\n",
              "      <td>25-05-1977</td>\n",
              "      <td>775398007</td>\n",
              "      <td>121.0</td>\n",
              "      <td>8.1</td>\n",
              "      <td>...</td>\n",
              "      <td>http://www.starwars.com/films/star-wars-episod...</td>\n",
              "      <td>android galaxy hermit death star lightsaber</td>\n",
              "      <td>Princess Leia is captured and held hostage by ...</td>\n",
              "      <td>[{\"name\": \"Lucasfilm\", \"id\": 1}, {\"name\": \"Twe...</td>\n",
              "      <td>[{\"iso_3166_1\": \"US\", \"name\": \"United States o...</td>\n",
              "      <td>[{\"iso_639_1\": \"en\", \"name\": \"English\"}]</td>\n",
              "      <td>A long time ago in a galaxy far, far away...</td>\n",
              "      <td>Mark Hamill Harrison Ford Carrie Fisher Peter ...</td>\n",
              "      <td>[{'name': 'George Lucas', 'gender': 2, 'depart...</td>\n",
              "      <td>George Lucas</td>\n",
              "    </tr>\n",
              "    <tr>\n",
              "      <th>2</th>\n",
              "      <td>3</td>\n",
              "      <td>Finding Nemo</td>\n",
              "      <td>Animation Family</td>\n",
              "      <td>en</td>\n",
              "      <td>94000000</td>\n",
              "      <td>85.688789</td>\n",
              "      <td>30-05-2003</td>\n",
              "      <td>940335536</td>\n",
              "      <td>100.0</td>\n",
              "      <td>7.6</td>\n",
              "      <td>...</td>\n",
              "      <td>http://movies.disney.com/finding-nemo</td>\n",
              "      <td>father son relationship harbor underwater fish...</td>\n",
              "      <td>Nemo, an adventurous young clownfish, is unexp...</td>\n",
              "      <td>[{\"name\": \"Pixar Animation Studios\", \"id\": 3}]</td>\n",
              "      <td>[{\"iso_3166_1\": \"US\", \"name\": \"United States o...</td>\n",
              "      <td>[{\"iso_639_1\": \"en\", \"name\": \"English\"}]</td>\n",
              "      <td>There are 3.7 trillion fish in the ocean, they...</td>\n",
              "      <td>Albert Brooks Ellen DeGeneres Alexander Gould ...</td>\n",
              "      <td>[{'name': 'Andrew Stanton', 'gender': 2, 'depa...</td>\n",
              "      <td>Andrew Stanton</td>\n",
              "    </tr>\n",
              "    <tr>\n",
              "      <th>3</th>\n",
              "      <td>4</td>\n",
              "      <td>Forrest Gump</td>\n",
              "      <td>Comedy Drama Romance</td>\n",
              "      <td>en</td>\n",
              "      <td>55000000</td>\n",
              "      <td>138.133331</td>\n",
              "      <td>06-07-1994</td>\n",
              "      <td>677945399</td>\n",
              "      <td>142.0</td>\n",
              "      <td>8.2</td>\n",
              "      <td>...</td>\n",
              "      <td>NaN</td>\n",
              "      <td>vietnam veteran hippie mentally disabled runni...</td>\n",
              "      <td>A man with a low IQ has accomplished great thi...</td>\n",
              "      <td>[{\"name\": \"Paramount Pictures\", \"id\": 4}]</td>\n",
              "      <td>[{\"iso_3166_1\": \"US\", \"name\": \"United States o...</td>\n",
              "      <td>[{\"iso_639_1\": \"en\", \"name\": \"English\"}]</td>\n",
              "      <td>The world will never be the same, once you've ...</td>\n",
              "      <td>Tom Hanks Robin Wright Gary Sinise Mykelti Wil...</td>\n",
              "      <td>[{'name': 'Alan Silvestri', 'gender': 2, 'depa...</td>\n",
              "      <td>Robert Zemeckis</td>\n",
              "    </tr>\n",
              "    <tr>\n",
              "      <th>4</th>\n",
              "      <td>5</td>\n",
              "      <td>American Beauty</td>\n",
              "      <td>Drama</td>\n",
              "      <td>en</td>\n",
              "      <td>15000000</td>\n",
              "      <td>80.878605</td>\n",
              "      <td>15-09-1999</td>\n",
              "      <td>356296601</td>\n",
              "      <td>122.0</td>\n",
              "      <td>7.9</td>\n",
              "      <td>...</td>\n",
              "      <td>http://www.dreamworks.com/ab/</td>\n",
              "      <td>male nudity female nudity adultery midlife cri...</td>\n",
              "      <td>Lester Burnham, a depressed suburban father in...</td>\n",
              "      <td>[{\"name\": \"DreamWorks SKG\", \"id\": 27}, {\"name\"...</td>\n",
              "      <td>[{\"iso_3166_1\": \"US\", \"name\": \"United States o...</td>\n",
              "      <td>[{\"iso_639_1\": \"en\", \"name\": \"English\"}]</td>\n",
              "      <td>Look closer.</td>\n",
              "      <td>Kevin Spacey Annette Bening Thora Birch Wes Be...</td>\n",
              "      <td>[{'name': 'Thomas Newman', 'gender': 2, 'depar...</td>\n",
              "      <td>Sam Mendes</td>\n",
              "    </tr>\n",
              "  </tbody>\n",
              "</table>\n",
              "<p>5 rows × 21 columns</p>\n",
              "</div>\n",
              "    <div class=\"colab-df-buttons\">\n",
              "\n",
              "  <div class=\"colab-df-container\">\n",
              "    <button class=\"colab-df-convert\" onclick=\"convertToInteractive('df-43998e6b-ec06-4e68-a078-db722224e6ad')\"\n",
              "            title=\"Convert this dataframe to an interactive table.\"\n",
              "            style=\"display:none;\">\n",
              "\n",
              "  <svg xmlns=\"http://www.w3.org/2000/svg\" height=\"24px\" viewBox=\"0 -960 960 960\">\n",
              "    <path d=\"M120-120v-720h720v720H120Zm60-500h600v-160H180v160Zm220 220h160v-160H400v160Zm0 220h160v-160H400v160ZM180-400h160v-160H180v160Zm440 0h160v-160H620v160ZM180-180h160v-160H180v160Zm440 0h160v-160H620v160Z\"/>\n",
              "  </svg>\n",
              "    </button>\n",
              "\n",
              "  <style>\n",
              "    .colab-df-container {\n",
              "      display:flex;\n",
              "      gap: 12px;\n",
              "    }\n",
              "\n",
              "    .colab-df-convert {\n",
              "      background-color: #E8F0FE;\n",
              "      border: none;\n",
              "      border-radius: 50%;\n",
              "      cursor: pointer;\n",
              "      display: none;\n",
              "      fill: #1967D2;\n",
              "      height: 32px;\n",
              "      padding: 0 0 0 0;\n",
              "      width: 32px;\n",
              "    }\n",
              "\n",
              "    .colab-df-convert:hover {\n",
              "      background-color: #E2EBFA;\n",
              "      box-shadow: 0px 1px 2px rgba(60, 64, 67, 0.3), 0px 1px 3px 1px rgba(60, 64, 67, 0.15);\n",
              "      fill: #174EA6;\n",
              "    }\n",
              "\n",
              "    .colab-df-buttons div {\n",
              "      margin-bottom: 4px;\n",
              "    }\n",
              "\n",
              "    [theme=dark] .colab-df-convert {\n",
              "      background-color: #3B4455;\n",
              "      fill: #D2E3FC;\n",
              "    }\n",
              "\n",
              "    [theme=dark] .colab-df-convert:hover {\n",
              "      background-color: #434B5C;\n",
              "      box-shadow: 0px 1px 3px 1px rgba(0, 0, 0, 0.15);\n",
              "      filter: drop-shadow(0px 1px 2px rgba(0, 0, 0, 0.3));\n",
              "      fill: #FFFFFF;\n",
              "    }\n",
              "  </style>\n",
              "\n",
              "    <script>\n",
              "      const buttonEl =\n",
              "        document.querySelector('#df-43998e6b-ec06-4e68-a078-db722224e6ad button.colab-df-convert');\n",
              "      buttonEl.style.display =\n",
              "        google.colab.kernel.accessAllowed ? 'block' : 'none';\n",
              "\n",
              "      async function convertToInteractive(key) {\n",
              "        const element = document.querySelector('#df-43998e6b-ec06-4e68-a078-db722224e6ad');\n",
              "        const dataTable =\n",
              "          await google.colab.kernel.invokeFunction('convertToInteractive',\n",
              "                                                    [key], {});\n",
              "        if (!dataTable) return;\n",
              "\n",
              "        const docLinkHtml = 'Like what you see? Visit the ' +\n",
              "          '<a target=\"_blank\" href=https://colab.research.google.com/notebooks/data_table.ipynb>data table notebook</a>'\n",
              "          + ' to learn more about interactive tables.';\n",
              "        element.innerHTML = '';\n",
              "        dataTable['output_type'] = 'display_data';\n",
              "        await google.colab.output.renderOutput(dataTable, element);\n",
              "        const docLink = document.createElement('div');\n",
              "        docLink.innerHTML = docLinkHtml;\n",
              "        element.appendChild(docLink);\n",
              "      }\n",
              "    </script>\n",
              "  </div>\n",
              "\n",
              "\n",
              "<div id=\"df-caa17d22-5c1a-4f78-ba19-deb6743bc006\">\n",
              "  <button class=\"colab-df-quickchart\" onclick=\"quickchart('df-caa17d22-5c1a-4f78-ba19-deb6743bc006')\"\n",
              "            title=\"Suggest charts\"\n",
              "            style=\"display:none;\">\n",
              "\n",
              "<svg xmlns=\"http://www.w3.org/2000/svg\" height=\"24px\"viewBox=\"0 0 24 24\"\n",
              "     width=\"24px\">\n",
              "    <g>\n",
              "        <path d=\"M19 3H5c-1.1 0-2 .9-2 2v14c0 1.1.9 2 2 2h14c1.1 0 2-.9 2-2V5c0-1.1-.9-2-2-2zM9 17H7v-7h2v7zm4 0h-2V7h2v10zm4 0h-2v-4h2v4z\"/>\n",
              "    </g>\n",
              "</svg>\n",
              "  </button>\n",
              "\n",
              "<style>\n",
              "  .colab-df-quickchart {\n",
              "      --bg-color: #E8F0FE;\n",
              "      --fill-color: #1967D2;\n",
              "      --hover-bg-color: #E2EBFA;\n",
              "      --hover-fill-color: #174EA6;\n",
              "      --disabled-fill-color: #AAA;\n",
              "      --disabled-bg-color: #DDD;\n",
              "  }\n",
              "\n",
              "  [theme=dark] .colab-df-quickchart {\n",
              "      --bg-color: #3B4455;\n",
              "      --fill-color: #D2E3FC;\n",
              "      --hover-bg-color: #434B5C;\n",
              "      --hover-fill-color: #FFFFFF;\n",
              "      --disabled-bg-color: #3B4455;\n",
              "      --disabled-fill-color: #666;\n",
              "  }\n",
              "\n",
              "  .colab-df-quickchart {\n",
              "    background-color: var(--bg-color);\n",
              "    border: none;\n",
              "    border-radius: 50%;\n",
              "    cursor: pointer;\n",
              "    display: none;\n",
              "    fill: var(--fill-color);\n",
              "    height: 32px;\n",
              "    padding: 0;\n",
              "    width: 32px;\n",
              "  }\n",
              "\n",
              "  .colab-df-quickchart:hover {\n",
              "    background-color: var(--hover-bg-color);\n",
              "    box-shadow: 0 1px 2px rgba(60, 64, 67, 0.3), 0 1px 3px 1px rgba(60, 64, 67, 0.15);\n",
              "    fill: var(--button-hover-fill-color);\n",
              "  }\n",
              "\n",
              "  .colab-df-quickchart-complete:disabled,\n",
              "  .colab-df-quickchart-complete:disabled:hover {\n",
              "    background-color: var(--disabled-bg-color);\n",
              "    fill: var(--disabled-fill-color);\n",
              "    box-shadow: none;\n",
              "  }\n",
              "\n",
              "  .colab-df-spinner {\n",
              "    border: 2px solid var(--fill-color);\n",
              "    border-color: transparent;\n",
              "    border-bottom-color: var(--fill-color);\n",
              "    animation:\n",
              "      spin 1s steps(1) infinite;\n",
              "  }\n",
              "\n",
              "  @keyframes spin {\n",
              "    0% {\n",
              "      border-color: transparent;\n",
              "      border-bottom-color: var(--fill-color);\n",
              "      border-left-color: var(--fill-color);\n",
              "    }\n",
              "    20% {\n",
              "      border-color: transparent;\n",
              "      border-left-color: var(--fill-color);\n",
              "      border-top-color: var(--fill-color);\n",
              "    }\n",
              "    30% {\n",
              "      border-color: transparent;\n",
              "      border-left-color: var(--fill-color);\n",
              "      border-top-color: var(--fill-color);\n",
              "      border-right-color: var(--fill-color);\n",
              "    }\n",
              "    40% {\n",
              "      border-color: transparent;\n",
              "      border-right-color: var(--fill-color);\n",
              "      border-top-color: var(--fill-color);\n",
              "    }\n",
              "    60% {\n",
              "      border-color: transparent;\n",
              "      border-right-color: var(--fill-color);\n",
              "    }\n",
              "    80% {\n",
              "      border-color: transparent;\n",
              "      border-right-color: var(--fill-color);\n",
              "      border-bottom-color: var(--fill-color);\n",
              "    }\n",
              "    90% {\n",
              "      border-color: transparent;\n",
              "      border-bottom-color: var(--fill-color);\n",
              "    }\n",
              "  }\n",
              "</style>\n",
              "\n",
              "  <script>\n",
              "    async function quickchart(key) {\n",
              "      const quickchartButtonEl =\n",
              "        document.querySelector('#' + key + ' button');\n",
              "      quickchartButtonEl.disabled = true;  // To prevent multiple clicks.\n",
              "      quickchartButtonEl.classList.add('colab-df-spinner');\n",
              "      try {\n",
              "        const charts = await google.colab.kernel.invokeFunction(\n",
              "            'suggestCharts', [key], {});\n",
              "      } catch (error) {\n",
              "        console.error('Error during call to suggestCharts:', error);\n",
              "      }\n",
              "      quickchartButtonEl.classList.remove('colab-df-spinner');\n",
              "      quickchartButtonEl.classList.add('colab-df-quickchart-complete');\n",
              "    }\n",
              "    (() => {\n",
              "      let quickchartButtonEl =\n",
              "        document.querySelector('#df-caa17d22-5c1a-4f78-ba19-deb6743bc006 button');\n",
              "      quickchartButtonEl.style.display =\n",
              "        google.colab.kernel.accessAllowed ? 'block' : 'none';\n",
              "    })();\n",
              "  </script>\n",
              "</div>\n",
              "\n",
              "    </div>\n",
              "  </div>\n"
            ],
            "application/vnd.google.colaboratory.intrinsic+json": {
              "type": "dataframe",
              "variable_name": "df"
            }
          },
          "metadata": {},
          "execution_count": 3
        }
      ]
    },
    {
      "cell_type": "code",
      "source": [
        "df.info()"
      ],
      "metadata": {
        "colab": {
          "base_uri": "https://localhost:8080/"
        },
        "id": "3QFuMU_-y63K",
        "outputId": "78c20534-8d86-4c15-e097-dc86a4b089cd"
      },
      "execution_count": 4,
      "outputs": [
        {
          "output_type": "stream",
          "name": "stdout",
          "text": [
            "<class 'pandas.core.frame.DataFrame'>\n",
            "RangeIndex: 4760 entries, 0 to 4759\n",
            "Data columns (total 21 columns):\n",
            " #   Column                    Non-Null Count  Dtype  \n",
            "---  ------                    --------------  -----  \n",
            " 0   Movie_ID                  4760 non-null   int64  \n",
            " 1   Movie_Title               4760 non-null   object \n",
            " 2   Movie_Genre               4760 non-null   object \n",
            " 3   Movie_Language            4760 non-null   object \n",
            " 4   Movie_Budget              4760 non-null   int64  \n",
            " 5   Movie_Popularity          4760 non-null   float64\n",
            " 6   Movie_Release_Date        4760 non-null   object \n",
            " 7   Movie_Revenue             4760 non-null   int64  \n",
            " 8   Movie_Runtime             4758 non-null   float64\n",
            " 9   Movie_Vote                4760 non-null   float64\n",
            " 10  Movie_Vote_Count          4760 non-null   int64  \n",
            " 11  Movie_Homepage            1699 non-null   object \n",
            " 12  Movie_Keywords            4373 non-null   object \n",
            " 13  Movie_Overview            4757 non-null   object \n",
            " 14  Movie_Production_House    4760 non-null   object \n",
            " 15  Movie_Production_Country  4760 non-null   object \n",
            " 16  Movie_Spoken_Language     4760 non-null   object \n",
            " 17  Movie_Tagline             3942 non-null   object \n",
            " 18  Movie_Cast                4733 non-null   object \n",
            " 19  Movie_Crew                4760 non-null   object \n",
            " 20  Movie_Director            4738 non-null   object \n",
            "dtypes: float64(3), int64(4), object(14)\n",
            "memory usage: 781.1+ KB\n"
          ]
        }
      ]
    },
    {
      "cell_type": "code",
      "source": [
        "df.shape"
      ],
      "metadata": {
        "colab": {
          "base_uri": "https://localhost:8080/"
        },
        "id": "yvGaOHtTy_cP",
        "outputId": "adf13809-4551-41b0-b56c-bd98f4fd452b"
      },
      "execution_count": 5,
      "outputs": [
        {
          "output_type": "execute_result",
          "data": {
            "text/plain": [
              "(4760, 21)"
            ]
          },
          "metadata": {},
          "execution_count": 5
        }
      ]
    },
    {
      "cell_type": "code",
      "source": [
        "df.columns"
      ],
      "metadata": {
        "colab": {
          "base_uri": "https://localhost:8080/"
        },
        "id": "Vl80N6VFzJwH",
        "outputId": "eb0024d5-d8a9-482b-ab49-1d54201611a8"
      },
      "execution_count": 6,
      "outputs": [
        {
          "output_type": "execute_result",
          "data": {
            "text/plain": [
              "Index(['Movie_ID', 'Movie_Title', 'Movie_Genre', 'Movie_Language',\n",
              "       'Movie_Budget', 'Movie_Popularity', 'Movie_Release_Date',\n",
              "       'Movie_Revenue', 'Movie_Runtime', 'Movie_Vote', 'Movie_Vote_Count',\n",
              "       'Movie_Homepage', 'Movie_Keywords', 'Movie_Overview',\n",
              "       'Movie_Production_House', 'Movie_Production_Country',\n",
              "       'Movie_Spoken_Language', 'Movie_Tagline', 'Movie_Cast', 'Movie_Crew',\n",
              "       'Movie_Director'],\n",
              "      dtype='object')"
            ]
          },
          "metadata": {},
          "execution_count": 6
        }
      ]
    },
    {
      "cell_type": "markdown",
      "source": [
        "**Data Visualization**"
      ],
      "metadata": {
        "id": "7oYVQZPA5dSg"
      }
    },
    {
      "cell_type": "code",
      "source": [
        "df.describe()"
      ],
      "metadata": {
        "colab": {
          "base_uri": "https://localhost:8080/",
          "height": 300
        },
        "id": "YbbcezHM5WW7",
        "outputId": "31a95adb-0c25-4008-8f0e-5b5d5a08ab52"
      },
      "execution_count": 7,
      "outputs": [
        {
          "output_type": "execute_result",
          "data": {
            "text/plain": [
              "          Movie_ID  Movie_Budget  Movie_Popularity  Movie_Revenue  \\\n",
              "count  4760.000000  4.760000e+03       4760.000000   4.760000e+03   \n",
              "mean   2382.566387  2.920129e+07         21.599510   8.263743e+07   \n",
              "std    1377.270159  4.075620e+07         31.887919   1.630554e+08   \n",
              "min       1.000000  0.000000e+00          0.000372   0.000000e+00   \n",
              "25%    1190.750000  9.257500e+05          4.807074   0.000000e+00   \n",
              "50%    2380.500000  1.500000e+07         13.119058   1.944716e+07   \n",
              "75%    3572.250000  4.000000e+07         28.411929   9.341276e+07   \n",
              "max    4788.000000  3.800000e+08        875.581305   2.787965e+09   \n",
              "\n",
              "       Movie_Runtime   Movie_Vote  Movie_Vote_Count  \n",
              "count    4758.000000  4760.000000       4760.000000  \n",
              "mean      107.184111     6.113866        692.508403  \n",
              "std        21.960332     1.141294       1235.007337  \n",
              "min         0.000000     0.000000          0.000000  \n",
              "25%        94.000000     5.600000         55.000000  \n",
              "50%       104.000000     6.200000        238.000000  \n",
              "75%       118.000000     6.800000        740.250000  \n",
              "max       338.000000    10.000000      13752.000000  "
            ],
            "text/html": [
              "\n",
              "  <div id=\"df-edfd48fd-d73f-4317-9719-c2f55439ea25\" class=\"colab-df-container\">\n",
              "    <div>\n",
              "<style scoped>\n",
              "    .dataframe tbody tr th:only-of-type {\n",
              "        vertical-align: middle;\n",
              "    }\n",
              "\n",
              "    .dataframe tbody tr th {\n",
              "        vertical-align: top;\n",
              "    }\n",
              "\n",
              "    .dataframe thead th {\n",
              "        text-align: right;\n",
              "    }\n",
              "</style>\n",
              "<table border=\"1\" class=\"dataframe\">\n",
              "  <thead>\n",
              "    <tr style=\"text-align: right;\">\n",
              "      <th></th>\n",
              "      <th>Movie_ID</th>\n",
              "      <th>Movie_Budget</th>\n",
              "      <th>Movie_Popularity</th>\n",
              "      <th>Movie_Revenue</th>\n",
              "      <th>Movie_Runtime</th>\n",
              "      <th>Movie_Vote</th>\n",
              "      <th>Movie_Vote_Count</th>\n",
              "    </tr>\n",
              "  </thead>\n",
              "  <tbody>\n",
              "    <tr>\n",
              "      <th>count</th>\n",
              "      <td>4760.000000</td>\n",
              "      <td>4.760000e+03</td>\n",
              "      <td>4760.000000</td>\n",
              "      <td>4.760000e+03</td>\n",
              "      <td>4758.000000</td>\n",
              "      <td>4760.000000</td>\n",
              "      <td>4760.000000</td>\n",
              "    </tr>\n",
              "    <tr>\n",
              "      <th>mean</th>\n",
              "      <td>2382.566387</td>\n",
              "      <td>2.920129e+07</td>\n",
              "      <td>21.599510</td>\n",
              "      <td>8.263743e+07</td>\n",
              "      <td>107.184111</td>\n",
              "      <td>6.113866</td>\n",
              "      <td>692.508403</td>\n",
              "    </tr>\n",
              "    <tr>\n",
              "      <th>std</th>\n",
              "      <td>1377.270159</td>\n",
              "      <td>4.075620e+07</td>\n",
              "      <td>31.887919</td>\n",
              "      <td>1.630554e+08</td>\n",
              "      <td>21.960332</td>\n",
              "      <td>1.141294</td>\n",
              "      <td>1235.007337</td>\n",
              "    </tr>\n",
              "    <tr>\n",
              "      <th>min</th>\n",
              "      <td>1.000000</td>\n",
              "      <td>0.000000e+00</td>\n",
              "      <td>0.000372</td>\n",
              "      <td>0.000000e+00</td>\n",
              "      <td>0.000000</td>\n",
              "      <td>0.000000</td>\n",
              "      <td>0.000000</td>\n",
              "    </tr>\n",
              "    <tr>\n",
              "      <th>25%</th>\n",
              "      <td>1190.750000</td>\n",
              "      <td>9.257500e+05</td>\n",
              "      <td>4.807074</td>\n",
              "      <td>0.000000e+00</td>\n",
              "      <td>94.000000</td>\n",
              "      <td>5.600000</td>\n",
              "      <td>55.000000</td>\n",
              "    </tr>\n",
              "    <tr>\n",
              "      <th>50%</th>\n",
              "      <td>2380.500000</td>\n",
              "      <td>1.500000e+07</td>\n",
              "      <td>13.119058</td>\n",
              "      <td>1.944716e+07</td>\n",
              "      <td>104.000000</td>\n",
              "      <td>6.200000</td>\n",
              "      <td>238.000000</td>\n",
              "    </tr>\n",
              "    <tr>\n",
              "      <th>75%</th>\n",
              "      <td>3572.250000</td>\n",
              "      <td>4.000000e+07</td>\n",
              "      <td>28.411929</td>\n",
              "      <td>9.341276e+07</td>\n",
              "      <td>118.000000</td>\n",
              "      <td>6.800000</td>\n",
              "      <td>740.250000</td>\n",
              "    </tr>\n",
              "    <tr>\n",
              "      <th>max</th>\n",
              "      <td>4788.000000</td>\n",
              "      <td>3.800000e+08</td>\n",
              "      <td>875.581305</td>\n",
              "      <td>2.787965e+09</td>\n",
              "      <td>338.000000</td>\n",
              "      <td>10.000000</td>\n",
              "      <td>13752.000000</td>\n",
              "    </tr>\n",
              "  </tbody>\n",
              "</table>\n",
              "</div>\n",
              "    <div class=\"colab-df-buttons\">\n",
              "\n",
              "  <div class=\"colab-df-container\">\n",
              "    <button class=\"colab-df-convert\" onclick=\"convertToInteractive('df-edfd48fd-d73f-4317-9719-c2f55439ea25')\"\n",
              "            title=\"Convert this dataframe to an interactive table.\"\n",
              "            style=\"display:none;\">\n",
              "\n",
              "  <svg xmlns=\"http://www.w3.org/2000/svg\" height=\"24px\" viewBox=\"0 -960 960 960\">\n",
              "    <path d=\"M120-120v-720h720v720H120Zm60-500h600v-160H180v160Zm220 220h160v-160H400v160Zm0 220h160v-160H400v160ZM180-400h160v-160H180v160Zm440 0h160v-160H620v160ZM180-180h160v-160H180v160Zm440 0h160v-160H620v160Z\"/>\n",
              "  </svg>\n",
              "    </button>\n",
              "\n",
              "  <style>\n",
              "    .colab-df-container {\n",
              "      display:flex;\n",
              "      gap: 12px;\n",
              "    }\n",
              "\n",
              "    .colab-df-convert {\n",
              "      background-color: #E8F0FE;\n",
              "      border: none;\n",
              "      border-radius: 50%;\n",
              "      cursor: pointer;\n",
              "      display: none;\n",
              "      fill: #1967D2;\n",
              "      height: 32px;\n",
              "      padding: 0 0 0 0;\n",
              "      width: 32px;\n",
              "    }\n",
              "\n",
              "    .colab-df-convert:hover {\n",
              "      background-color: #E2EBFA;\n",
              "      box-shadow: 0px 1px 2px rgba(60, 64, 67, 0.3), 0px 1px 3px 1px rgba(60, 64, 67, 0.15);\n",
              "      fill: #174EA6;\n",
              "    }\n",
              "\n",
              "    .colab-df-buttons div {\n",
              "      margin-bottom: 4px;\n",
              "    }\n",
              "\n",
              "    [theme=dark] .colab-df-convert {\n",
              "      background-color: #3B4455;\n",
              "      fill: #D2E3FC;\n",
              "    }\n",
              "\n",
              "    [theme=dark] .colab-df-convert:hover {\n",
              "      background-color: #434B5C;\n",
              "      box-shadow: 0px 1px 3px 1px rgba(0, 0, 0, 0.15);\n",
              "      filter: drop-shadow(0px 1px 2px rgba(0, 0, 0, 0.3));\n",
              "      fill: #FFFFFF;\n",
              "    }\n",
              "  </style>\n",
              "\n",
              "    <script>\n",
              "      const buttonEl =\n",
              "        document.querySelector('#df-edfd48fd-d73f-4317-9719-c2f55439ea25 button.colab-df-convert');\n",
              "      buttonEl.style.display =\n",
              "        google.colab.kernel.accessAllowed ? 'block' : 'none';\n",
              "\n",
              "      async function convertToInteractive(key) {\n",
              "        const element = document.querySelector('#df-edfd48fd-d73f-4317-9719-c2f55439ea25');\n",
              "        const dataTable =\n",
              "          await google.colab.kernel.invokeFunction('convertToInteractive',\n",
              "                                                    [key], {});\n",
              "        if (!dataTable) return;\n",
              "\n",
              "        const docLinkHtml = 'Like what you see? Visit the ' +\n",
              "          '<a target=\"_blank\" href=https://colab.research.google.com/notebooks/data_table.ipynb>data table notebook</a>'\n",
              "          + ' to learn more about interactive tables.';\n",
              "        element.innerHTML = '';\n",
              "        dataTable['output_type'] = 'display_data';\n",
              "        await google.colab.output.renderOutput(dataTable, element);\n",
              "        const docLink = document.createElement('div');\n",
              "        docLink.innerHTML = docLinkHtml;\n",
              "        element.appendChild(docLink);\n",
              "      }\n",
              "    </script>\n",
              "  </div>\n",
              "\n",
              "\n",
              "<div id=\"df-7656af9c-16d5-48a1-a570-ce7d7ccee288\">\n",
              "  <button class=\"colab-df-quickchart\" onclick=\"quickchart('df-7656af9c-16d5-48a1-a570-ce7d7ccee288')\"\n",
              "            title=\"Suggest charts\"\n",
              "            style=\"display:none;\">\n",
              "\n",
              "<svg xmlns=\"http://www.w3.org/2000/svg\" height=\"24px\"viewBox=\"0 0 24 24\"\n",
              "     width=\"24px\">\n",
              "    <g>\n",
              "        <path d=\"M19 3H5c-1.1 0-2 .9-2 2v14c0 1.1.9 2 2 2h14c1.1 0 2-.9 2-2V5c0-1.1-.9-2-2-2zM9 17H7v-7h2v7zm4 0h-2V7h2v10zm4 0h-2v-4h2v4z\"/>\n",
              "    </g>\n",
              "</svg>\n",
              "  </button>\n",
              "\n",
              "<style>\n",
              "  .colab-df-quickchart {\n",
              "      --bg-color: #E8F0FE;\n",
              "      --fill-color: #1967D2;\n",
              "      --hover-bg-color: #E2EBFA;\n",
              "      --hover-fill-color: #174EA6;\n",
              "      --disabled-fill-color: #AAA;\n",
              "      --disabled-bg-color: #DDD;\n",
              "  }\n",
              "\n",
              "  [theme=dark] .colab-df-quickchart {\n",
              "      --bg-color: #3B4455;\n",
              "      --fill-color: #D2E3FC;\n",
              "      --hover-bg-color: #434B5C;\n",
              "      --hover-fill-color: #FFFFFF;\n",
              "      --disabled-bg-color: #3B4455;\n",
              "      --disabled-fill-color: #666;\n",
              "  }\n",
              "\n",
              "  .colab-df-quickchart {\n",
              "    background-color: var(--bg-color);\n",
              "    border: none;\n",
              "    border-radius: 50%;\n",
              "    cursor: pointer;\n",
              "    display: none;\n",
              "    fill: var(--fill-color);\n",
              "    height: 32px;\n",
              "    padding: 0;\n",
              "    width: 32px;\n",
              "  }\n",
              "\n",
              "  .colab-df-quickchart:hover {\n",
              "    background-color: var(--hover-bg-color);\n",
              "    box-shadow: 0 1px 2px rgba(60, 64, 67, 0.3), 0 1px 3px 1px rgba(60, 64, 67, 0.15);\n",
              "    fill: var(--button-hover-fill-color);\n",
              "  }\n",
              "\n",
              "  .colab-df-quickchart-complete:disabled,\n",
              "  .colab-df-quickchart-complete:disabled:hover {\n",
              "    background-color: var(--disabled-bg-color);\n",
              "    fill: var(--disabled-fill-color);\n",
              "    box-shadow: none;\n",
              "  }\n",
              "\n",
              "  .colab-df-spinner {\n",
              "    border: 2px solid var(--fill-color);\n",
              "    border-color: transparent;\n",
              "    border-bottom-color: var(--fill-color);\n",
              "    animation:\n",
              "      spin 1s steps(1) infinite;\n",
              "  }\n",
              "\n",
              "  @keyframes spin {\n",
              "    0% {\n",
              "      border-color: transparent;\n",
              "      border-bottom-color: var(--fill-color);\n",
              "      border-left-color: var(--fill-color);\n",
              "    }\n",
              "    20% {\n",
              "      border-color: transparent;\n",
              "      border-left-color: var(--fill-color);\n",
              "      border-top-color: var(--fill-color);\n",
              "    }\n",
              "    30% {\n",
              "      border-color: transparent;\n",
              "      border-left-color: var(--fill-color);\n",
              "      border-top-color: var(--fill-color);\n",
              "      border-right-color: var(--fill-color);\n",
              "    }\n",
              "    40% {\n",
              "      border-color: transparent;\n",
              "      border-right-color: var(--fill-color);\n",
              "      border-top-color: var(--fill-color);\n",
              "    }\n",
              "    60% {\n",
              "      border-color: transparent;\n",
              "      border-right-color: var(--fill-color);\n",
              "    }\n",
              "    80% {\n",
              "      border-color: transparent;\n",
              "      border-right-color: var(--fill-color);\n",
              "      border-bottom-color: var(--fill-color);\n",
              "    }\n",
              "    90% {\n",
              "      border-color: transparent;\n",
              "      border-bottom-color: var(--fill-color);\n",
              "    }\n",
              "  }\n",
              "</style>\n",
              "\n",
              "  <script>\n",
              "    async function quickchart(key) {\n",
              "      const quickchartButtonEl =\n",
              "        document.querySelector('#' + key + ' button');\n",
              "      quickchartButtonEl.disabled = true;  // To prevent multiple clicks.\n",
              "      quickchartButtonEl.classList.add('colab-df-spinner');\n",
              "      try {\n",
              "        const charts = await google.colab.kernel.invokeFunction(\n",
              "            'suggestCharts', [key], {});\n",
              "      } catch (error) {\n",
              "        console.error('Error during call to suggestCharts:', error);\n",
              "      }\n",
              "      quickchartButtonEl.classList.remove('colab-df-spinner');\n",
              "      quickchartButtonEl.classList.add('colab-df-quickchart-complete');\n",
              "    }\n",
              "    (() => {\n",
              "      let quickchartButtonEl =\n",
              "        document.querySelector('#df-7656af9c-16d5-48a1-a570-ce7d7ccee288 button');\n",
              "      quickchartButtonEl.style.display =\n",
              "        google.colab.kernel.accessAllowed ? 'block' : 'none';\n",
              "    })();\n",
              "  </script>\n",
              "</div>\n",
              "\n",
              "    </div>\n",
              "  </div>\n"
            ],
            "application/vnd.google.colaboratory.intrinsic+json": {
              "type": "dataframe",
              "summary": "{\n  \"name\": \"df\",\n  \"rows\": 8,\n  \"fields\": [\n    {\n      \"column\": \"Movie_ID\",\n      \"properties\": {\n        \"dtype\": \"number\",\n        \"std\": 1720.2332807214548,\n        \"min\": 1.0,\n        \"max\": 4788.0,\n        \"num_unique_values\": 8,\n        \"samples\": [\n          2382.5663865546217,\n          2380.5,\n          4760.0\n        ],\n        \"semantic_type\": \"\",\n        \"description\": \"\"\n      }\n    },\n    {\n      \"column\": \"Movie_Budget\",\n      \"properties\": {\n        \"dtype\": \"number\",\n        \"std\": 129145160.11869688,\n        \"min\": 0.0,\n        \"max\": 380000000.0,\n        \"num_unique_values\": 8,\n        \"samples\": [\n          29201287.084033612,\n          15000000.0,\n          4760.0\n        ],\n        \"semantic_type\": \"\",\n        \"description\": \"\"\n      }\n    },\n    {\n      \"column\": \"Movie_Popularity\",\n      \"properties\": {\n        \"dtype\": \"number\",\n        \"std\": 1661.104044760524,\n        \"min\": 0.000372,\n        \"max\": 4760.0,\n        \"num_unique_values\": 8,\n        \"samples\": [\n          21.599509934663867,\n          13.119057999999999,\n          4760.0\n        ],\n        \"semantic_type\": \"\",\n        \"description\": \"\"\n      }\n    },\n    {\n      \"column\": \"Movie_Revenue\",\n      \"properties\": {\n        \"dtype\": \"number\",\n        \"std\": 969366059.942302,\n        \"min\": 0.0,\n        \"max\": 2787965087.0,\n        \"num_unique_values\": 7,\n        \"samples\": [\n          4760.0,\n          82637425.44285715,\n          93412759.75\n        ],\n        \"semantic_type\": \"\",\n        \"description\": \"\"\n      }\n    },\n    {\n      \"column\": \"Movie_Runtime\",\n      \"properties\": {\n        \"dtype\": \"number\",\n        \"std\": 1645.7876738678392,\n        \"min\": 0.0,\n        \"max\": 4758.0,\n        \"num_unique_values\": 8,\n        \"samples\": [\n          107.18411097099622,\n          104.0,\n          4758.0\n        ],\n        \"semantic_type\": \"\",\n        \"description\": \"\"\n      }\n    },\n    {\n      \"column\": \"Movie_Vote\",\n      \"properties\": {\n        \"dtype\": \"number\",\n        \"std\": 1681.1061997129445,\n        \"min\": 0.0,\n        \"max\": 4760.0,\n        \"num_unique_values\": 8,\n        \"samples\": [\n          6.113865546218487,\n          6.2,\n          4760.0\n        ],\n        \"semantic_type\": \"\",\n        \"description\": \"\"\n      }\n    },\n    {\n      \"column\": \"Movie_Vote_Count\",\n      \"properties\": {\n        \"dtype\": \"number\",\n        \"std\": 4732.148341860835,\n        \"min\": 0.0,\n        \"max\": 13752.0,\n        \"num_unique_values\": 8,\n        \"samples\": [\n          692.5084033613446,\n          238.0,\n          4760.0\n        ],\n        \"semantic_type\": \"\",\n        \"description\": \"\"\n      }\n    }\n  ]\n}"
            }
          },
          "metadata": {},
          "execution_count": 7
        }
      ]
    },
    {
      "cell_type": "markdown",
      "source": [
        "**Get Feature Selection**"
      ],
      "metadata": {
        "id": "9Nr8kGYv5hoa"
      }
    },
    {
      "cell_type": "code",
      "source": [
        "df_features = df[['Movie_Genre','Movie_Keywords','Movie_Tagline','Movie_Cast','Movie_Director']].fillna('')"
      ],
      "metadata": {
        "id": "xBj9G8NJzPpH"
      },
      "execution_count": 8,
      "outputs": []
    },
    {
      "cell_type": "code",
      "source": [
        "df_features.shape"
      ],
      "metadata": {
        "colab": {
          "base_uri": "https://localhost:8080/"
        },
        "id": "1aDr8-oYzuCb",
        "outputId": "a5aa97b3-0b02-40a2-daaf-d64b06abefd3"
      },
      "execution_count": 9,
      "outputs": [
        {
          "output_type": "execute_result",
          "data": {
            "text/plain": [
              "(4760, 5)"
            ]
          },
          "metadata": {},
          "execution_count": 9
        }
      ]
    },
    {
      "cell_type": "code",
      "source": [
        "df_features"
      ],
      "metadata": {
        "colab": {
          "base_uri": "https://localhost:8080/",
          "height": 493
        },
        "id": "c048Ayo6z0xL",
        "outputId": "94022202-8f00-4c1b-f880-7dab597c23a9"
      },
      "execution_count": 10,
      "outputs": [
        {
          "output_type": "execute_result",
          "data": {
            "text/plain": [
              "                           Movie_Genre  \\\n",
              "0                         Crime Comedy   \n",
              "1     Adventure Action Science Fiction   \n",
              "2                     Animation Family   \n",
              "3                 Comedy Drama Romance   \n",
              "4                                Drama   \n",
              "...                                ...   \n",
              "4755                            Horror   \n",
              "4756               Comedy Family Drama   \n",
              "4757                    Thriller Drama   \n",
              "4758                            Family   \n",
              "4759                       Documentary   \n",
              "\n",
              "                                         Movie_Keywords  \\\n",
              "0             hotel new year's eve witch bet hotel room   \n",
              "1           android galaxy hermit death star lightsaber   \n",
              "2     father son relationship harbor underwater fish...   \n",
              "3     vietnam veteran hippie mentally disabled runni...   \n",
              "4     male nudity female nudity adultery midlife cri...   \n",
              "...                                                 ...   \n",
              "4755                                                      \n",
              "4756                                                      \n",
              "4757                     christian film sex trafficking   \n",
              "4758                                                      \n",
              "4759  music actors legendary perfomer classic hollyw...   \n",
              "\n",
              "                                          Movie_Tagline  \\\n",
              "0     Twelve outrageous guests. Four scandalous requ...   \n",
              "1          A long time ago in a galaxy far, far away...   \n",
              "2     There are 3.7 trillion fish in the ocean, they...   \n",
              "3     The world will never be the same, once you've ...   \n",
              "4                                          Look closer.   \n",
              "...                                                 ...   \n",
              "4755                The hot spot where Satan's waitin'.   \n",
              "4756           It’s better to stand out than to fit in.   \n",
              "4757           She never knew it could happen to her...   \n",
              "4758                                                      \n",
              "4759                                                      \n",
              "\n",
              "                                             Movie_Cast     Movie_Director  \n",
              "0     Tim Roth Antonio Banderas Jennifer Beals Madon...     Allison Anders  \n",
              "1     Mark Hamill Harrison Ford Carrie Fisher Peter ...       George Lucas  \n",
              "2     Albert Brooks Ellen DeGeneres Alexander Gould ...     Andrew Stanton  \n",
              "3     Tom Hanks Robin Wright Gary Sinise Mykelti Wil...    Robert Zemeckis  \n",
              "4     Kevin Spacey Annette Bening Thora Birch Wes Be...         Sam Mendes  \n",
              "...                                                 ...                ...  \n",
              "4755  Lisa Hart Carroll Michael Des Barres Paul Drak...         Pece Dingo  \n",
              "4756  Roni Akurati Brighton Sharbino Jason Lee Anjul...       Frank Lotito  \n",
              "4757  Nicole Smolen Kim Baldwin Ariana Stephens Brys...       Jaco Booyens  \n",
              "4758                                                                        \n",
              "4759                                    Tony Oppedisano  Simon Napier-Bell  \n",
              "\n",
              "[4760 rows x 5 columns]"
            ],
            "text/html": [
              "\n",
              "  <div id=\"df-80650f63-93b7-4c17-8b7b-3dfed4692f7d\" class=\"colab-df-container\">\n",
              "    <div>\n",
              "<style scoped>\n",
              "    .dataframe tbody tr th:only-of-type {\n",
              "        vertical-align: middle;\n",
              "    }\n",
              "\n",
              "    .dataframe tbody tr th {\n",
              "        vertical-align: top;\n",
              "    }\n",
              "\n",
              "    .dataframe thead th {\n",
              "        text-align: right;\n",
              "    }\n",
              "</style>\n",
              "<table border=\"1\" class=\"dataframe\">\n",
              "  <thead>\n",
              "    <tr style=\"text-align: right;\">\n",
              "      <th></th>\n",
              "      <th>Movie_Genre</th>\n",
              "      <th>Movie_Keywords</th>\n",
              "      <th>Movie_Tagline</th>\n",
              "      <th>Movie_Cast</th>\n",
              "      <th>Movie_Director</th>\n",
              "    </tr>\n",
              "  </thead>\n",
              "  <tbody>\n",
              "    <tr>\n",
              "      <th>0</th>\n",
              "      <td>Crime Comedy</td>\n",
              "      <td>hotel new year's eve witch bet hotel room</td>\n",
              "      <td>Twelve outrageous guests. Four scandalous requ...</td>\n",
              "      <td>Tim Roth Antonio Banderas Jennifer Beals Madon...</td>\n",
              "      <td>Allison Anders</td>\n",
              "    </tr>\n",
              "    <tr>\n",
              "      <th>1</th>\n",
              "      <td>Adventure Action Science Fiction</td>\n",
              "      <td>android galaxy hermit death star lightsaber</td>\n",
              "      <td>A long time ago in a galaxy far, far away...</td>\n",
              "      <td>Mark Hamill Harrison Ford Carrie Fisher Peter ...</td>\n",
              "      <td>George Lucas</td>\n",
              "    </tr>\n",
              "    <tr>\n",
              "      <th>2</th>\n",
              "      <td>Animation Family</td>\n",
              "      <td>father son relationship harbor underwater fish...</td>\n",
              "      <td>There are 3.7 trillion fish in the ocean, they...</td>\n",
              "      <td>Albert Brooks Ellen DeGeneres Alexander Gould ...</td>\n",
              "      <td>Andrew Stanton</td>\n",
              "    </tr>\n",
              "    <tr>\n",
              "      <th>3</th>\n",
              "      <td>Comedy Drama Romance</td>\n",
              "      <td>vietnam veteran hippie mentally disabled runni...</td>\n",
              "      <td>The world will never be the same, once you've ...</td>\n",
              "      <td>Tom Hanks Robin Wright Gary Sinise Mykelti Wil...</td>\n",
              "      <td>Robert Zemeckis</td>\n",
              "    </tr>\n",
              "    <tr>\n",
              "      <th>4</th>\n",
              "      <td>Drama</td>\n",
              "      <td>male nudity female nudity adultery midlife cri...</td>\n",
              "      <td>Look closer.</td>\n",
              "      <td>Kevin Spacey Annette Bening Thora Birch Wes Be...</td>\n",
              "      <td>Sam Mendes</td>\n",
              "    </tr>\n",
              "    <tr>\n",
              "      <th>...</th>\n",
              "      <td>...</td>\n",
              "      <td>...</td>\n",
              "      <td>...</td>\n",
              "      <td>...</td>\n",
              "      <td>...</td>\n",
              "    </tr>\n",
              "    <tr>\n",
              "      <th>4755</th>\n",
              "      <td>Horror</td>\n",
              "      <td></td>\n",
              "      <td>The hot spot where Satan's waitin'.</td>\n",
              "      <td>Lisa Hart Carroll Michael Des Barres Paul Drak...</td>\n",
              "      <td>Pece Dingo</td>\n",
              "    </tr>\n",
              "    <tr>\n",
              "      <th>4756</th>\n",
              "      <td>Comedy Family Drama</td>\n",
              "      <td></td>\n",
              "      <td>It’s better to stand out than to fit in.</td>\n",
              "      <td>Roni Akurati Brighton Sharbino Jason Lee Anjul...</td>\n",
              "      <td>Frank Lotito</td>\n",
              "    </tr>\n",
              "    <tr>\n",
              "      <th>4757</th>\n",
              "      <td>Thriller Drama</td>\n",
              "      <td>christian film sex trafficking</td>\n",
              "      <td>She never knew it could happen to her...</td>\n",
              "      <td>Nicole Smolen Kim Baldwin Ariana Stephens Brys...</td>\n",
              "      <td>Jaco Booyens</td>\n",
              "    </tr>\n",
              "    <tr>\n",
              "      <th>4758</th>\n",
              "      <td>Family</td>\n",
              "      <td></td>\n",
              "      <td></td>\n",
              "      <td></td>\n",
              "      <td></td>\n",
              "    </tr>\n",
              "    <tr>\n",
              "      <th>4759</th>\n",
              "      <td>Documentary</td>\n",
              "      <td>music actors legendary perfomer classic hollyw...</td>\n",
              "      <td></td>\n",
              "      <td>Tony Oppedisano</td>\n",
              "      <td>Simon Napier-Bell</td>\n",
              "    </tr>\n",
              "  </tbody>\n",
              "</table>\n",
              "<p>4760 rows × 5 columns</p>\n",
              "</div>\n",
              "    <div class=\"colab-df-buttons\">\n",
              "\n",
              "  <div class=\"colab-df-container\">\n",
              "    <button class=\"colab-df-convert\" onclick=\"convertToInteractive('df-80650f63-93b7-4c17-8b7b-3dfed4692f7d')\"\n",
              "            title=\"Convert this dataframe to an interactive table.\"\n",
              "            style=\"display:none;\">\n",
              "\n",
              "  <svg xmlns=\"http://www.w3.org/2000/svg\" height=\"24px\" viewBox=\"0 -960 960 960\">\n",
              "    <path d=\"M120-120v-720h720v720H120Zm60-500h600v-160H180v160Zm220 220h160v-160H400v160Zm0 220h160v-160H400v160ZM180-400h160v-160H180v160Zm440 0h160v-160H620v160ZM180-180h160v-160H180v160Zm440 0h160v-160H620v160Z\"/>\n",
              "  </svg>\n",
              "    </button>\n",
              "\n",
              "  <style>\n",
              "    .colab-df-container {\n",
              "      display:flex;\n",
              "      gap: 12px;\n",
              "    }\n",
              "\n",
              "    .colab-df-convert {\n",
              "      background-color: #E8F0FE;\n",
              "      border: none;\n",
              "      border-radius: 50%;\n",
              "      cursor: pointer;\n",
              "      display: none;\n",
              "      fill: #1967D2;\n",
              "      height: 32px;\n",
              "      padding: 0 0 0 0;\n",
              "      width: 32px;\n",
              "    }\n",
              "\n",
              "    .colab-df-convert:hover {\n",
              "      background-color: #E2EBFA;\n",
              "      box-shadow: 0px 1px 2px rgba(60, 64, 67, 0.3), 0px 1px 3px 1px rgba(60, 64, 67, 0.15);\n",
              "      fill: #174EA6;\n",
              "    }\n",
              "\n",
              "    .colab-df-buttons div {\n",
              "      margin-bottom: 4px;\n",
              "    }\n",
              "\n",
              "    [theme=dark] .colab-df-convert {\n",
              "      background-color: #3B4455;\n",
              "      fill: #D2E3FC;\n",
              "    }\n",
              "\n",
              "    [theme=dark] .colab-df-convert:hover {\n",
              "      background-color: #434B5C;\n",
              "      box-shadow: 0px 1px 3px 1px rgba(0, 0, 0, 0.15);\n",
              "      filter: drop-shadow(0px 1px 2px rgba(0, 0, 0, 0.3));\n",
              "      fill: #FFFFFF;\n",
              "    }\n",
              "  </style>\n",
              "\n",
              "    <script>\n",
              "      const buttonEl =\n",
              "        document.querySelector('#df-80650f63-93b7-4c17-8b7b-3dfed4692f7d button.colab-df-convert');\n",
              "      buttonEl.style.display =\n",
              "        google.colab.kernel.accessAllowed ? 'block' : 'none';\n",
              "\n",
              "      async function convertToInteractive(key) {\n",
              "        const element = document.querySelector('#df-80650f63-93b7-4c17-8b7b-3dfed4692f7d');\n",
              "        const dataTable =\n",
              "          await google.colab.kernel.invokeFunction('convertToInteractive',\n",
              "                                                    [key], {});\n",
              "        if (!dataTable) return;\n",
              "\n",
              "        const docLinkHtml = 'Like what you see? Visit the ' +\n",
              "          '<a target=\"_blank\" href=https://colab.research.google.com/notebooks/data_table.ipynb>data table notebook</a>'\n",
              "          + ' to learn more about interactive tables.';\n",
              "        element.innerHTML = '';\n",
              "        dataTable['output_type'] = 'display_data';\n",
              "        await google.colab.output.renderOutput(dataTable, element);\n",
              "        const docLink = document.createElement('div');\n",
              "        docLink.innerHTML = docLinkHtml;\n",
              "        element.appendChild(docLink);\n",
              "      }\n",
              "    </script>\n",
              "  </div>\n",
              "\n",
              "\n",
              "<div id=\"df-bfa9ba43-7000-4671-bd36-d74918b86275\">\n",
              "  <button class=\"colab-df-quickchart\" onclick=\"quickchart('df-bfa9ba43-7000-4671-bd36-d74918b86275')\"\n",
              "            title=\"Suggest charts\"\n",
              "            style=\"display:none;\">\n",
              "\n",
              "<svg xmlns=\"http://www.w3.org/2000/svg\" height=\"24px\"viewBox=\"0 0 24 24\"\n",
              "     width=\"24px\">\n",
              "    <g>\n",
              "        <path d=\"M19 3H5c-1.1 0-2 .9-2 2v14c0 1.1.9 2 2 2h14c1.1 0 2-.9 2-2V5c0-1.1-.9-2-2-2zM9 17H7v-7h2v7zm4 0h-2V7h2v10zm4 0h-2v-4h2v4z\"/>\n",
              "    </g>\n",
              "</svg>\n",
              "  </button>\n",
              "\n",
              "<style>\n",
              "  .colab-df-quickchart {\n",
              "      --bg-color: #E8F0FE;\n",
              "      --fill-color: #1967D2;\n",
              "      --hover-bg-color: #E2EBFA;\n",
              "      --hover-fill-color: #174EA6;\n",
              "      --disabled-fill-color: #AAA;\n",
              "      --disabled-bg-color: #DDD;\n",
              "  }\n",
              "\n",
              "  [theme=dark] .colab-df-quickchart {\n",
              "      --bg-color: #3B4455;\n",
              "      --fill-color: #D2E3FC;\n",
              "      --hover-bg-color: #434B5C;\n",
              "      --hover-fill-color: #FFFFFF;\n",
              "      --disabled-bg-color: #3B4455;\n",
              "      --disabled-fill-color: #666;\n",
              "  }\n",
              "\n",
              "  .colab-df-quickchart {\n",
              "    background-color: var(--bg-color);\n",
              "    border: none;\n",
              "    border-radius: 50%;\n",
              "    cursor: pointer;\n",
              "    display: none;\n",
              "    fill: var(--fill-color);\n",
              "    height: 32px;\n",
              "    padding: 0;\n",
              "    width: 32px;\n",
              "  }\n",
              "\n",
              "  .colab-df-quickchart:hover {\n",
              "    background-color: var(--hover-bg-color);\n",
              "    box-shadow: 0 1px 2px rgba(60, 64, 67, 0.3), 0 1px 3px 1px rgba(60, 64, 67, 0.15);\n",
              "    fill: var(--button-hover-fill-color);\n",
              "  }\n",
              "\n",
              "  .colab-df-quickchart-complete:disabled,\n",
              "  .colab-df-quickchart-complete:disabled:hover {\n",
              "    background-color: var(--disabled-bg-color);\n",
              "    fill: var(--disabled-fill-color);\n",
              "    box-shadow: none;\n",
              "  }\n",
              "\n",
              "  .colab-df-spinner {\n",
              "    border: 2px solid var(--fill-color);\n",
              "    border-color: transparent;\n",
              "    border-bottom-color: var(--fill-color);\n",
              "    animation:\n",
              "      spin 1s steps(1) infinite;\n",
              "  }\n",
              "\n",
              "  @keyframes spin {\n",
              "    0% {\n",
              "      border-color: transparent;\n",
              "      border-bottom-color: var(--fill-color);\n",
              "      border-left-color: var(--fill-color);\n",
              "    }\n",
              "    20% {\n",
              "      border-color: transparent;\n",
              "      border-left-color: var(--fill-color);\n",
              "      border-top-color: var(--fill-color);\n",
              "    }\n",
              "    30% {\n",
              "      border-color: transparent;\n",
              "      border-left-color: var(--fill-color);\n",
              "      border-top-color: var(--fill-color);\n",
              "      border-right-color: var(--fill-color);\n",
              "    }\n",
              "    40% {\n",
              "      border-color: transparent;\n",
              "      border-right-color: var(--fill-color);\n",
              "      border-top-color: var(--fill-color);\n",
              "    }\n",
              "    60% {\n",
              "      border-color: transparent;\n",
              "      border-right-color: var(--fill-color);\n",
              "    }\n",
              "    80% {\n",
              "      border-color: transparent;\n",
              "      border-right-color: var(--fill-color);\n",
              "      border-bottom-color: var(--fill-color);\n",
              "    }\n",
              "    90% {\n",
              "      border-color: transparent;\n",
              "      border-bottom-color: var(--fill-color);\n",
              "    }\n",
              "  }\n",
              "</style>\n",
              "\n",
              "  <script>\n",
              "    async function quickchart(key) {\n",
              "      const quickchartButtonEl =\n",
              "        document.querySelector('#' + key + ' button');\n",
              "      quickchartButtonEl.disabled = true;  // To prevent multiple clicks.\n",
              "      quickchartButtonEl.classList.add('colab-df-spinner');\n",
              "      try {\n",
              "        const charts = await google.colab.kernel.invokeFunction(\n",
              "            'suggestCharts', [key], {});\n",
              "      } catch (error) {\n",
              "        console.error('Error during call to suggestCharts:', error);\n",
              "      }\n",
              "      quickchartButtonEl.classList.remove('colab-df-spinner');\n",
              "      quickchartButtonEl.classList.add('colab-df-quickchart-complete');\n",
              "    }\n",
              "    (() => {\n",
              "      let quickchartButtonEl =\n",
              "        document.querySelector('#df-bfa9ba43-7000-4671-bd36-d74918b86275 button');\n",
              "      quickchartButtonEl.style.display =\n",
              "        google.colab.kernel.accessAllowed ? 'block' : 'none';\n",
              "    })();\n",
              "  </script>\n",
              "</div>\n",
              "\n",
              "  <div id=\"id_089fea0f-e84f-434d-84ed-a0491d0b78ad\">\n",
              "    <style>\n",
              "      .colab-df-generate {\n",
              "        background-color: #E8F0FE;\n",
              "        border: none;\n",
              "        border-radius: 50%;\n",
              "        cursor: pointer;\n",
              "        display: none;\n",
              "        fill: #1967D2;\n",
              "        height: 32px;\n",
              "        padding: 0 0 0 0;\n",
              "        width: 32px;\n",
              "      }\n",
              "\n",
              "      .colab-df-generate:hover {\n",
              "        background-color: #E2EBFA;\n",
              "        box-shadow: 0px 1px 2px rgba(60, 64, 67, 0.3), 0px 1px 3px 1px rgba(60, 64, 67, 0.15);\n",
              "        fill: #174EA6;\n",
              "      }\n",
              "\n",
              "      [theme=dark] .colab-df-generate {\n",
              "        background-color: #3B4455;\n",
              "        fill: #D2E3FC;\n",
              "      }\n",
              "\n",
              "      [theme=dark] .colab-df-generate:hover {\n",
              "        background-color: #434B5C;\n",
              "        box-shadow: 0px 1px 3px 1px rgba(0, 0, 0, 0.15);\n",
              "        filter: drop-shadow(0px 1px 2px rgba(0, 0, 0, 0.3));\n",
              "        fill: #FFFFFF;\n",
              "      }\n",
              "    </style>\n",
              "    <button class=\"colab-df-generate\" onclick=\"generateWithVariable('df_features')\"\n",
              "            title=\"Generate code using this dataframe.\"\n",
              "            style=\"display:none;\">\n",
              "\n",
              "  <svg xmlns=\"http://www.w3.org/2000/svg\" height=\"24px\"viewBox=\"0 0 24 24\"\n",
              "       width=\"24px\">\n",
              "    <path d=\"M7,19H8.4L18.45,9,17,7.55,7,17.6ZM5,21V16.75L18.45,3.32a2,2,0,0,1,2.83,0l1.4,1.43a1.91,1.91,0,0,1,.58,1.4,1.91,1.91,0,0,1-.58,1.4L9.25,21ZM18.45,9,17,7.55Zm-12,3A5.31,5.31,0,0,0,4.9,8.1,5.31,5.31,0,0,0,1,6.5,5.31,5.31,0,0,0,4.9,4.9,5.31,5.31,0,0,0,6.5,1,5.31,5.31,0,0,0,8.1,4.9,5.31,5.31,0,0,0,12,6.5,5.46,5.46,0,0,0,6.5,12Z\"/>\n",
              "  </svg>\n",
              "    </button>\n",
              "    <script>\n",
              "      (() => {\n",
              "      const buttonEl =\n",
              "        document.querySelector('#id_089fea0f-e84f-434d-84ed-a0491d0b78ad button.colab-df-generate');\n",
              "      buttonEl.style.display =\n",
              "        google.colab.kernel.accessAllowed ? 'block' : 'none';\n",
              "\n",
              "      buttonEl.onclick = () => {\n",
              "        google.colab.notebook.generateWithVariable('df_features');\n",
              "      }\n",
              "      })();\n",
              "    </script>\n",
              "  </div>\n",
              "\n",
              "    </div>\n",
              "  </div>\n"
            ],
            "application/vnd.google.colaboratory.intrinsic+json": {
              "type": "dataframe",
              "variable_name": "df_features",
              "summary": "{\n  \"name\": \"df_features\",\n  \"rows\": 4760,\n  \"fields\": [\n    {\n      \"column\": \"Movie_Genre\",\n      \"properties\": {\n        \"dtype\": \"category\",\n        \"num_unique_values\": 1164,\n        \"samples\": [\n          \"Family Animation Adventure\",\n          \"Adventure Science Fiction Action\",\n          \"Action Crime Drama Romance Thriller\"\n        ],\n        \"semantic_type\": \"\",\n        \"description\": \"\"\n      }\n    },\n    {\n      \"column\": \"Movie_Keywords\",\n      \"properties\": {\n        \"dtype\": \"string\",\n        \"num_unique_values\": 4203,\n        \"samples\": [\n          \"canada nazis sequel spin off ancient evil\",\n          \"sex professor wedding woman director columbia university\",\n          \"prophecy sea beach gold small town\"\n        ],\n        \"semantic_type\": \"\",\n        \"description\": \"\"\n      }\n    },\n    {\n      \"column\": \"Movie_Tagline\",\n      \"properties\": {\n        \"dtype\": \"string\",\n        \"num_unique_values\": 3928,\n        \"samples\": [\n          \"The messenger must be silenced.\",\n          \"It's not the house that's haunted.\",\n          \"The final hunt begins.\"\n        ],\n        \"semantic_type\": \"\",\n        \"description\": \"\"\n      }\n    },\n    {\n      \"column\": \"Movie_Cast\",\n      \"properties\": {\n        \"dtype\": \"string\",\n        \"num_unique_values\": 4715,\n        \"samples\": [\n          \"Robin Tunney Fairuza Balk Neve Campbell Rachel True Skeet Ulrich\",\n          \"Peter Sellers Christopher Plummer Herbert Lom Catherine Schell Peter Arne\",\n          \"John Wayne Laraine Day Cedric Hardwicke Judith Anderson Anthony Quinn\"\n        ],\n        \"semantic_type\": \"\",\n        \"description\": \"\"\n      }\n    },\n    {\n      \"column\": \"Movie_Director\",\n      \"properties\": {\n        \"dtype\": \"category\",\n        \"num_unique_values\": 2332,\n        \"samples\": [\n          \"Rob McKittrick\",\n          \"Terron R. Parsons\",\n          \"Cyrus Nowrasteh\"\n        ],\n        \"semantic_type\": \"\",\n        \"description\": \"\"\n      }\n    }\n  ]\n}"
            }
          },
          "metadata": {},
          "execution_count": 10
        }
      ]
    },
    {
      "cell_type": "markdown",
      "source": [
        "**Define Target Variable (y) and Feature Variables (X)**"
      ],
      "metadata": {
        "id": "O3ZkGFM45sBg"
      }
    },
    {
      "cell_type": "code",
      "source": [
        "x = df_features['Movie_Genre']+''+df_features['Movie_Keywords']+''+df_features['Movie_Tagline']+''+df_features['Movie_Cast']+''+df_features['Movie_Director']"
      ],
      "metadata": {
        "id": "xGRlfbZjz8KV"
      },
      "execution_count": 11,
      "outputs": []
    },
    {
      "cell_type": "code",
      "source": [
        "x"
      ],
      "metadata": {
        "colab": {
          "base_uri": "https://localhost:8080/",
          "height": 458
        },
        "id": "uUgOVz0O0SNI",
        "outputId": "b79a84c4-cc23-47c6-826b-4efb309954a1"
      },
      "execution_count": 12,
      "outputs": [
        {
          "output_type": "execute_result",
          "data": {
            "text/plain": [
              "0       Crime Comedyhotel new year's eve witch bet hot...\n",
              "1       Adventure Action Science Fictionandroid galaxy...\n",
              "2       Animation Familyfather son relationship harbor...\n",
              "3       Comedy Drama Romancevietnam veteran hippie men...\n",
              "4       Dramamale nudity female nudity adultery midlif...\n",
              "                              ...                        \n",
              "4755    HorrorThe hot spot where Satan's waitin'.Lisa ...\n",
              "4756    Comedy Family DramaIt’s better to stand out th...\n",
              "4757    Thriller Dramachristian film sex traffickingSh...\n",
              "4758                                               Family\n",
              "4759    Documentarymusic actors legendary perfomer cla...\n",
              "Length: 4760, dtype: object"
            ],
            "text/html": [
              "<div>\n",
              "<style scoped>\n",
              "    .dataframe tbody tr th:only-of-type {\n",
              "        vertical-align: middle;\n",
              "    }\n",
              "\n",
              "    .dataframe tbody tr th {\n",
              "        vertical-align: top;\n",
              "    }\n",
              "\n",
              "    .dataframe thead th {\n",
              "        text-align: right;\n",
              "    }\n",
              "</style>\n",
              "<table border=\"1\" class=\"dataframe\">\n",
              "  <thead>\n",
              "    <tr style=\"text-align: right;\">\n",
              "      <th></th>\n",
              "      <th>0</th>\n",
              "    </tr>\n",
              "  </thead>\n",
              "  <tbody>\n",
              "    <tr>\n",
              "      <th>0</th>\n",
              "      <td>Crime Comedyhotel new year's eve witch bet hot...</td>\n",
              "    </tr>\n",
              "    <tr>\n",
              "      <th>1</th>\n",
              "      <td>Adventure Action Science Fictionandroid galaxy...</td>\n",
              "    </tr>\n",
              "    <tr>\n",
              "      <th>2</th>\n",
              "      <td>Animation Familyfather son relationship harbor...</td>\n",
              "    </tr>\n",
              "    <tr>\n",
              "      <th>3</th>\n",
              "      <td>Comedy Drama Romancevietnam veteran hippie men...</td>\n",
              "    </tr>\n",
              "    <tr>\n",
              "      <th>4</th>\n",
              "      <td>Dramamale nudity female nudity adultery midlif...</td>\n",
              "    </tr>\n",
              "    <tr>\n",
              "      <th>...</th>\n",
              "      <td>...</td>\n",
              "    </tr>\n",
              "    <tr>\n",
              "      <th>4755</th>\n",
              "      <td>HorrorThe hot spot where Satan's waitin'.Lisa ...</td>\n",
              "    </tr>\n",
              "    <tr>\n",
              "      <th>4756</th>\n",
              "      <td>Comedy Family DramaIt’s better to stand out th...</td>\n",
              "    </tr>\n",
              "    <tr>\n",
              "      <th>4757</th>\n",
              "      <td>Thriller Dramachristian film sex traffickingSh...</td>\n",
              "    </tr>\n",
              "    <tr>\n",
              "      <th>4758</th>\n",
              "      <td>Family</td>\n",
              "    </tr>\n",
              "    <tr>\n",
              "      <th>4759</th>\n",
              "      <td>Documentarymusic actors legendary perfomer cla...</td>\n",
              "    </tr>\n",
              "  </tbody>\n",
              "</table>\n",
              "<p>4760 rows × 1 columns</p>\n",
              "</div><br><label><b>dtype:</b> object</label>"
            ]
          },
          "metadata": {},
          "execution_count": 12
        }
      ]
    },
    {
      "cell_type": "code",
      "source": [
        "x.shape"
      ],
      "metadata": {
        "colab": {
          "base_uri": "https://localhost:8080/"
        },
        "id": "0VEh0FVr0cH2",
        "outputId": "4082ddd9-578f-4648-cfda-28e20c657949"
      },
      "execution_count": 13,
      "outputs": [
        {
          "output_type": "execute_result",
          "data": {
            "text/plain": [
              "(4760,)"
            ]
          },
          "metadata": {},
          "execution_count": 13
        }
      ]
    },
    {
      "cell_type": "markdown",
      "source": [
        "**Get Feature Text Conversion to Tokens**"
      ],
      "metadata": {
        "id": "3DT2ZA-e504X"
      }
    },
    {
      "cell_type": "code",
      "source": [
        "from sklearn.feature_extraction.text import TfidfVectorizer\n",
        "tfidf = TfidfVectorizer()\n",
        "x = tfidf.fit_transform(x)\n",
        "x.shape"
      ],
      "metadata": {
        "colab": {
          "base_uri": "https://localhost:8080/"
        },
        "id": "PPqLKnKN0l46",
        "outputId": "d9d4a9ab-9765-4b52-8635-d595d2ea287e"
      },
      "execution_count": 14,
      "outputs": [
        {
          "output_type": "execute_result",
          "data": {
            "text/plain": [
              "(4760, 27466)"
            ]
          },
          "metadata": {},
          "execution_count": 14
        }
      ]
    },
    {
      "cell_type": "code",
      "source": [
        "print(x)"
      ],
      "metadata": {
        "colab": {
          "base_uri": "https://localhost:8080/"
        },
        "id": "gQuOb1ha04F0",
        "outputId": "bc19fecc-eceb-48dc-833b-841f1a1f912e"
      },
      "execution_count": 15,
      "outputs": [
        {
          "output_type": "stream",
          "name": "stdout",
          "text": [
            "  (0, 5553)\t0.07352252655701756\n",
            "  (0, 4842)\t0.175053052455033\n",
            "  (0, 17725)\t0.19515517646728336\n",
            "  (0, 27198)\t0.2597527006839562\n",
            "  (0, 8412)\t0.30116325256269705\n",
            "  (0, 26906)\t0.14779363579183874\n",
            "  (0, 2421)\t0.1645837911577698\n",
            "  (0, 12418)\t0.1351418753960437\n",
            "  (0, 21107)\t0.1954632929283795\n",
            "  (0, 18350)\t0.1864316176399999\n",
            "  (0, 11084)\t0.1864316176399999\n",
            "  (0, 9905)\t0.14914404027246494\n",
            "  (0, 21613)\t0.1954632929283795\n",
            "  (0, 20254)\t0.1954632929283795\n",
            "  (0, 1025)\t0.07583312551941795\n",
            "  (0, 18196)\t0.08579029869987485\n",
            "  (0, 15172)\t0.1537691763994982\n",
            "  (0, 2292)\t0.1954632929283795\n",
            "  (0, 12801)\t0.1530338818199682\n",
            "  (0, 11960)\t0.20134029899961134\n",
            "  (0, 9626)\t0.11757910435818826\n",
            "  (0, 6172)\t0.11970212451073885\n",
            "  (0, 18192)\t0.07278761942152372\n",
            "  (0, 24105)\t0.10726395493180996\n",
            "  (0, 13401)\t0.13748876529263096\n",
            "  :\t:\n",
            "  (4757, 17789)\t0.18881341937258544\n",
            "  (4757, 22017)\t0.1646400247918531\n",
            "  (4757, 11350)\t0.21582294886514122\n",
            "  (4757, 5410)\t0.19734759150400596\n",
            "  (4757, 1839)\t0.19327629083107672\n",
            "  (4757, 23178)\t0.25562985703864616\n",
            "  (4757, 7244)\t0.25562985703864616\n",
            "  (4757, 24915)\t0.28543491773969387\n",
            "  (4757, 22633)\t0.28543491773969387\n",
            "  (4757, 1328)\t0.28543491773969387\n",
            "  (4757, 3295)\t0.28543491773969387\n",
            "  (4757, 10137)\t0.28543491773969387\n",
            "  (4757, 2866)\t0.28543491773969387\n",
            "  (4758, 8651)\t1.0\n",
            "  (4759, 2285)\t0.21465229435984196\n",
            "  (4759, 9955)\t0.21805075638656476\n",
            "  (4759, 17552)\t0.3087899934962816\n",
            "  (4759, 4446)\t0.282306565154911\n",
            "  (4759, 12139)\t0.2778063685558062\n",
            "  (4759, 14742)\t0.31978160936741457\n",
            "  (4759, 345)\t0.31978160936741457\n",
            "  (4759, 6950)\t0.33527342183765224\n",
            "  (4759, 18841)\t0.33527342183765224\n",
            "  (4759, 22434)\t0.33527342183765224\n",
            "  (4759, 18229)\t0.33527342183765224\n"
          ]
        }
      ]
    },
    {
      "cell_type": "markdown",
      "source": [
        "**Get Similarity Score using Cosine Similarity**"
      ],
      "metadata": {
        "id": "k7Sx8txx59kq"
      }
    },
    {
      "cell_type": "code",
      "source": [
        "from sklearn.metrics.pairwise import cosine_similarity\n",
        "Similarity_Score = cosine_similarity(x)\n",
        "Similarity_Score"
      ],
      "metadata": {
        "colab": {
          "base_uri": "https://localhost:8080/"
        },
        "id": "oE9ZHViG1E-j",
        "outputId": "dc0ed6c3-5cef-4412-8605-40f39aeeb716"
      },
      "execution_count": 16,
      "outputs": [
        {
          "output_type": "execute_result",
          "data": {
            "text/plain": [
              "array([[1.        , 0.01438634, 0.03807033, ..., 0.        , 0.        ,\n",
              "        0.        ],\n",
              "       [0.01438634, 1.        , 0.00844858, ..., 0.        , 0.        ,\n",
              "        0.        ],\n",
              "       [0.03807033, 0.00844858, 1.        , ..., 0.        , 0.        ,\n",
              "        0.        ],\n",
              "       ...,\n",
              "       [0.        , 0.        , 0.        , ..., 1.        , 0.        ,\n",
              "        0.        ],\n",
              "       [0.        , 0.        , 0.        , ..., 0.        , 1.        ,\n",
              "        0.        ],\n",
              "       [0.        , 0.        , 0.        , ..., 0.        , 0.        ,\n",
              "        1.        ]])"
            ]
          },
          "metadata": {},
          "execution_count": 16
        }
      ]
    },
    {
      "cell_type": "code",
      "source": [
        "Similarity_Score.shape"
      ],
      "metadata": {
        "colab": {
          "base_uri": "https://localhost:8080/"
        },
        "id": "x3h7cUZ51ay0",
        "outputId": "f84dff4b-aeb3-4861-c60b-6dc6cbaef41f"
      },
      "execution_count": 17,
      "outputs": [
        {
          "output_type": "execute_result",
          "data": {
            "text/plain": [
              "(4760, 4760)"
            ]
          },
          "metadata": {},
          "execution_count": 17
        }
      ]
    },
    {
      "cell_type": "markdown",
      "source": [
        "**Get Movie Name as Input from User and Validate from Closest Spelling**"
      ],
      "metadata": {
        "id": "SyRixYn_6GNl"
      }
    },
    {
      "cell_type": "code",
      "source": [
        "Favourite_Movie_Name = input('Enter your favourite movie name :')"
      ],
      "metadata": {
        "colab": {
          "base_uri": "https://localhost:8080/"
        },
        "id": "GLfbnBvK1feD",
        "outputId": "ac10af8e-09e9-4173-ed6e-1a81bc61c8c5"
      },
      "execution_count": 18,
      "outputs": [
        {
          "name": "stdout",
          "output_type": "stream",
          "text": [
            "Enter your favourite movie name :inception\n"
          ]
        }
      ]
    },
    {
      "cell_type": "code",
      "source": [
        "All_Movie_Title_List = df['Movie_Title'].tolist()"
      ],
      "metadata": {
        "id": "cLgJ3Oj_1ufL"
      },
      "execution_count": 19,
      "outputs": []
    },
    {
      "cell_type": "code",
      "source": [
        "import difflib"
      ],
      "metadata": {
        "id": "19qEpmil11GC"
      },
      "execution_count": 20,
      "outputs": []
    },
    {
      "cell_type": "code",
      "source": [
        "Movie_Recommendation = difflib.get_close_matches(Favourite_Movie_Name, All_Movie_Title_List)\n",
        "print(Movie_Recommendation)"
      ],
      "metadata": {
        "colab": {
          "base_uri": "https://localhost:8080/"
        },
        "id": "7hMOnwEA17fp",
        "outputId": "81750b9e-6189-4524-a602-8094370a98a9"
      },
      "execution_count": 21,
      "outputs": [
        {
          "output_type": "stream",
          "name": "stdout",
          "text": [
            "['Inception', 'Minions', 'Lincoln']\n"
          ]
        }
      ]
    },
    {
      "cell_type": "code",
      "source": [
        "Close_Match = Movie_Recommendation[0]\n",
        "print(Close_Match)"
      ],
      "metadata": {
        "colab": {
          "base_uri": "https://localhost:8080/"
        },
        "id": "mPSjm1he2Anz",
        "outputId": "fc043a91-0964-4466-ff0f-d9b6434f6583"
      },
      "execution_count": 22,
      "outputs": [
        {
          "output_type": "stream",
          "name": "stdout",
          "text": [
            "Inception\n"
          ]
        }
      ]
    },
    {
      "cell_type": "code",
      "source": [
        "Index_of_Close_Match_Movie = df[df.Movie_Title == Close_Match]['Movie_ID'].values[0]\n",
        "print(Index_of_Close_Match_Movie)"
      ],
      "metadata": {
        "colab": {
          "base_uri": "https://localhost:8080/"
        },
        "id": "nD2AJxpL2Nj5",
        "outputId": "6ca47a78-d8cc-4141-e835-4e2c14e50530"
      },
      "execution_count": 23,
      "outputs": [
        {
          "output_type": "stream",
          "name": "stdout",
          "text": [
            "2945\n"
          ]
        }
      ]
    },
    {
      "cell_type": "code",
      "source": [
        "# getting list of similar movies\n",
        "Recommendation_Score = list(enumerate(Similarity_Score[Index_of_Close_Match_Movie]))\n",
        "print(Recommendation_Score)"
      ],
      "metadata": {
        "colab": {
          "base_uri": "https://localhost:8080/"
        },
        "id": "1EWbm57I2Pri",
        "outputId": "b71a47db-14cc-4c13-9a22-4ac71267690f"
      },
      "execution_count": 24,
      "outputs": [
        {
          "output_type": "stream",
          "name": "stdout",
          "text": [
            "[(0, 0.0), (1, 0.024479695062427687), (2, 0.0), (3, 0.00790839703921657), (4, 0.0), (5, 0.004200124767755249), (6, 0.0), (7, 0.0031684565064250643), (8, 0.004600350891637774), (9, 0.0), (10, 0.0), (11, 0.004375144291250412), (12, 0.004633526451451086), (13, 0.0), (14, 0.00462526163810293), (15, 0.003832647695224629), (16, 0.0036578245544735513), (17, 0.02049382558177545), (18, 0.003931947508272941), (19, 0.00419268286422644), (20, 0.0), (21, 0.03546148188556367), (22, 0.004937511564438654), (23, 0.0043791596263006586), (24, 0.0), (25, 0.007740837068074805), (26, 0.0), (27, 0.0), (28, 0.005107394669764933), (29, 0.004080708027595553), (30, 0.0), (31, 0.003969511066173069), (32, 0.0039022169491596797), (33, 0.0037555767179518577), (34, 0.0044471534277501085), (35, 0.0), (36, 0.0), (37, 0.0), (38, 0.005577537619752873), (39, 0.0), (40, 0.0056369307841909215), (41, 0.00453813514825336), (42, 0.005000036387241641), (43, 0.0), (44, 0.0035751169107948967), (45, 0.004719242838642073), (46, 0.01821243124070619), (47, 0.0), (48, 0.004641941450961488), (49, 0.051914127315578484), (50, 0.0049038888966316824), (51, 0.004369317393546397), (52, 0.003987047769098061), (53, 0.004699473744737213), (54, 0.0), (55, 0.0), (56, 0.0), (57, 0.0), (58, 0.0), (59, 0.0), (60, 0.0816910331899211), (61, 0.0040561734651460716), (62, 0.004673262090717186), (63, 0.003562149590367045), (64, 0.0), (65, 0.0), (66, 0.02034052257600125), (67, 0.0), (68, 0.00447314813018119), (69, 0.0), (70, 0.0), (71, 0.004288532745237775), (72, 0.0), (73, 0.004685577934398611), (74, 0.004465779897440154), (75, 0.0), (76, 0.0), (77, 0.0), (78, 0.0), (79, 0.0041284472879173865), (80, 0.0), (81, 0.017126571776201045), (82, 0.003967544589148199), (83, 0.031153336029077904), (84, 0.02597761483233197), (85, 0.004064908220943349), (86, 0.004315586549783283), (87, 0.004273922291674862), (88, 0.0), (89, 0.0), (90, 0.0), (91, 0.004383717493622583), (92, 0.003923320983317635), (93, 0.0), (94, 0.0), (95, 0.0), (96, 0.003962775726114476), (97, 0.003676452223972531), (98, 0.0), (99, 0.0), (100, 0.0), (101, 0.0), (102, 0.0), (103, 0.00839725345381561), (104, 0.004143702485833492), (105, 0.0), (106, 0.0), (107, 0.004723915281781578), (108, 0.0), (109, 0.004139756262053745), (110, 0.005088565127937611), (111, 0.003925312701213413), (112, 0.004113569484638813), (113, 0.0370390842704518), (114, 0.009064237860557635), (115, 0.005110359529405333), (116, 0.003991455702566117), (117, 0.0), (118, 0.0), (119, 0.03714622972863762), (120, 0.004514976241922332), (121, 0.003931400383989745), (122, 0.0), (123, 0.0), (124, 0.0038533900360611267), (125, 0.02360752406818169), (126, 0.0040802169716102335), (127, 0.00403590064096294), (128, 0.0), (129, 0.006513184718389851), (130, 0.0), (131, 0.0), (132, 0.003990500950447057), (133, 0.0), (134, 0.005252561148709571), (135, 0.0), (136, 0.0038584978085844392), (137, 0.0), (138, 0.0), (139, 0.00553955577015876), (140, 0.0), (141, 0.032146442403731136), (142, 0.0035463530790533072), (143, 0.0), (144, 0.01653644167131825), (145, 0.0), (146, 0.005405354588127469), (147, 0.0037559555870828325), (148, 0.0), (149, 0.0037900422849666262), (150, 0.0), (151, 0.0), (152, 0.0), (153, 0.005941680610735671), (154, 0.033151018932368395), (155, 0.0), (156, 0.007514733242216612), (157, 0.004845246906082403), (158, 0.028032599375556126), (159, 0.0), (160, 0.0), (161, 0.008304258197204938), (162, 0.0), (163, 0.0), (164, 0.0), (165, 0.003654193150458399), (166, 0.02828281424853842), (167, 0.0), (168, 0.0), (169, 0.009415200457209793), (170, 0.0), (171, 0.0), (172, 0.0), (173, 0.024371970396062263), (174, 0.009466654407465344), (175, 0.004303416146287335), (176, 0.0), (177, 0.0), (178, 0.004401921070518563), (179, 0.0), (180, 0.0330571961742892), (181, 0.0), (182, 0.041907290685112675), (183, 0.003840893880438146), (184, 0.003831436487209625), (185, 0.004698505437297676), (186, 0.0), (187, 0.02760159224374177), (188, 0.004917094992488137), (189, 0.0), (190, 0.0036458080742285282), (191, 0.0), (192, 0.004415025118405096), (193, 0.0042845534259352315), (194, 0.0036950023809925983), (195, 0.007912507127762938), (196, 0.0), (197, 0.008899704978027043), (198, 0.004227934847383777), (199, 0.0038190420002857228), (200, 0.003906263775299975), (201, 0.0), (202, 0.0060727357333494655), (203, 0.0), (204, 0.004369633244648657), (205, 0.0), (206, 0.004537316038988057), (207, 0.0), (208, 0.004683135394166914), (209, 0.0), (210, 0.004577079013976867), (211, 0.01005262403271782), (212, 0.0697471843092721), (213, 0.0), (214, 0.0046649273684156315), (215, 0.025191145401779774), (216, 0.004352002322967469), (217, 0.004805046222183642), (218, 0.003881131708491347), (219, 0.005193157059744912), (220, 0.0), (221, 0.004037238372417912), (222, 0.0037149463277941362), (223, 0.0), (224, 0.003304327871313799), (225, 0.005824421895661687), (226, 0.0), (227, 0.004483678932362738), (228, 0.0032125153844899126), (229, 0.0), (230, 0.0), (231, 0.0), (232, 0.0), (233, 0.0), (234, 0.0), (235, 0.021584384813027036), (236, 0.003948025479662084), (237, 0.0), (238, 0.04045161264373663), (239, 0.0), (240, 0.0), (241, 0.0), (242, 0.003703513812726149), (243, 0.028633469672188328), (244, 0.0), (245, 0.005263505524966327), (246, 0.010289570070572946), (247, 0.0), (248, 0.0), (249, 0.05775816052991556), (250, 0.0), (251, 0.003717536507295926), (252, 0.003919076979890428), (253, 0.005500303733673376), (254, 0.0), (255, 0.004408568225983709), (256, 0.0033539001509297612), (257, 0.0), (258, 0.019958990521016837), (259, 0.0), (260, 0.0), (261, 0.0), (262, 0.0), (263, 0.004800119895587784), (264, 0.005085640341903323), (265, 0.0), (266, 0.0032405363458875122), (267, 0.0037561149996345414), (268, 0.0), (269, 0.0036076814369102876), (270, 0.0042517584403964385), (271, 0.0319053744928015), (272, 0.0), (273, 0.0), (274, 0.004757860852072313), (275, 0.0), (276, 0.003999927959695126), (277, 0.0), (278, 0.004506478246317562), (279, 0.04047555854294808), (280, 0.00423913760490157), (281, 0.0), (282, 0.004112997357729718), (283, 0.002999418991972354), (284, 0.0), (285, 0.0), (286, 0.0038083304658872883), (287, 0.0), (288, 0.0), (289, 0.0), (290, 0.0), (291, 0.03241192429470984), (292, 0.018890996789552514), (293, 0.0), (294, 0.0), (295, 0.0), (296, 0.0032980471893378593), (297, 0.0), (298, 0.0), (299, 0.0), (300, 0.0), (301, 0.0), (302, 0.0), (303, 0.0), (304, 0.0), (305, 0.0), (306, 0.0), (307, 0.0038681058853045533), (308, 0.0), (309, 0.0034216227211705183), (310, 0.0), (311, 0.004674349146623615), (312, 0.005178957901927096), (313, 0.0), (314, 0.0), (315, 0.0), (316, 0.0), (317, 0.0), (318, 0.009982448636558054), (319, 0.018225287235274223), (320, 0.0), (321, 0.0), (322, 0.0), (323, 0.0), (324, 0.0), (325, 0.008792257791607961), (326, 0.0050923164542660965), (327, 0.0), (328, 0.0), (329, 0.0), (330, 0.002946572663233792), (331, 0.005109850703712944), (332, 0.0), (333, 0.0), (334, 0.0), (335, 0.0), (336, 0.016528413979410572), (337, 0.0), (338, 0.004634200989586072), (339, 0.0), (340, 0.0), (341, 0.0), (342, 0.0044918842902175625), (343, 0.00408597992314145), (344, 0.01049778518790595), (345, 0.004718995057150467), (346, 0.004953283471096778), (347, 0.0), (348, 0.004125824442689811), (349, 0.039142508070957906), (350, 0.010097422292279438), (351, 0.007334280278320131), (352, 0.0), (353, 0.004181149750762926), (354, 0.0), (355, 0.00394079793363116), (356, 0.03819191227558987), (357, 0.00823264106050053), (358, 0.0040681964628990555), (359, 0.003932562029762306), (360, 0.0), (361, 0.005234363053990848), (362, 0.005378368008146188), (363, 0.005323136190738977), (364, 0.0037619375381263004), (365, 0.0055918139170188326), (366, 0.0), (367, 0.004671857516219058), (368, 0.0057653409008127585), (369, 0.0038994371443670612), (370, 0.004170478859464766), (371, 0.004510988087289067), (372, 0.003958026506115999), (373, 0.06866780767338526), (374, 0.0040791472480263755), (375, 0.0), (376, 0.0), (377, 0.005049263888139137), (378, 0.0), (379, 0.0), (380, 0.0), (381, 0.0), (382, 0.0), (383, 0.004641008954719547), (384, 0.0), (385, 0.005533010100968439), (386, 0.0), (387, 0.00423992666608957), (388, 0.004000618594114872), (389, 0.0), (390, 0.0), (391, 0.006004502735223045), (392, 0.005288801461046268), (393, 0.0), (394, 0.0), (395, 0.0), (396, 0.0), (397, 0.0), (398, 0.005048285570832384), (399, 0.0), (400, 0.004142300447925109), (401, 0.005258230599049574), (402, 0.0), (403, 0.0036497208375304863), (404, 0.004974265092400723), (405, 0.005244447063760744), (406, 0.0042538744852768234), (407, 0.0033714813741622792), (408, 0.00397777526204908), (409, 0.004754127556245626), (410, 0.0038041411595985987), (411, 0.033631336579573436), (412, 0.0), (413, 0.010364535965460605), (414, 0.0), (415, 0.0052512864688006415), (416, 0.008388840626980592), (417, 0.004602640896193433), (418, 0.005303235374796606), (419, 0.004880481704584849), (420, 0.0), (421, 0.0040276021800986096), (422, 0.0), (423, 0.0), (424, 0.0), (425, 0.0), (426, 0.0), (427, 0.024410501648920425), (428, 0.003852128423728554), (429, 0.004413238607104532), (430, 0.004355694518858157), (431, 0.004803458532951581), (432, 0.0), (433, 0.0034310584166452568), (434, 0.00394266646334566), (435, 0.0), (436, 0.0049320866397620875), (437, 0.004188679466710078), (438, 0.0), (439, 0.0), (440, 0.0), (441, 0.01809167733730645), (442, 0.049049026366777784), (443, 0.004712842481549566), (444, 0.0), (445, 0.0), (446, 0.0), (447, 0.0), (448, 0.004954639920753944), (449, 0.06619660553235243), (450, 0.004487842532083692), (451, 0.0), (452, 0.003230528469218986), (453, 0.0034295194895139084), (454, 0.032352216494952894), (455, 0.0440513282671728), (456, 0.015090451428349), (457, 0.003804680825233128), (458, 0.0047643080207980595), (459, 0.01711571112760301), (460, 0.0), (461, 0.005721594146967729), (462, 0.02432418129739657), (463, 0.00378753123856153), (464, 0.004255785345452497), (465, 0.0038754805544211294), (466, 0.0), (467, 0.019222256887580124), (468, 0.0), (469, 0.0), (470, 0.004431716278877942), (471, 0.0040062380871620515), (472, 0.004440839969551143), (473, 0.04022008248144121), (474, 0.005255536549629497), (475, 0.0015170328823406183), (476, 0.0), (477, 0.0), (478, 0.0), (479, 0.009448620368404513), (480, 0.0037031930984152976), (481, 0.0045599559310531244), (482, 0.004418942820478718), (483, 0.0), (484, 0.0), (485, 0.0), (486, 0.0), (487, 0.0), (488, 0.004023181472537155), (489, 0.0), (490, 0.004164761841905301), (491, 0.0), (492, 0.0), (493, 0.004471151060349608), (494, 0.0049719181158439305), (495, 0.003826927565851751), (496, 0.003675554394876306), (497, 0.0044229579634113125), (498, 0.005044644269754573), (499, 0.0), (500, 0.0), (501, 0.0), (502, 0.0042910893253635595), (503, 0.004972630321946115), (504, 0.009386833910177268), (505, 0.0048475425175475585), (506, 0.0), (507, 0.004885931342729127), (508, 0.026240670331880843), (509, 0.004247441266900493), (510, 0.007348492391503907), (511, 0.0), (512, 0.06168596990119176), (513, 0.0), (514, 0.0), (515, 0.00847320035740011), (516, 0.0), (517, 0.0), (518, 0.0), (519, 0.003760699413177604), (520, 0.019052646294672355), (521, 0.005020334473703511), (522, 0.0040991911445151675), (523, 0.0), (524, 0.015785263501274446), (525, 0.0), (526, 0.0), (527, 0.0), (528, 0.005055736247249216), (529, 0.005049681926093364), (530, 0.0), (531, 0.04993031081190396), (532, 0.004879182440559271), (533, 0.004750677311936435), (534, 0.004510745205729843), (535, 0.0), (536, 0.0), (537, 0.0), (538, 0.004382657941059733), (539, 0.0), (540, 0.0), (541, 0.0), (542, 0.003070442835649739), (543, 0.004363694248588783), (544, 0.0), (545, 0.00437518357157279), (546, 0.0047316430239720915), (547, 0.0035751009068219447), (548, 0.0), (549, 0.0), (550, 0.0), (551, 0.03262734809191829), (552, 0.0), (553, 0.0), (554, 0.026609841383484146), (555, 0.0), (556, 0.0), (557, 0.0), (558, 0.021574233657270802), (559, 0.0), (560, 0.0), (561, 0.0), (562, 0.03345647019669312), (563, 0.003857968567324636), (564, 0.004420405243908374), (565, 0.0), (566, 0.0036297896503993767), (567, 0.0), (568, 0.0), (569, 0.0), (570, 0.0), (571, 0.003305735711557415), (572, 0.0), (573, 0.0), (574, 0.0), (575, 0.015768657915985897), (576, 0.004659455034827436), (577, 0.0), (578, 0.004056556504236973), (579, 0.046550743614848594), (580, 0.0043356029935104025), (581, 0.0), (582, 0.005930986414109469), (583, 0.03640864744550108), (584, 0.004433332672562392), (585, 0.0), (586, 0.005049245597033828), (587, 0.004645315615956593), (588, 0.004302359214221066), (589, 0.008676887542683365), (590, 0.0038662377502494574), (591, 0.0), (592, 0.0), (593, 0.0), (594, 0.003933952386404708), (595, 0.0), (596, 0.03580430602251677), (597, 0.0), (598, 0.03820883850511922), (599, 0.0), (600, 0.0), (601, 0.0), (602, 0.0), (603, 0.0), (604, 0.0038004207580125383), (605, 0.008600062318542623), (606, 0.040285752352016736), (607, 0.0032792078535354334), (608, 0.003908529833438222), (609, 0.003401160660293581), (610, 0.0), (611, 0.003642575361205631), (612, 0.004558371048268963), (613, 0.0), (614, 0.0048430036900000304), (615, 0.0), (616, 0.0034922443273298536), (617, 0.03070003522107264), (618, 0.0), (619, 0.0), (620, 0.0), (621, 0.0), (622, 0.004342900831559936), (623, 0.004625769040103972), (624, 0.0), (625, 0.0), (626, 0.0035924048966556143), (627, 0.005615690221711648), (628, 0.004156391082511378), (629, 0.004426589383518484), (630, 0.005295058642592766), (631, 0.0), (632, 0.004645937971691971), (633, 0.019489083846361794), (634, 0.0), (635, 0.0), (636, 0.024303154575083454), (637, 0.004250418918173159), (638, 0.003841830316595001), (639, 0.0), (640, 0.0), (641, 0.0032102921803013064), (642, 0.06353605601767971), (643, 0.004008985595214971), (644, 0.004278962394823473), (645, 0.0), (646, 0.0), (647, 0.0), (648, 0.0), (649, 0.004797981354599471), (650, 0.0), (651, 0.004078779153328266), (652, 0.004360855924091875), (653, 0.027560790888023316), (654, 0.03652773522471265), (655, 0.0039569868237475814), (656, 0.0), (657, 0.003739086254621405), (658, 0.0), (659, 0.003938607823633009), (660, 0.004265772428925456), (661, 0.0), (662, 0.004861470442268549), (663, 0.029903081130893225), (664, 0.004509602294268119), (665, 0.02841646114011885), (666, 0.0), (667, 0.005401139153357674), (668, 0.061335616215031016), (669, 0.003874168125842329), (670, 0.005036988094481389), (671, 0.005110249208546712), (672, 0.003744127253556422), (673, 0.00448803133664007), (674, 0.0), (675, 0.029052111399137114), (676, 0.004047771718604997), (677, 0.033202469523281465), (678, 0.005525179550112551), (679, 0.038641631354092654), (680, 0.0), (681, 0.0), (682, 0.0), (683, 0.0), (684, 0.0032770270756483856), (685, 0.0), (686, 0.0), (687, 0.045362277023533), (688, 0.00459199213971631), (689, 0.004117553093981145), (690, 0.004832688147216496), (691, 0.004129975573055688), (692, 0.0), (693, 0.004198122921360365), (694, 0.0), (695, 0.0), (696, 0.02393216791130573), (697, 0.00930185631136491), (698, 0.004190752518644914), (699, 0.02721402704857473), (700, 0.0), (701, 0.004704829953490853), (702, 0.00482502261642475), (703, 0.008378131235099293), (704, 0.0), (705, 0.00373021998108064), (706, 0.025665243217255763), (707, 0.007868593159295952), (708, 0.031775076275734525), (709, 0.0), (710, 0.0), (711, 0.019632442196462076), (712, 0.007990421678493483), (713, 0.0), (714, 0.0), (715, 0.0), (716, 0.0046432715262866115), (717, 0.0), (718, 0.019585058951495076), (719, 0.003508732438577434), (720, 0.005031449333918042), (721, 0.004914198929923341), (722, 0.0037847077509708133), (723, 0.0), (724, 0.0), (725, 0.0), (726, 0.0042345015182237876), (727, 0.004108068486802126), (728, 0.00445026458495417), (729, 0.0045648075797722724), (730, 0.0), (731, 0.0), (732, 0.003625762050488704), (733, 0.003660148947638681), (734, 0.003933174143238639), (735, 0.013395062193881542), (736, 0.005026298563210938), (737, 0.01089462867326279), (738, 0.0), (739, 0.004691326969850333), (740, 0.028316340365379916), (741, 0.009613175424439705), (742, 0.00395241667135748), (743, 0.004391597944692215), (744, 0.003825886862947452), (745, 0.004585048699156997), (746, 0.01860338960072379), (747, 0.0), (748, 0.0), (749, 0.004192282869965943), (750, 0.004165333939313719), (751, 0.005859748676106288), (752, 0.01037722708590289), (753, 0.0), (754, 0.04842150562061426), (755, 0.004252071273576062), (756, 0.0), (757, 0.004030523881468742), (758, 0.08135205553822189), (759, 0.03957785101277234), (760, 0.028037323698350693), (761, 0.042146517184137075), (762, 0.0), (763, 0.0), (764, 0.0070111368750030495), (765, 0.0), (766, 0.0), (767, 0.0), (768, 0.009923910865878429), (769, 0.0041820744595679644), (770, 0.004934385879977062), (771, 0.0), (772, 0.0), (773, 0.004811510554549877), (774, 0.004472390383432834), (775, 0.0), (776, 0.009325281773935781), (777, 0.020502865924556246), (778, 0.010440154373067568), (779, 0.0), (780, 0.004845196953812422), (781, 0.005243507795099852), (782, 0.0), (783, 0.004348358473097676), (784, 0.005430351883328669), (785, 0.004971698651979737), (786, 0.004152327280855971), (787, 0.0026418036535008974), (788, 0.03356026847648984), (789, 0.0), (790, 0.0), (791, 0.0), (792, 0.0044417299335459), (793, 0.005149147805289451), (794, 0.004283540154946415), (795, 0.005807706103012202), (796, 0.02687483053469155), (797, 0.0), (798, 0.004008454658024266), (799, 0.004130420789244463), (800, 0.0037357255768405077), (801, 0.0), (802, 0.0), (803, 0.0), (804, 0.021601471255606686), (805, 0.0), (806, 0.004185132056763475), (807, 0.00803992091340945), (808, 0.003703836290315826), (809, 0.0), (810, 0.0), (811, 0.0), (812, 0.0), (813, 0.004837721204958215), (814, 0.0), (815, 0.003756466908679752), (816, 0.0036758514903506515), (817, 0.0), (818, 0.004064721009350423), (819, 0.0), (820, 0.004563898071664577), (821, 0.0), (822, 0.0), (823, 0.0), (824, 0.006490992205386029), (825, 0.0), (826, 0.04301868475280157), (827, 0.0), (828, 0.0), (829, 0.0), (830, 0.04697894182873013), (831, 0.003161704325255487), (832, 0.004224354845636304), (833, 0.0), (834, 0.0), (835, 0.04879842827332663), (836, 0.004418765824862966), (837, 0.0), (838, 0.004057949823693966), (839, 0.0), (840, 0.01903971752190114), (841, 0.0), (842, 0.02911734958543122), (843, 0.03747361393690509), (844, 0.004402934303795475), (845, 0.0), (846, 0.0), (847, 0.039086462077901146), (848, 0.0), (849, 0.00521449020048932), (850, 0.031244484916103175), (851, 0.11140143205313487), (852, 0.03894591775410634), (853, 0.0), (854, 0.004073259765735346), (855, 0.0), (856, 0.035896765163986905), (857, 0.004705886540733946), (858, 0.0029567037281204548), (859, 0.0049221627791348225), (860, 0.00486946928154524), (861, 0.0036250074226848103), (862, 0.004251553469461688), (863, 0.024870162165835062), (864, 0.004195927222473815), (865, 0.004448908607024422), (866, 0.003992321037424063), (867, 0.009217302801961846), (868, 0.0), (869, 0.0), (870, 0.004086808148577297), (871, 0.0043351854670854685), (872, 0.009746436304092443), (873, 0.0054468216821388785), (874, 0.0), (875, 0.0), (876, 0.004634693074757677), (877, 0.054362933555521006), (878, 0.0040308398136003785), (879, 0.009670725411671584), (880, 0.00404418810659982), (881, 0.0), (882, 0.0), (883, 0.004865906691920286), (884, 0.00527030254790463), (885, 0.004538074483525212), (886, 0.003913921923626656), (887, 0.0), (888, 0.004545463257372629), (889, 0.0), (890, 0.005272598518886947), (891, 0.0), (892, 0.0), (893, 0.0), (894, 0.031137460973522598), (895, 0.0), (896, 0.03730636281107804), (897, 0.004259899189215197), (898, 0.004493756132815462), (899, 0.0), (900, 0.003932077984655398), (901, 0.02273218983031941), (902, 0.0), (903, 0.009782322336079943), (904, 0.006121907659870759), (905, 0.005721705438218186), (906, 0.0), (907, 0.027218378943054372), (908, 0.00517348206447903), (909, 0.0), (910, 0.0038575423268651025), (911, 0.0), (912, 0.03169473349452717), (913, 0.0), (914, 0.024101188982678), (915, 0.0), (916, 0.00462823400539212), (917, 0.0), (918, 0.028063349803543396), (919, 0.0), (920, 0.0), (921, 0.0), (922, 0.0), (923, 0.009341410195643971), (924, 0.0035760232923301937), (925, 0.010856845010229418), (926, 0.003964875484974987), (927, 0.040544439570802324), (928, 0.0), (929, 0.016414523498038878), (930, 0.004410001473215065), (931, 0.0051263891835771095), (932, 0.0), (933, 0.005585159204802797), (934, 0.0038876784489040397), (935, 0.0), (936, 0.00379525303749248), (937, 0.004996469495221003), (938, 0.004967472182624244), (939, 0.022654019297400185), (940, 0.006486118077210796), (941, 0.00520496947979034), (942, 0.018973152408008048), (943, 0.0), (944, 0.03200037260030002), (945, 0.0049214559274273284), (946, 0.005091416478076251), (947, 0.006030303700633302), (948, 0.006183034278073057), (949, 0.0), (950, 0.0), (951, 0.008362790606012286), (952, 0.004410192990755933), (953, 0.003386667871325672), (954, 0.0), (955, 0.0), (956, 0.0), (957, 0.031601645017646965), (958, 0.0), (959, 0.04223894643165421), (960, 0.0), (961, 0.0053766998455318585), (962, 0.0040732078293542785), (963, 0.003933165923432861), (964, 0.004293431322235143), (965, 0.0), (966, 0.0041137179876826946), (967, 0.004611416154594019), (968, 0.003837641926670233), (969, 0.009189307378253651), (970, 0.0044476676996812), (971, 0.0051028496829492445), (972, 0.0039381716475484765), (973, 0.004927114223197032), (974, 0.02894190352275192), (975, 0.06620282061078903), (976, 0.0), (977, 0.0), (978, 0.004508423520186246), (979, 0.0), (980, 0.004274839179612026), (981, 0.003795315713540607), (982, 0.005373445693926907), (983, 0.005037838817108663), (984, 0.00471617996702977), (985, 0.010599100451869962), (986, 0.0044759383398479905), (987, 0.03211821812840076), (988, 0.004083061111755558), (989, 0.0040707942416806095), (990, 0.005303610162171171), (991, 0.0044454618000573706), (992, 0.0), (993, 0.0), (994, 0.0), (995, 0.0), (996, 0.006925792796661525), (997, 0.0), (998, 0.010477257125613253), (999, 0.010418478715703467), (1000, 0.003852886882392872), (1001, 0.004007580807122526), (1002, 0.013633794834278824), (1003, 0.0), (1004, 0.0), (1005, 0.0033379789160909467), (1006, 0.004372841954987255), (1007, 0.010025198422477816), (1008, 0.004544036406891631), (1009, 0.003935683761171162), (1010, 0.0), (1011, 0.02141899564087818), (1012, 0.0), (1013, 0.005247366838837203), (1014, 0.0), (1015, 0.0043629188627288835), (1016, 0.0), (1017, 0.004209729551213702), (1018, 0.0), (1019, 0.004268298919800779), (1020, 0.004232164947448849), (1021, 0.004095380798891236), (1022, 0.004963713521935269), (1023, 0.00472742835013068), (1024, 0.00522708827308447), (1025, 0.004597605296945845), (1026, 0.03927448800501852), (1027, 0.004107670416068103), (1028, 0.0), (1029, 0.02538987552708923), (1030, 0.004048520842626208), (1031, 0.0), (1032, 0.05124581419557511), (1033, 0.0), (1034, 0.00397655836048935), (1035, 0.004185610203673906), (1036, 0.017480484651930518), (1037, 0.0), (1038, 0.004593745842196426), (1039, 0.015128519155114387), (1040, 0.008053922530926832), (1041, 0.0039343561473157386), (1042, 0.0), (1043, 0.0), (1044, 0.0040917138640949435), (1045, 0.0), (1046, 0.0), (1047, 0.005079338910863838), (1048, 0.0), (1049, 0.010844530120303574), (1050, 0.003732619606267762), (1051, 0.0), (1052, 0.0039025353306176946), (1053, 0.050961331869379414), (1054, 0.0), (1055, 0.0), (1056, 0.0), (1057, 0.0), (1058, 0.0), (1059, 0.0), (1060, 0.004069173761767415), (1061, 0.02298565924456713), (1062, 0.0), (1063, 0.0), (1064, 0.005130159938867101), (1065, 0.0039174795752768485), (1066, 0.0), (1067, 0.0), (1068, 0.0), (1069, 0.0), (1070, 0.0), (1071, 0.00438915861094856), (1072, 0.0), (1073, 0.004747919780181656), (1074, 0.004914618284358631), (1075, 0.004215150124746369), (1076, 0.0), (1077, 0.004248663572752722), (1078, 0.007896777463588129), (1079, 0.003880164296619114), (1080, 0.0038036143321773376), (1081, 0.0), (1082, 0.0), (1083, 0.004337639007353939), (1084, 0.04716508568689235), (1085, 0.005220375203720893), (1086, 0.0), (1087, 0.0), (1088, 0.007964688661829034), (1089, 0.021110112056409617), (1090, 0.0), (1091, 0.0), (1092, 0.0), (1093, 0.0), (1094, 0.00514072182741482), (1095, 0.0), (1096, 0.13827456874730606), (1097, 0.0), (1098, 0.0), (1099, 0.005451996705924185), (1100, 0.022150182903674022), (1101, 0.0), (1102, 0.004203397128742771), (1103, 0.0), (1104, 0.0), (1105, 0.0), (1106, 0.0), (1107, 0.029170881003370435), (1108, 0.005185321323021921), (1109, 0.015856564076131435), (1110, 0.0), (1111, 0.0), (1112, 0.040364274907738085), (1113, 0.004847388798938211), (1114, 0.0), (1115, 0.004302893464661093), (1116, 0.0), (1117, 0.0048462530566804225), (1118, 0.0), (1119, 0.00464172882225931), (1120, 0.0), (1121, 0.0), (1122, 0.004329583111852641), (1123, 0.004111690836765423), (1124, 0.0052214310803519815), (1125, 0.0), (1126, 0.00492577948907239), (1127, 0.0), (1128, 0.0), (1129, 0.0), (1130, 0.0), (1131, 0.00428634678790069), (1132, 0.004029491305027809), (1133, 0.0), (1134, 0.0), (1135, 0.0), (1136, 0.00375087140879419), (1137, 0.0), (1138, 0.004152122123300448), (1139, 0.0), (1140, 0.004360763944584026), (1141, 0.004606191087504021), (1142, 0.02726403618660395), (1143, 0.0), (1144, 0.0), (1145, 0.03648069734956247), (1146, 0.0), (1147, 0.0), (1148, 0.0), (1149, 0.0), (1150, 0.0), (1151, 0.0), (1152, 0.0), (1153, 0.0037277947505052894), (1154, 0.0), (1155, 0.025137536747390766), (1156, 0.0), (1157, 0.004594804845700444), (1158, 0.0), (1159, 0.0), (1160, 0.0042102775742008935), (1161, 0.004110366812525333), (1162, 0.0), (1163, 0.00425831035553402), (1164, 0.0), (1165, 0.005141522696641246), (1166, 0.024910719659585037), (1167, 0.02961682640833401), (1168, 0.030716531434548774), (1169, 0.04850991028079775), (1170, 0.009093370052273422), (1171, 0.0), (1172, 0.0), (1173, 0.004635095255271877), (1174, 0.02892500768120094), (1175, 0.004218119608256855), (1176, 0.004305626455678869), (1177, 0.0039938249641049755), (1178, 0.0), (1179, 0.004280861893036092), (1180, 0.0), (1181, 0.0), (1182, 0.00448080453182856), (1183, 0.004009019610335983), (1184, 0.0047637561512179055), (1185, 0.0), (1186, 0.003744361458684099), (1187, 0.010775735881210082), (1188, 0.0044849356940301266), (1189, 0.04155892261170247), (1190, 0.004888515317651217), (1191, 0.004203623376738388), (1192, 0.004264082529762471), (1193, 0.0), (1194, 0.004376293604303358), (1195, 0.0), (1196, 0.004808353002661913), (1197, 0.0), (1198, 0.005086448392657143), (1199, 0.00825142453888336), (1200, 0.040589883283607346), (1201, 0.005497390021563098), (1202, 0.003559659626209945), (1203, 0.004710043921410696), (1204, 0.004941570111561176), (1205, 0.005264463249475165), (1206, 0.003941964266947554), (1207, 0.0), (1208, 0.011262453606226772), (1209, 0.0038742130562577685), (1210, 0.02683269898557243), (1211, 0.004881025507873213), (1212, 0.004302227106460915), (1213, 0.028641839984594245), (1214, 0.004263290703257899), (1215, 0.0036364531589824075), (1216, 0.008310200080014978), (1217, 0.00860996475202402), (1218, 0.03263961947805271), (1219, 0.003810924034140916), (1220, 0.003982249372229359), (1221, 0.0), (1222, 0.004181554206634502), (1223, 0.004296146308404675), (1224, 0.00982102014820878), (1225, 0.004470962087153404), (1226, 0.0), (1227, 0.0790952043295259), (1228, 0.0), (1229, 0.00441213324319324), (1230, 0.026143238259411797), (1231, 0.004862682843421657), (1232, 0.009416937969320183), (1233, 0.0), (1234, 0.005218382197012276), (1235, 0.0), (1236, 0.0), (1237, 0.0037407877454094084), (1238, 0.004962995942559289), (1239, 0.0), (1240, 0.0), (1241, 0.0036250658218050843), (1242, 0.0), (1243, 0.0055205488453316095), (1244, 0.0), (1245, 0.004086896235130958), (1246, 0.0054766155691500715), (1247, 0.0041099129827760535), (1248, 0.004103869482180903), (1249, 0.004477872450058194), (1250, 0.0), (1251, 0.008203390039608134), (1252, 0.004247820920559776), (1253, 0.0), (1254, 0.0), (1255, 0.003979348120448461), (1256, 0.005009035792729452), (1257, 0.004132965428536629), (1258, 0.0), (1259, 0.0), (1260, 0.005514173199417908), (1261, 0.008870061162597557), (1262, 0.0), (1263, 0.0), (1264, 0.005180329941201339), (1265, 0.0), (1266, 0.0), (1267, 0.016052567865956595), (1268, 0.004212002817391983), (1269, 0.0), (1270, 0.0), (1271, 0.0), (1272, 0.016788943953145317), (1273, 0.0038423488432883252), (1274, 0.0), (1275, 0.004701652493570276), (1276, 0.0), (1277, 0.02829446768357444), (1278, 0.0), (1279, 0.0), (1280, 0.0), (1281, 0.0), (1282, 0.005391410669558878), (1283, 0.0), (1284, 0.0048713828473347116), (1285, 0.0), (1286, 0.009595111297753669), (1287, 0.0), (1288, 0.0), (1289, 0.0), (1290, 0.003740813591769764), (1291, 0.0046983486478076155), (1292, 0.02308848567381375), (1293, 0.0), (1294, 0.0), (1295, 0.0), (1296, 0.0), (1297, 0.0049273301177559774), (1298, 0.004968501535067915), (1299, 0.0), (1300, 0.004203537453179116), (1301, 0.030184394116505118), (1302, 0.005029041236322161), (1303, 0.003404798813750024), (1304, 0.004944722497226428), (1305, 0.003489748551908008), (1306, 0.003093789832002305), (1307, 0.0), (1308, 0.008581068097766783), (1309, 0.008630895379193737), (1310, 0.004654148869983814), (1311, 0.0), (1312, 0.004474593208029986), (1313, 0.004148816418976257), (1314, 0.0), (1315, 0.0), (1316, 0.0), (1317, 0.004221916047996963), (1318, 0.0661624828395164), (1319, 0.02706147048577895), (1320, 0.004139736039695438), (1321, 0.0), (1322, 0.0), (1323, 0.0046449838681060325), (1324, 0.004433507214969128), (1325, 0.035053586779903785), (1326, 0.0), (1327, 0.0047358399583703765), (1328, 0.0), (1329, 0.009796717160494253), (1330, 0.0050208909887942904), (1331, 0.0379797860088607), (1332, 0.0), (1333, 0.0), (1334, 0.004197805338167216), (1335, 0.03199932731461571), (1336, 0.025504353653368842), (1337, 0.04436396743184044), (1338, 0.10714841917892717), (1339, 0.03706883876643691), (1340, 0.008586647943638136), (1341, 0.004164517372942335), (1342, 0.0), (1343, 0.0), (1344, 0.02943388207587872), (1345, 0.005115547810796909), (1346, 0.0), (1347, 0.0), (1348, 0.004496968878562538), (1349, 0.00464171228881278), (1350, 0.004476840381240234), (1351, 0.0030805851659823466), (1352, 0.0037419524170474064), (1353, 0.0), (1354, 0.0), (1355, 0.0), (1356, 0.003525069481606244), (1357, 0.003930544084189739), (1358, 0.0), (1359, 0.010449013477391293), (1360, 0.03674066442869302), (1361, 0.005161439752915539), (1362, 0.003745407966872097), (1363, 0.0048464460665132506), (1364, 0.00977324863932812), (1365, 0.0036100074726893344), (1366, 0.0), (1367, 0.004189597062790153), (1368, 0.004746442955195837), (1369, 0.03230586998778526), (1370, 0.031520630749768366), (1371, 0.10283580838001809), (1372, 0.008636295114199983), (1373, 0.004969190370405943), (1374, 0.0), (1375, 0.003943553150580103), (1376, 0.0), (1377, 0.0036036619417713564), (1378, 0.004171307766641846), (1379, 0.03353517645843461), (1380, 0.0), (1381, 0.0), (1382, 0.009689441814706315), (1383, 0.0047612118742621995), (1384, 0.0), (1385, 0.004000879337082757), (1386, 0.0), (1387, 0.0037194856403874274), (1388, 0.0), (1389, 0.0), (1390, 0.0), (1391, 0.05352428588344436), (1392, 0.02689957212636851), (1393, 0.0), (1394, 0.008001997746436437), (1395, 0.0), (1396, 0.0), (1397, 0.0045545063828221445), (1398, 0.027368401658856824), (1399, 0.02644973305583036), (1400, 0.004380139746369549), (1401, 0.0), (1402, 0.0), (1403, 0.007133378931081272), (1404, 0.0), (1405, 0.03554191311180066), (1406, 0.0), (1407, 0.0), (1408, 0.008983381512199348), (1409, 0.04438769717378328), (1410, 0.009310336640847613), (1411, 0.02248853077695682), (1412, 0.0), (1413, 0.004316910408579042), (1414, 0.0036953675283241745), (1415, 0.003592017205373148), (1416, 0.0), (1417, 0.003310120029378958), (1418, 0.0), (1419, 0.03465901669433792), (1420, 0.004942919206315679), (1421, 0.004114474268040563), (1422, 0.009099318123635888), (1423, 0.039954778192125694), (1424, 0.006003346915802358), (1425, 0.0), (1426, 0.0), (1427, 0.008456115245906597), (1428, 0.0), (1429, 0.004998227421200668), (1430, 0.0), (1431, 0.0), (1432, 0.005347682766531982), (1433, 0.0), (1434, 0.0), (1435, 0.0), (1436, 0.0), (1437, 0.0), (1438, 0.030510979408512395), (1439, 0.0), (1440, 0.0), (1441, 0.0), (1442, 0.026718936957193004), (1443, 0.0), (1444, 0.0), (1445, 0.00523719488893746), (1446, 0.004066903869578012), (1447, 0.04201110262056061), (1448, 0.022154791175329466), (1449, 0.0), (1450, 0.031753251884250155), (1451, 0.0), (1452, 0.0), (1453, 0.00423907881373112), (1454, 0.03328472810629857), (1455, 0.0), (1456, 0.024770004957913826), (1457, 0.00477502349731098), (1458, 0.0), (1459, 0.0), (1460, 0.0), (1461, 0.005081150603798945), (1462, 0.0038680995101132484), (1463, 0.03309803630973548), (1464, 0.06827737998876593), (1465, 0.004394300622753243), (1466, 0.022459487888523966), (1467, 0.0), (1468, 0.004648641961492716), (1469, 0.024998063124752116), (1470, 0.0), (1471, 0.003200576158370973), (1472, 0.004150122112495287), (1473, 0.0309374262055195), (1474, 0.004608518628396894), (1475, 0.004352135746040368), (1476, 0.009166463354897524), (1477, 0.008415130931259462), (1478, 0.00398817015391818), (1479, 0.026416304397366586), (1480, 0.0), (1481, 0.004031287145001406), (1482, 0.004645579442689131), (1483, 0.030806213494359504), (1484, 0.0), (1485, 0.004983470851538674), (1486, 0.039138128015116264), (1487, 0.004682736552174402), (1488, 0.014064463443067688), (1489, 0.010518740343897694), (1490, 0.0), (1491, 0.005615901030459487), (1492, 0.0), (1493, 0.0), (1494, 0.005083218459157899), (1495, 0.005328283843146543), (1496, 0.005049262590837986), (1497, 0.041751179116265774), (1498, 0.0048801135965116085), (1499, 0.021078568315155054), (1500, 0.0), (1501, 0.005029461444949495), (1502, 0.0), (1503, 0.09875041765073284), (1504, 0.0), (1505, 0.005165383857566246), (1506, 0.006311781719635444), (1507, 0.040924607611931285), (1508, 0.005059762252965571), (1509, 0.02188938441047309), (1510, 0.00405378016219321), (1511, 0.0), (1512, 0.0), (1513, 0.009893852630971589), (1514, 0.00396211711653416), (1515, 0.0), (1516, 0.005256798128636839), (1517, 0.0), (1518, 0.00992473116965478), (1519, 0.06820955587453298), (1520, 0.0053881113624180315), (1521, 0.004613692907859553), (1522, 0.0), (1523, 0.004238588205408344), (1524, 0.0), (1525, 0.005085866400523951), (1526, 0.0), (1527, 0.0), (1528, 0.004602296167616426), (1529, 0.0), (1530, 0.0), (1531, 0.038179783627700054), (1532, 0.0), (1533, 0.00928765721877424), (1534, 0.0), (1535, 0.0), (1536, 0.0), (1537, 0.009869486682993771), (1538, 0.0), (1539, 0.012821791341247491), (1540, 0.0), (1541, 0.0), (1542, 0.0050906996873336255), (1543, 0.043833195744838876), (1544, 0.0), (1545, 0.0), (1546, 0.0), (1547, 0.004911495474071314), (1548, 0.0), (1549, 0.005119820660030741), (1550, 0.0), (1551, 0.0), (1552, 0.004864624405822628), (1553, 0.0), (1554, 0.0), (1555, 0.057777942873975474), (1556, 0.0), (1557, 0.005078720380883495), (1558, 0.004095772010059905), (1559, 0.0), (1560, 0.00568606265740605), (1561, 0.0), (1562, 0.0), (1563, 0.0), (1564, 0.02064141421571507), (1565, 0.003816274294899221), (1566, 0.0), (1567, 0.004545283376122037), (1568, 0.0), (1569, 0.004432291364745506), (1570, 0.004507670377096756), (1571, 0.004446064976983611), (1572, 0.005254910590704503), (1573, 0.031212390096361245), (1574, 0.0), (1575, 0.0), (1576, 0.0), (1577, 0.0), (1578, 0.0), (1579, 0.0), (1580, 0.0), (1581, 0.0), (1582, 0.008702104796854071), (1583, 0.0), (1584, 0.0), (1585, 0.010466027073642166), (1586, 0.0), (1587, 0.005252539036753396), (1588, 0.03144190272399019), (1589, 0.0050177653190841085), (1590, 0.0), (1591, 0.045105038077626815), (1592, 0.0), (1593, 0.0), (1594, 0.005409534348005643), (1595, 0.0038451009391801978), (1596, 0.005500592938843517), (1597, 0.004064455332275388), (1598, 0.04678937547277701), (1599, 0.0), (1600, 0.0), (1601, 0.005630150501630122), (1602, 0.0), (1603, 0.0), (1604, 0.0), (1605, 0.00388083931613014), (1606, 0.0), (1607, 0.0), (1608, 0.003954036101440677), (1609, 0.0), (1610, 0.0048430274720089594), (1611, 0.0), (1612, 0.0), (1613, 0.025271704402410073), (1614, 0.005476737993842316), (1615, 0.005774604750124881), (1616, 0.008107227453779337), (1617, 0.01821230253084647), (1618, 0.022638820735721606), (1619, 0.004356972668883904), (1620, 0.0041529062398656625), (1621, 0.02350047719762691), (1622, 0.0), (1623, 0.0), (1624, 0.003519869903474954), (1625, 0.01592359682812374), (1626, 0.0), (1627, 0.003819643710064323), (1628, 0.004062401790990526), (1629, 0.004213241472701974), (1630, 0.0), (1631, 0.0), (1632, 0.0), (1633, 0.0), (1634, 0.013999346014367534), (1635, 0.0), (1636, 0.07160471511158664), (1637, 0.005903680274565584), (1638, 0.005098409609135507), (1639, 0.03923668126457145), (1640, 0.02765556463859607), (1641, 0.0), (1642, 0.0047471770409002936), (1643, 0.004378161466513636), (1644, 0.0), (1645, 0.004315221227970686), (1646, 0.0), (1647, 0.0), (1648, 0.003237231100746743), (1649, 0.0), (1650, 0.0), (1651, 0.0), (1652, 0.004491368790535285), (1653, 0.004185782574278907), (1654, 0.0), (1655, 0.005211413445982245), (1656, 0.005559992901462022), (1657, 0.018934896096075654), (1658, 0.01072884342090788), (1659, 0.0), (1660, 0.00520467667240079), (1661, 0.0), (1662, 0.0), (1663, 0.035235595544581534), (1664, 0.0), (1665, 0.004027983922807817), (1666, 0.004099469510761226), (1667, 0.004056817310513416), (1668, 0.0), (1669, 0.0), (1670, 0.0), (1671, 0.004189188567676965), (1672, 0.02469876265197475), (1673, 0.0), (1674, 0.0), (1675, 0.0038549962396190796), (1676, 0.004089240598822465), (1677, 0.007480541959881565), (1678, 0.004212611618331713), (1679, 0.0), (1680, 0.0), (1681, 0.0), (1682, 0.0039330505625574195), (1683, 0.005265053966146177), (1684, 0.0045253212649088255), (1685, 0.004522045631830361), (1686, 0.0), (1687, 0.004527571913375056), (1688, 0.00516289328060526), (1689, 0.0), (1690, 0.012853332855650816), (1691, 0.0), (1692, 0.0), (1693, 0.009052308986777138), (1694, 0.019474814254425134), (1695, 0.003979430164948926), (1696, 0.0), (1697, 0.005153383419643834), (1698, 0.0), (1699, 0.0), (1700, 0.004997761344281957), (1701, 0.0), (1702, 0.0), (1703, 0.004490339756564336), (1704, 0.041760495077537735), (1705, 0.0), (1706, 0.004152421298629257), (1707, 0.0035730791350733655), (1708, 0.0), (1709, 0.0), (1710, 0.004094963474914578), (1711, 0.005166185373059342), (1712, 0.0), (1713, 0.0), (1714, 0.004633600265317698), (1715, 0.004556457482543896), (1716, 0.004605525072042557), (1717, 0.004235122322795436), (1718, 0.0053452603402780186), (1719, 0.008319617832857538), (1720, 0.0), (1721, 0.004902096612655993), (1722, 0.00949277744779884), (1723, 0.0), (1724, 0.0), (1725, 0.0), (1726, 0.0050641383677013105), (1727, 0.005307260642765175), (1728, 0.0), (1729, 0.0), (1730, 0.004183973941025844), (1731, 0.0053227658882541735), (1732, 0.0), (1733, 0.005516600466831649), (1734, 0.0), (1735, 0.0), (1736, 0.0), (1737, 0.0), (1738, 0.004917698816400013), (1739, 0.0038596096564880817), (1740, 0.004228064573315393), (1741, 0.06542707112035734), (1742, 0.02618783779776487), (1743, 0.0035520746139552756), (1744, 0.008752219749997535), (1745, 0.0), (1746, 0.0046922288813869605), (1747, 0.003322088407184591), (1748, 0.004860863855208525), (1749, 0.0), (1750, 0.004883051236882516), (1751, 0.005114816940841333), (1752, 0.0), (1753, 0.0), (1754, 0.0), (1755, 0.0), (1756, 0.0), (1757, 0.07913901488807168), (1758, 0.0), (1759, 0.010043052289613249), (1760, 0.0289132852107928), (1761, 0.0), (1762, 0.0037792532419158955), (1763, 0.0038070884689282974), (1764, 0.0037491892633112573), (1765, 0.04361321871955127), (1766, 0.005694478614733722), (1767, 0.0), (1768, 0.004199052702311406), (1769, 0.022547043756270323), (1770, 0.0), (1771, 0.00489508256756396), (1772, 0.0), (1773, 0.0), (1774, 0.0032405488067865757), (1775, 0.0), (1776, 0.0), (1777, 0.0), (1778, 0.004769760606167306), (1779, 0.05518553083372117), (1780, 0.0), (1781, 0.004209602732157946), (1782, 0.004049717716559201), (1783, 0.004998828094590025), (1784, 0.004540510174195569), (1785, 0.0), (1786, 0.030075218025471778), (1787, 0.004670183764293637), (1788, 0.004696368920955388), (1789, 0.0), (1790, 0.0), (1791, 0.005293619602943592), (1792, 0.0058525433199104315), (1793, 0.0), (1794, 0.0049374910659339905), (1795, 0.0), (1796, 0.0040121912543896595), (1797, 0.06991558410294882), (1798, 0.004587253383668671), (1799, 0.0), (1800, 0.0), (1801, 0.0), (1802, 0.0), (1803, 0.010895518877318247), (1804, 0.004939075128416813), (1805, 0.0), (1806, 0.005768004507978611), (1807, 0.03533859011894343), (1808, 0.0), (1809, 0.0), (1810, 0.0), (1811, 0.0), (1812, 0.0), (1813, 0.004043890745374008), (1814, 0.0), (1815, 0.11068494319673403), (1816, 0.009022588952246986), (1817, 0.0), (1818, 0.05045328512250524), (1819, 0.004003556730518927), (1820, 0.0), (1821, 0.03034485351974938), (1822, 0.04357709132959575), (1823, 0.0), (1824, 0.004708986096086821), (1825, 0.0), (1826, 0.0), (1827, 0.008443350466819703), (1828, 0.003593037513516458), (1829, 0.0), (1830, 0.008289321523191671), (1831, 0.0), (1832, 0.0), (1833, 0.004678580108284302), (1834, 0.0), (1835, 0.0), (1836, 0.0459934937133443), (1837, 0.005094666586489441), (1838, 0.0), (1839, 0.004701519236125623), (1840, 0.0), (1841, 0.0), (1842, 0.0048995292232774275), (1843, 0.0), (1844, 0.02908400989216934), (1845, 0.003520198341925188), (1846, 0.0), (1847, 0.03644144838810606), (1848, 0.005498510520911683), (1849, 0.0), (1850, 0.004401547976982925), (1851, 0.009819835591300459), (1852, 0.0), (1853, 0.004416210748213139), (1854, 0.0), (1855, 0.0), (1856, 0.0), (1857, 0.0), (1858, 0.0), (1859, 0.0), (1860, 0.0), (1861, 0.007664548337581729), (1862, 0.0), (1863, 0.0), (1864, 0.004007985362688598), (1865, 0.0038157830860788833), (1866, 0.0045232284054705935), (1867, 0.004934794937626826), (1868, 0.0), (1869, 0.003811521869758082), (1870, 0.0), (1871, 0.0073644165450969246), (1872, 0.0), (1873, 0.0), (1874, 0.0), (1875, 0.003836210719082395), (1876, 0.004419374439002316), (1877, 0.004737418568717785), (1878, 0.008794257623592426), (1879, 0.03505980139484192), (1880, 0.004969018119397474), (1881, 0.005112891355758219), (1882, 0.004156780229057523), (1883, 0.004046165687452035), (1884, 0.00396228726856782), (1885, 0.004946139657941488), (1886, 0.0034494474522671747), (1887, 0.0), (1888, 0.009847972531520657), (1889, 0.005146902183552206), (1890, 0.0), (1891, 0.004131241785419748), (1892, 0.004109947434752322), (1893, 0.033544697905209), (1894, 0.0), (1895, 0.0), (1896, 0.004547908205449406), (1897, 0.0045650158220637855), (1898, 0.004760439848458992), (1899, 0.004663217247893469), (1900, 0.004812447320218935), (1901, 0.0), (1902, 0.04698090347072101), (1903, 0.004567713379906687), (1904, 0.0), (1905, 0.004561496513765725), (1906, 0.0), (1907, 0.004523566441313959), (1908, 0.0), (1909, 0.00484561332984812), (1910, 0.0), (1911, 0.005174100268193841), (1912, 0.004921244877126261), (1913, 0.004857303609039107), (1914, 0.028153085088233016), (1915, 0.0), (1916, 0.004493397144089575), (1917, 0.0), (1918, 0.02504058816240221), (1919, 0.027802143802400876), (1920, 0.003787622722801586), (1921, 0.0), (1922, 0.0), (1923, 0.010080812280063073), (1924, 0.004662079998941473), (1925, 0.0), (1926, 0.005427794689342926), (1927, 0.0), (1928, 0.018834732742234378), (1929, 0.0800988216850426), (1930, 0.0), (1931, 0.0042993454261630055), (1932, 0.0), (1933, 0.0), (1934, 0.034523883926883124), (1935, 0.0411132477427301), (1936, 0.0), (1937, 0.0), (1938, 0.0), (1939, 0.0710510064962569), (1940, 0.0), (1941, 0.005781808259909342), (1942, 0.004325821420515556), (1943, 0.007924016994407635), (1944, 0.0), (1945, 0.0), (1946, 0.004382122814927601), (1947, 0.04699456183763326), (1948, 0.0), (1949, 0.0), (1950, 0.0035182029838707316), (1951, 0.015068895281286854), (1952, 0.0), (1953, 0.0), (1954, 0.02084587255077408), (1955, 0.00536996437773823), (1956, 0.005153061875321824), (1957, 0.0), (1958, 0.0), (1959, 0.0), (1960, 0.004441380484937908), (1961, 0.0050762800238822285), (1962, 0.0), (1963, 0.01866309844588459), (1964, 0.0037839025631934624), (1965, 0.005140761042872894), (1966, 0.030245750842035665), (1967, 0.004260046736581483), (1968, 0.0046914912834072), (1969, 0.004192815681640921), (1970, 0.0), (1971, 0.003742022589611188), (1972, 0.0), (1973, 0.004748524929772428), (1974, 0.004645003935611422), (1975, 0.0), (1976, 0.0), (1977, 0.0037512660672504865), (1978, 0.017187259853970717), (1979, 0.0), (1980, 0.021981335767425735), (1981, 0.033724104916547315), (1982, 0.004611708523618129), (1983, 0.004251379811792695), (1984, 0.004915371689893564), (1985, 0.00426690890820267), (1986, 0.07195189198203641), (1987, 0.004545712380314424), (1988, 0.0), (1989, 0.0034146574922944623), (1990, 0.0), (1991, 0.0), (1992, 0.004725034643680849), (1993, 0.0), (1994, 0.0), (1995, 0.005017876446644531), (1996, 0.0), (1997, 0.004586840095133956), (1998, 0.0), (1999, 0.02730811493191152), (2000, 0.0034384090746113678), (2001, 0.004376441468635741), (2002, 0.0), (2003, 0.005074779142325165), (2004, 0.003998783476147215), (2005, 0.0), (2006, 0.06225262120433957), (2007, 0.004509813288638831), (2008, 0.004162365039125193), (2009, 0.005974863108176535), (2010, 0.003470873740254337), (2011, 0.003792766009783111), (2012, 0.005584791412358361), (2013, 0.0), (2014, 0.0), (2015, 0.02065614108926965), (2016, 0.004466284598254514), (2017, 0.0), (2018, 0.00422059872752339), (2019, 0.004952461786471364), (2020, 0.0), (2021, 0.005479353591054689), (2022, 0.0), (2023, 0.003974121312033543), (2024, 0.0041543010288725354), (2025, 0.0), (2026, 0.004914904506343482), (2027, 0.00415563319800862), (2028, 0.0), (2029, 0.022228614475021325), (2030, 0.0), (2031, 0.0038370044202388418), (2032, 0.005691884893082822), (2033, 0.036545421524653045), (2034, 0.0035793101865825854), (2035, 0.0035710951682475004), (2036, 0.004840197440660762), (2037, 0.0044050573854257325), (2038, 0.0), (2039, 0.0035141405622066803), (2040, 0.00452929152577851), (2041, 0.025164512040770266), (2042, 0.0), (2043, 0.00458485686193048), (2044, 0.0), (2045, 0.0041818368501747505), (2046, 0.02277945579274394), (2047, 0.0), (2048, 0.004442329685563755), (2049, 0.010364731732558877), (2050, 0.004818941481075732), (2051, 0.00484146254855774), (2052, 0.0), (2053, 0.0044542088559940485), (2054, 0.0), (2055, 0.003804522596405055), (2056, 0.0048923956150780466), (2057, 0.0), (2058, 0.004539389343999454), (2059, 0.0), (2060, 0.04050610528207089), (2061, 0.004164703686836033), (2062, 0.0), (2063, 0.0), (2064, 0.0), (2065, 0.003714434982394634), (2066, 0.0), (2067, 0.025163232711853934), (2068, 0.008940028002227181), (2069, 0.004079300267091073), (2070, 0.003573095455141937), (2071, 0.019320027982603367), (2072, 0.0), (2073, 0.004219837279374955), (2074, 0.0), (2075, 0.0053492200068874325), (2076, 0.018874497017088678), (2077, 0.006002037082895371), (2078, 0.0), (2079, 0.0), (2080, 0.0), (2081, 0.005199205986119917), (2082, 0.005624502914423019), (2083, 0.004384040518852011), (2084, 0.0), (2085, 0.0), (2086, 0.005328790967223002), (2087, 0.009140427208624846), (2088, 0.004458601591041324), (2089, 0.004840117558110076), (2090, 0.0052293959490527136), (2091, 0.0043736356215069), (2092, 0.0), (2093, 0.004717588873552903), (2094, 0.0), (2095, 0.0), (2096, 0.025362405384140845), (2097, 0.004607216364065907), (2098, 0.0), (2099, 0.004664827693551946), (2100, 0.0), (2101, 0.005516735878353095), (2102, 0.004088326430367476), (2103, 0.004097062099187595), (2104, 0.004464145368214514), (2105, 0.004417840160473796), (2106, 0.010383772359297156), (2107, 0.004806850109662356), (2108, 0.03148669363323494), (2109, 0.0), (2110, 0.0), (2111, 0.009756055582272856), (2112, 0.004514314634073913), (2113, 0.0), (2114, 0.026157179636559655), (2115, 0.0), (2116, 0.010148800350019051), (2117, 0.004029862379619456), (2118, 0.03319819657641252), (2119, 0.0), (2120, 0.0), (2121, 0.004147492929590731), (2122, 0.03608198216936084), (2123, 0.0), (2124, 0.0), (2125, 0.005102368179017087), (2126, 0.0), (2127, 0.0035719468984243144), (2128, 0.03348601504948938), (2129, 0.015714040416695774), (2130, 0.0), (2131, 0.008973527255552914), (2132, 0.0035615160327161378), (2133, 0.0), (2134, 0.004874122366331243), (2135, 0.0), (2136, 0.02077112086578579), (2137, 0.006783444987470264), (2138, 0.0), (2139, 0.0), (2140, 0.005263436518202632), (2141, 0.016054129371488948), (2142, 0.031572510742889165), (2143, 0.003953991302873678), (2144, 0.023409820874464693), (2145, 0.009177948283364408), (2146, 0.004511804243640517), (2147, 0.038109964139194014), (2148, 0.01037287998563669), (2149, 0.03758638466461024), (2150, 0.004776433898999728), (2151, 0.010713440812963238), (2152, 0.0), (2153, 0.02417537107140343), (2154, 0.005080147694350577), (2155, 0.0042421715444379325), (2156, 0.0), (2157, 0.007886316290636393), (2158, 0.005615380532933566), (2159, 0.004605781499402648), (2160, 0.0), (2161, 0.004478723821903174), (2162, 0.004764669008098375), (2163, 0.03140213760070531), (2164, 0.0), (2165, 0.0), (2166, 0.004803915860612238), (2167, 0.0429566442913569), (2168, 0.004474039250860332), (2169, 0.004216661058150566), (2170, 0.0046581902223187645), (2171, 0.02773430152722324), (2172, 0.0), (2173, 0.01878907043396588), (2174, 0.0041226886939014435), (2175, 0.03392577632412787), (2176, 0.004702273658476044), (2177, 0.0), (2178, 0.0), (2179, 0.024003423591378015), (2180, 0.0), (2181, 0.02974849526908456), (2182, 0.0), (2183, 0.0), (2184, 0.0), (2185, 0.0), (2186, 0.0058858349706996495), (2187, 0.005706484367610027), (2188, 0.004941180317737056), (2189, 0.0), (2190, 0.018413576275560336), (2191, 0.003858868569031982), (2192, 0.005046200620119342), (2193, 0.005051126853625825), (2194, 0.005301557937395002), (2195, 0.03922170692040025), (2196, 0.0), (2197, 0.0), (2198, 0.0), (2199, 0.011649004559825857), (2200, 0.0), (2201, 0.008581321220188669), (2202, 0.004872482016938079), (2203, 0.0), (2204, 0.014704801758741108), (2205, 0.0), (2206, 0.0), (2207, 0.02369752454849932), (2208, 0.005242474071394848), (2209, 0.04590032751070125), (2210, 0.004114587349080503), (2211, 0.12007754094715463), (2212, 0.0042171825957273345), (2213, 0.0), (2214, 0.004612700577914353), (2215, 0.0), (2216, 0.030640541058150797), (2217, 0.005117729151719584), (2218, 0.005397263274057962), (2219, 0.0), (2220, 0.0), (2221, 0.0), (2222, 0.045653640428798346), (2223, 0.010120899508111694), (2224, 0.0039057649936485783), (2225, 0.004631742644217303), (2226, 0.004167477809272904), (2227, 0.0), (2228, 0.006282581338950654), (2229, 0.00483627684954359), (2230, 0.061416813724397015), (2231, 0.0), (2232, 0.0), (2233, 0.0), (2234, 0.010015698471955893), (2235, 0.0), (2236, 0.004595546568704688), (2237, 0.03934457638727195), (2238, 0.0), (2239, 0.0), (2240, 0.008253116564368614), (2241, 0.005305261007699035), (2242, 0.009556393386954801), (2243, 0.0), (2244, 0.02025278097703572), (2245, 0.0), (2246, 0.0), (2247, 0.0), (2248, 0.03420452118250464), (2249, 0.045207080199474226), (2250, 0.004118030972424999), (2251, 0.005864916381297673), (2252, 0.0), (2253, 0.0), (2254, 0.04181679566792413), (2255, 0.030901038587110654), (2256, 0.0), (2257, 0.005437977829461481), (2258, 0.0), (2259, 0.02095183758441129), (2260, 0.010362474326267348), (2261, 0.005758059503504601), (2262, 0.004546551649610221), (2263, 0.0), (2264, 0.004548340427726341), (2265, 0.00848649625453668), (2266, 0.005087020663025901), (2267, 0.0), (2268, 0.0), (2269, 0.0048219678018169955), (2270, 0.00441226163614237), (2271, 0.0), (2272, 0.033590240015039546), (2273, 0.0), (2274, 0.027583757088523075), (2275, 0.0), (2276, 0.0), (2277, 0.004392239436615417), (2278, 0.0), (2279, 0.004227356218241781), (2280, 0.004921307069350128), (2281, 0.006546210358159337), (2282, 0.0), (2283, 0.0), (2284, 0.0050921399741972045), (2285, 0.0), (2286, 0.028461629995024842), (2287, 0.032199384517008225), (2288, 0.0), (2289, 0.004543047341151902), (2290, 0.005017172378251532), (2291, 0.0), (2292, 0.042718068991361796), (2293, 0.0), (2294, 0.0), (2295, 0.004293639970484818), (2296, 0.0), (2297, 0.005043255599999228), (2298, 0.0), (2299, 0.037490260961017936), (2300, 0.0), (2301, 0.021817039797093235), (2302, 0.01045804554746182), (2303, 0.005273488387717999), (2304, 0.011138182437059382), (2305, 0.04104614304137476), (2306, 0.0), (2307, 0.0), (2308, 0.005931357974329824), (2309, 0.02593238902753816), (2310, 0.0), (2311, 0.01759908770563679), (2312, 0.0), (2313, 0.004215780167685545), (2314, 0.0), (2315, 0.0), (2316, 0.052122468079909154), (2317, 0.05322327146230671), (2318, 0.0), (2319, 0.0417681743133603), (2320, 0.01073606349413437), (2321, 0.004247387373974096), (2322, 0.026177071238918184), (2323, 0.0), (2324, 0.0), (2325, 0.0), (2326, 0.0), (2327, 0.004729652613742184), (2328, 0.0), (2329, 0.004900529451499628), (2330, 0.0), (2331, 0.004321322289043199), (2332, 0.0), (2333, 0.006043140586633125), (2334, 0.07566402617519194), (2335, 0.004969726992711355), (2336, 0.005077666617784003), (2337, 0.0), (2338, 0.0037731850357676914), (2339, 0.0), (2340, 0.022357223934690716), (2341, 0.0), (2342, 0.0), (2343, 0.0), (2344, 0.004481925135407988), (2345, 0.0), (2346, 0.0), (2347, 0.003938022025856113), (2348, 0.04918543069847825), (2349, 0.00575448191589443), (2350, 0.005415197099253551), (2351, 0.005905156564279668), (2352, 0.0), (2353, 0.005172625709300777), (2354, 0.0), (2355, 0.0036192173874450917), (2356, 0.0), (2357, 0.005777879881155702), (2358, 0.0), (2359, 0.0035928259443719223), (2360, 0.0), (2361, 0.0045931337903059605), (2362, 0.004153481596935426), (2363, 0.00636591536082607), (2364, 0.004248563790255091), (2365, 0.0), (2366, 0.0), (2367, 0.008564555865068683), (2368, 0.03788011862183217), (2369, 0.0), (2370, 0.0), (2371, 0.0), (2372, 0.0), (2373, 0.0), (2374, 0.03140474158404101), (2375, 0.05162832882142189), (2376, 0.0), (2377, 0.0), (2378, 0.0), (2379, 0.012778693121673295), (2380, 0.0), (2381, 0.005562529570958289), (2382, 0.0), (2383, 0.0), (2384, 0.0), (2385, 0.005056933922967353), (2386, 0.004377372508606501), (2387, 0.04250202138997056), (2388, 0.0273519234414151), (2389, 0.004556039256849292), (2390, 0.06433389880763414), (2391, 0.00995338665199573), (2392, 0.0), (2393, 0.004319441830058194), (2394, 0.010101061570617888), (2395, 0.007073678713825602), (2396, 0.041499749951391454), (2397, 0.009019900643276346), (2398, 0.0), (2399, 0.008436295164650979), (2400, 0.004698410416837968), (2401, 0.0), (2402, 0.04360375311721923), (2403, 0.005746964877084224), (2404, 0.0067929452198030585), (2405, 0.0043320503190602275), (2406, 0.005037631621832507), (2407, 0.005572132733811626), (2408, 0.0), (2409, 0.03950798700084739), (2410, 0.005630322281210366), (2411, 0.0047794581808498614), (2412, 0.003624883503963838), (2413, 0.0), (2414, 0.0), (2415, 0.005342251139627291), (2416, 0.0), (2417, 0.064148442786542), (2418, 0.0), (2419, 0.0), (2420, 0.005494405405265481), (2421, 0.0), (2422, 0.00920453837759868), (2423, 0.011925549318815978), (2424, 0.00470386726804698), (2425, 0.0), (2426, 0.004576965757165858), (2427, 0.004923869569975232), (2428, 0.005024418608320175), (2429, 0.0), (2430, 0.00408949231495551), (2431, 0.08106110570524534), (2432, 0.0), (2433, 0.032492180190757176), (2434, 0.010971814348719404), (2435, 0.004998173422999782), (2436, 0.004625710598196234), (2437, 0.004928529712593462), (2438, 0.005349692631188125), (2439, 0.00447299706386591), (2440, 0.004917580226769132), (2441, 0.03744534059583342), (2442, 0.0), (2443, 0.0028504673709401386), (2444, 0.005166056461918791), (2445, 0.0), (2446, 0.055735612967670975), (2447, 0.0036196156912089643), (2448, 0.005383044447297253), (2449, 0.005139507607232228), (2450, 0.004940423869448202), (2451, 0.0), (2452, 0.019139922544572738), (2453, 0.003939006479764705), (2454, 0.0), (2455, 0.0), (2456, 0.0051303262618414515), (2457, 0.00390880904290543), (2458, 0.0), (2459, 0.004900840381055896), (2460, 0.031101491610618398), (2461, 0.008826137005479252), (2462, 0.0), (2463, 0.0), (2464, 0.005952140149035844), (2465, 0.03817239278159158), (2466, 0.023893487010272454), (2467, 0.00881922393940517), (2468, 0.005939566138134667), (2469, 0.04569516186318667), (2470, 0.0), (2471, 0.0), (2472, 0.005262724065139834), (2473, 0.004032892590616179), (2474, 0.003366005450161332), (2475, 0.0049420257031411105), (2476, 0.0), (2477, 0.004455998788466647), (2478, 0.051539660644495666), (2479, 0.005964215102094191), (2480, 0.0), (2481, 0.0), (2482, 0.00396597281740875), (2483, 0.0), (2484, 0.005522430439045361), (2485, 0.0), (2486, 0.050165333817011146), (2487, 0.005256742091322779), (2488, 0.01103044926288748), (2489, 0.0042882645317799594), (2490, 0.04454099209985808), (2491, 0.0), (2492, 0.009372753746857818), (2493, 0.005639882754187287), (2494, 0.009484621177851113), (2495, 0.005256713551040982), (2496, 0.004095300786821375), (2497, 0.004644795703620284), (2498, 0.0), (2499, 0.005139541617834398), (2500, 0.006909740942023828), (2501, 0.0), (2502, 0.0037914078226717767), (2503, 0.03893961224798174), (2504, 0.005210052943719928), (2505, 0.0), (2506, 0.0), (2507, 0.044259988819702854), (2508, 0.0), (2509, 0.039509961895611206), (2510, 0.0), (2511, 0.0051519120198342235), (2512, 0.02706504790839391), (2513, 0.0), (2514, 0.032931444751742714), (2515, 0.0), (2516, 0.0), (2517, 0.0), (2518, 0.0), (2519, 0.03846431143621127), (2520, 0.0037421089520626883), (2521, 0.025106561990648563), (2522, 0.004530671497503514), (2523, 0.050283392930946524), (2524, 0.0), (2525, 0.0), (2526, 0.0035570905931880145), (2527, 0.022491220334372113), (2528, 0.004022678657999221), (2529, 0.013287634876453049), (2530, 0.005179972338728814), (2531, 0.00965322571999792), (2532, 0.0), (2533, 0.03615561269639475), (2534, 0.014486420738918204), (2535, 0.04692239432508805), (2536, 0.0), (2537, 0.006708523683337037), (2538, 0.013312928862193117), (2539, 0.0286307575538682), (2540, 0.004058021200892033), (2541, 0.06289104097817838), (2542, 0.0), (2543, 0.006430776204359798), (2544, 0.0), (2545, 0.0), (2546, 0.005394671464556069), (2547, 0.0), (2548, 0.0), (2549, 0.0), (2550, 0.0031564994860871953), (2551, 0.0), (2552, 0.01766915234148046), (2553, 0.00888824961864913), (2554, 0.009569327547641658), (2555, 0.004603409514667565), (2556, 0.004020813800043963), (2557, 0.0), (2558, 0.004105317144312766), (2559, 0.005536017629775347), (2560, 0.004659513702076601), (2561, 0.0055169566450686365), (2562, 0.0), (2563, 0.0035349882543532886), (2564, 0.0), (2565, 0.0), (2566, 0.005282216574464928), (2567, 0.0), (2568, 0.005758006895975632), (2569, 0.00515355471329544), (2570, 0.010844593369395457), (2571, 0.0), (2572, 0.0), (2573, 0.0), (2574, 0.0), (2575, 0.005665927286544066), (2576, 0.0), (2577, 0.0), (2578, 0.0), (2579, 0.004659852293790416), (2580, 0.021100170904816397), (2581, 0.006066819083594071), (2582, 0.005137818136855982), (2583, 0.0), (2584, 0.009232474738461555), (2585, 0.019338659523441454), (2586, 0.005163149431136917), (2587, 0.03931462480855634), (2588, 0.005298198865322712), (2589, 0.0), (2590, 0.004881071989110103), (2591, 0.008297574403534059), (2592, 0.01020797575687531), (2593, 0.004126331189355804), (2594, 0.02127587558385134), (2595, 0.0), (2596, 0.0), (2597, 0.008124069492227059), (2598, 0.003924656538731125), (2599, 0.0), (2600, 0.00653581175427711), (2601, 0.009829497369086082), (2602, 0.00373305394636198), (2603, 0.007890025254520799), (2604, 0.005547105380893866), (2605, 0.005274662591887968), (2606, 0.004222513782945305), (2607, 0.03705949512960473), (2608, 0.00460641815451466), (2609, 0.004401629697671135), (2610, 0.010448876814914238), (2611, 0.0037976948139143984), (2612, 0.0041179036236439984), (2613, 0.0), (2614, 0.008869088221263808), (2615, 0.039842049276985377), (2616, 0.004871010992193008), (2617, 0.0), (2618, 0.0), (2619, 0.005960803674156422), (2620, 0.0), (2621, 0.026692732179108114), (2622, 0.0), (2623, 0.004941187793612188), (2624, 0.0), (2625, 0.004826499604768577), (2626, 0.005379804309971728), (2627, 0.0), (2628, 0.02296732911621387), (2629, 0.038685353535773695), (2630, 0.0), (2631, 0.0), (2632, 0.004251696711874932), (2633, 0.009752228684085464), (2634, 0.004068413069733851), (2635, 0.005737828916150824), (2636, 0.020361431288596618), (2637, 0.03665735193066898), (2638, 0.004751496474073035), (2639, 0.0), (2640, 0.0), (2641, 0.0), (2642, 0.008947672619591179), (2643, 0.005676589389466539), (2644, 0.004792005082739989), (2645, 0.05190994418680414), (2646, 0.004044511968434614), (2647, 0.004221801465365647), (2648, 0.0), (2649, 0.0), (2650, 0.0), (2651, 0.0), (2652, 0.004221879519363007), (2653, 0.02250851885998441), (2654, 0.0), (2655, 0.005718526840058789), (2656, 0.0061073756230079525), (2657, 0.0), (2658, 0.0), (2659, 0.0), (2660, 0.0), (2661, 0.009570082073280552), (2662, 0.005355643591772302), (2663, 0.009854122567142973), (2664, 0.004795941390590176), (2665, 0.004190640320088722), (2666, 0.004755728842078742), (2667, 0.0), (2668, 0.004308155167621124), (2669, 0.09593421844334693), (2670, 0.0), (2671, 0.03357854411799192), (2672, 0.0), (2673, 0.0), (2674, 0.004035224897761905), (2675, 0.0), (2676, 0.0), (2677, 0.004955549345221414), (2678, 0.014766121285364057), (2679, 0.0), (2680, 0.0), (2681, 0.004817454677854491), (2682, 0.0), (2683, 0.0), (2684, 0.0), (2685, 0.005089196836167877), (2686, 0.0), (2687, 0.009152417806180275), (2688, 0.00437952758749212), (2689, 0.0), (2690, 0.005023349877805886), (2691, 0.0), (2692, 0.0036774527454647935), (2693, 0.004919019439057651), (2694, 0.0), (2695, 0.0042324856009794175), (2696, 0.010839146233305643), (2697, 0.003491034629696105), (2698, 0.03928864835587025), (2699, 0.004832540820265095), (2700, 0.0), (2701, 0.007403385644881835), (2702, 0.11436668506464125), (2703, 0.0), (2704, 0.0), (2705, 0.00473501110216609), (2706, 0.009263429989099703), (2707, 0.0), (2708, 0.0), (2709, 0.005392136068105029), (2710, 0.0), (2711, 0.025679558079522786), (2712, 0.004429555575786592), (2713, 0.0), (2714, 0.004475880774081446), (2715, 0.006640954240686866), (2716, 0.004116536359728349), (2717, 0.0), (2718, 0.0), (2719, 0.0), (2720, 0.027873625030256637), (2721, 0.02198301041423249), (2722, 0.006998851317445177), (2723, 0.0), (2724, 0.003767626003713946), (2725, 0.0), (2726, 0.04186182914503238), (2727, 0.050159866981151394), (2728, 0.004775421840653478), (2729, 0.010319770567701258), (2730, 0.006026975599957126), (2731, 0.005572090793196242), (2732, 0.010242574367099216), (2733, 0.0), (2734, 0.01518412806069749), (2735, 0.0343865320030966), (2736, 0.0), (2737, 0.007845518476024537), (2738, 0.006077423848440753), (2739, 0.018085789927054743), (2740, 0.0048469390617302535), (2741, 0.00852648312874603), (2742, 0.0), (2743, 0.003992080877364697), (2744, 0.009442004753107865), (2745, 0.004222979029665274), (2746, 0.009381212773237186), (2747, 0.012874971753408142), (2748, 0.004951394830283882), (2749, 0.016773358889503782), (2750, 0.0), (2751, 0.0), (2752, 0.0), (2753, 0.0), (2754, 0.005625991516165285), (2755, 0.010125182256708701), (2756, 0.048467838634540766), (2757, 0.0), (2758, 0.007722726130735592), (2759, 0.0), (2760, 0.0), (2761, 0.0035570592491759455), (2762, 0.0), (2763, 0.031548643939551715), (2764, 0.012877984414815604), (2765, 0.0), (2766, 0.003354482466466781), (2767, 0.0033192672724136783), (2768, 0.09843508030602316), (2769, 0.041984738233523944), (2770, 0.004566601206005859), (2771, 0.003786418846246735), (2772, 0.004986094660027777), (2773, 0.0), (2774, 0.0), (2775, 0.005648386951933687), (2776, 0.009785462349322267), (2777, 0.004063918901795835), (2778, 0.0051119297367897346), (2779, 0.004123325903306451), (2780, 0.0), (2781, 0.029509258064125715), (2782, 0.010088160505461935), (2783, 0.0), (2784, 0.004206149176519424), (2785, 0.0), (2786, 0.005998065289287555), (2787, 0.040250675296698124), (2788, 0.0), (2789, 0.0), (2790, 0.0), (2791, 0.0), (2792, 0.0), (2793, 0.0), (2794, 0.04018322259857121), (2795, 0.0054343798389131955), (2796, 0.010803739962179967), (2797, 0.011544486029865745), (2798, 0.004402030253248348), (2799, 0.035745018856562664), (2800, 0.003944754531657962), (2801, 0.0), (2802, 0.08304720780895558), (2803, 0.0038848252429712674), (2804, 0.00493018861920117), (2805, 0.039317784376992605), (2806, 0.0), (2807, 0.005081926045654192), (2808, 0.00414367608155491), (2809, 0.008770649726737294), (2810, 0.005770249716777482), (2811, 0.00537005110164994), (2812, 0.040028191846244066), (2813, 0.032432383228075165), (2814, 0.0035991679609648766), (2815, 0.0), (2816, 0.02313555980299511), (2817, 0.02347700152925142), (2818, 0.0), (2819, 0.0), (2820, 0.004397132320624145), (2821, 0.004511288866323276), (2822, 0.0), (2823, 0.004879986486432558), (2824, 0.0), (2825, 0.004909491596372479), (2826, 0.0), (2827, 0.0), (2828, 0.029816212327762315), (2829, 0.004768502087050195), (2830, 0.004574153941357706), (2831, 0.004142092984851859), (2832, 0.012735485548470782), (2833, 0.021086898403949072), (2834, 0.01117095227649231), (2835, 0.03402687824019479), (2836, 0.004965352664604171), (2837, 0.0), (2838, 0.011476597666152766), (2839, 0.0), (2840, 0.004676718582982229), (2841, 0.0), (2842, 0.0), (2843, 0.00556330411663866), (2844, 0.0034405357709434725), (2845, 0.020834104646182586), (2846, 0.0058906530190413085), (2847, 0.0), (2848, 0.005026938547631248), (2849, 0.0), (2850, 0.0), (2851, 0.0), (2852, 0.005620067058184673), (2853, 0.0), (2854, 0.004611134135025859), (2855, 0.032506214655257236), (2856, 0.005162403905678867), (2857, 0.042859069200458774), (2858, 0.006995120938719654), (2859, 0.003995861276035864), (2860, 0.0), (2861, 0.0), (2862, 0.003964322675326634), (2863, 0.0), (2864, 0.0), (2865, 0.0), (2866, 0.004922847432212598), (2867, 0.013787197270977096), (2868, 0.0), (2869, 0.023557443604224997), (2870, 0.005861473322516737), (2871, 0.0), (2872, 0.010818640269659657), (2873, 0.005504631967091947), (2874, 0.00455801415893984), (2875, 0.0), (2876, 0.041209053283928584), (2877, 0.07717944943501336), (2878, 0.00432791513236513), (2879, 0.005167320473607741), (2880, 0.005426187308098135), (2881, 0.0048223286069105), (2882, 0.02548054121199984), (2883, 0.005660699737096033), (2884, 0.005746283320288701), (2885, 0.0), (2886, 0.004111173971690835), (2887, 0.004231265421195116), (2888, 0.004731943206289839), (2889, 0.00561065250365961), (2890, 0.005058172922056248), (2891, 0.006933190176664418), (2892, 0.003992007994779996), (2893, 0.056491113591910655), (2894, 0.0043935820173774225), (2895, 0.0), (2896, 0.0), (2897, 0.004871801832477389), (2898, 0.0), (2899, 0.0039322421287346), (2900, 0.047932121508919165), (2901, 0.005537368133275672), (2902, 0.0), (2903, 0.004677027750059899), (2904, 0.023355342478412533), (2905, 0.0), (2906, 0.03272614557780783), (2907, 0.004069327756048301), (2908, 0.036067910885538984), (2909, 0.0), (2910, 0.004359364477542734), (2911, 0.004470111106954551), (2912, 0.04051929546011024), (2913, 0.0043599047203645835), (2914, 0.004929882725862956), (2915, 0.004682572561110803), (2916, 0.004885493439599762), (2917, 0.003372829109021227), (2918, 0.0), (2919, 0.004386564208081023), (2920, 0.003919650106699279), (2921, 0.0), (2922, 0.0), (2923, 0.0), (2924, 0.01040226716924587), (2925, 0.022823346652634857), (2926, 0.02973377729561802), (2927, 0.0), (2928, 0.006405059440524541), (2929, 0.0), (2930, 0.0), (2931, 0.003817921984323193), (2932, 0.005571597994017338), (2933, 0.008115522146417364), (2934, 0.004307624251815057), (2935, 0.0), (2936, 0.0), (2937, 0.0), (2938, 0.0), (2939, 0.02057724646612082), (2940, 0.005186655970844297), (2941, 0.022238180210547926), (2942, 0.0), (2943, 0.004701312264553106), (2944, 0.0), (2945, 1.0), (2946, 0.0042362885991702424), (2947, 0.038283660018085905), (2948, 0.006348420552481658), (2949, 0.0), (2950, 0.0), (2951, 0.005374155662509152), (2952, 0.0), (2953, 0.0), (2954, 0.020732368655861026), (2955, 0.0), (2956, 0.0), (2957, 0.0), (2958, 0.06372539446910142), (2959, 0.0), (2960, 0.0), (2961, 0.004229195511794261), (2962, 0.004703190148826619), (2963, 0.0), (2964, 0.03227615680866714), (2965, 0.0041159829638596325), (2966, 0.005234892012725712), (2967, 0.0), (2968, 0.0), (2969, 0.003590373576541346), (2970, 0.044201990560446144), (2971, 0.004720072652101651), (2972, 0.009259500745956514), (2973, 0.022647225998480357), (2974, 0.004819170146131333), (2975, 0.0036951784632687796), (2976, 0.0037160240828787777), (2977, 0.021721481838072126), (2978, 0.06239605968600373), (2979, 0.005503916207350766), (2980, 0.004157915356285663), (2981, 0.018670508889072637), (2982, 0.005642589583286978), (2983, 0.12533085931502616), (2984, 0.0), (2985, 0.0), (2986, 0.010813351860819203), (2987, 0.0), (2988, 0.004393346640360523), (2989, 0.005889218417500313), (2990, 0.0), (2991, 0.0), (2992, 0.00472841491405238), (2993, 0.0), (2994, 0.005574779352097823), (2995, 0.004061980410548891), (2996, 0.02417890504049434), (2997, 0.0), (2998, 0.006043769245018298), (2999, 0.0805418773616399), (3000, 0.0), (3001, 0.0), (3002, 0.0), (3003, 0.08136678017270615), (3004, 0.0050142564254088105), (3005, 0.0), (3006, 0.0), (3007, 0.019124281417394272), (3008, 0.0), (3009, 0.006615958545121408), (3010, 0.0), (3011, 0.0), (3012, 0.041449314850219285), (3013, 0.04369816492025401), (3014, 0.0040294977409222775), (3015, 0.005385303677932651), (3016, 0.005094702616367769), (3017, 0.006082427812416979), (3018, 0.00508180243782914), (3019, 0.005067315456011613), (3020, 0.02711515803521691), (3021, 0.033646258386202735), (3022, 0.0), (3023, 0.0), (3024, 0.003531058155434547), (3025, 0.0), (3026, 0.0055368176413712975), (3027, 0.036160383990498125), (3028, 0.0039799392914989405), (3029, 0.0219254602371071), (3030, 0.0), (3031, 0.042846709130260646), (3032, 0.004784424673629617), (3033, 0.0050164016750576515), (3034, 0.005134663989588645), (3035, 0.0), (3036, 0.004218939157686349), (3037, 0.004619080391756894), (3038, 0.0), (3039, 0.005642386944310245), (3040, 0.007031204215808719), (3041, 0.0), (3042, 0.006656412830173983), (3043, 0.004635812057414185), (3044, 0.010422907594359319), (3045, 0.0), (3046, 0.0), (3047, 0.0), (3048, 0.0), (3049, 0.0), (3050, 0.008880912023209571), (3051, 0.0058344953981591665), (3052, 0.02577652609699673), (3053, 0.0), (3054, 0.03806413253823055), (3055, 0.0), (3056, 0.003589610659350929), (3057, 0.016232616116374075), (3058, 0.0), (3059, 0.0), (3060, 0.0), (3061, 0.005208747290397372), (3062, 0.01074181580608107), (3063, 0.004472393474947551), (3064, 0.0), (3065, 0.003744441607025176), (3066, 0.004947687479532823), (3067, 0.004204930373545425), (3068, 0.0), (3069, 0.0), (3070, 0.022578345894628083), (3071, 0.008550792806068599), (3072, 0.005065759333266584), (3073, 0.0), (3074, 0.005323523686869401), (3075, 0.0044456087186354725), (3076, 0.005506231657795432), (3077, 0.009471099368302687), (3078, 0.006314808454233021), (3079, 0.0), (3080, 0.005807788382347452), (3081, 0.005186729925767568), (3082, 0.0), (3083, 0.004786136227310321), (3084, 0.0052378378438654866), (3085, 0.0), (3086, 0.004425910800601478), (3087, 0.0), (3088, 0.0), (3089, 0.006002684781314742), (3090, 0.0), (3091, 0.0035068109841531977), (3092, 0.022009931447426294), (3093, 0.0), (3094, 0.0048406970178070585), (3095, 0.0), (3096, 0.0036491430497055735), (3097, 0.009813449537286117), (3098, 0.009012321409589664), (3099, 0.0), (3100, 0.0), (3101, 0.0), (3102, 0.005106328351485069), (3103, 0.0), (3104, 0.0), (3105, 0.0), (3106, 0.0), (3107, 0.0), (3108, 0.04008764846332623), (3109, 0.005577580292075336), (3110, 0.0), (3111, 0.003683435235314316), (3112, 0.004562396882875873), (3113, 0.005268191883972744), (3114, 0.0), (3115, 0.02838231677109272), (3116, 0.004685768532874073), (3117, 0.0), (3118, 0.0), (3119, 0.0), (3120, 0.0038638930854929298), (3121, 0.0), (3122, 0.031013223202409162), (3123, 0.00500329073046569), (3124, 0.0), (3125, 0.004302333295206891), (3126, 0.0), (3127, 0.004682578630627492), (3128, 0.0), (3129, 0.0), (3130, 0.0), (3131, 0.0), (3132, 0.0), (3133, 0.0), (3134, 0.0), (3135, 0.0), (3136, 0.0), (3137, 0.012795796941633223), (3138, 0.0), (3139, 0.006938708448688855), (3140, 0.00542443181694479), (3141, 0.0), (3142, 0.006865705598674554), (3143, 0.017826539422642732), (3144, 0.0), (3145, 0.0), (3146, 0.010140533341162468), (3147, 0.05552545706876963), (3148, 0.004731322172194406), (3149, 0.00479079486429901), (3150, 0.005078166510880488), (3151, 0.00412978332712647), (3152, 0.03281560356264218), (3153, 0.004346571972122655), (3154, 0.005128068911700113), (3155, 0.005122407083551489), (3156, 0.0), (3157, 0.0), (3158, 0.0), (3159, 0.0), (3160, 0.0), (3161, 0.0), (3162, 0.0), (3163, 0.0), (3164, 0.025775383872160853), (3165, 0.0049816737007509874), (3166, 0.012435569303488728), (3167, 0.0), (3168, 0.006057539702969239), (3169, 0.0), (3170, 0.02114216692698787), (3171, 0.0041431278026399935), (3172, 0.0), (3173, 0.0), (3174, 0.0), (3175, 0.07545792174413184), (3176, 0.0), (3177, 0.004769594157351973), (3178, 0.014200565691162145), (3179, 0.0), (3180, 0.0), (3181, 0.005334107388655273), (3182, 0.04236147224868715), (3183, 0.010032744641156072), (3184, 0.03629721127605373), (3185, 0.0), (3186, 0.0), (3187, 0.010105693327004516), (3188, 0.00503978981414434), (3189, 0.005309493908511775), (3190, 0.0), (3191, 0.0), (3192, 0.010956117510925787), (3193, 0.0), (3194, 0.00883115099875761), (3195, 0.0041324816836554165), (3196, 0.004662224414439929), (3197, 0.0), (3198, 0.010005774650779092), (3199, 0.0033376667830185896), (3200, 0.00359940381244504), (3201, 0.0), (3202, 0.0), (3203, 0.0), (3204, 0.0), (3205, 0.031069126408346196), (3206, 0.02218027448152167), (3207, 0.0), (3208, 0.0), (3209, 0.0), (3210, 0.004476761454876847), (3211, 0.0), (3212, 0.027252292026779562), (3213, 0.030187338757760286), (3214, 0.009529189309052314), (3215, 0.0), (3216, 0.0), (3217, 0.006602316148126829), (3218, 0.009973495399798627), (3219, 0.005476880574885795), (3220, 0.008882033663680088), (3221, 0.005609137253525609), (3222, 0.0), (3223, 0.0), (3224, 0.04279458435270966), (3225, 0.0), (3226, 0.036855385387501036), (3227, 0.004387274209792032), (3228, 0.04086610723160979), (3229, 0.005288612737119734), (3230, 0.0), (3231, 0.004520419472801193), (3232, 0.004740345045907648), (3233, 0.004372391095055083), (3234, 0.03810785119343957), (3235, 0.004517845549173165), (3236, 0.005249615466653658), (3237, 0.004156935624686242), (3238, 0.004576660243869508), (3239, 0.03469526702233698), (3240, 0.0039959750931370585), (3241, 0.004353880306614995), (3242, 0.0), (3243, 0.0), (3244, 0.00458423456681555), (3245, 0.005249295651636863), (3246, 0.004744276934334653), (3247, 0.0155438392043221), (3248, 0.004825422341549077), (3249, 0.029317975890552295), (3250, 0.0), (3251, 0.0), (3252, 0.0), (3253, 0.0), (3254, 0.003658819033884543), (3255, 0.0), (3256, 0.00595575758798091), (3257, 0.056706003647872455), (3258, 0.010527066788052847), (3259, 0.0), (3260, 0.004897788964042176), (3261, 0.0), (3262, 0.0057927975156161614), (3263, 0.0), (3264, 0.0), (3265, 0.010144054531237503), (3266, 0.0), (3267, 0.004657771030158354), (3268, 0.004223762087144644), (3269, 0.020021927191977963), (3270, 0.005013576275807779), (3271, 0.01071404440145931), (3272, 0.0), (3273, 0.004595989463793446), (3274, 0.004874174302399026), (3275, 0.005187879812139775), (3276, 0.006091843201433707), (3277, 0.0), (3278, 0.003969152013462584), (3279, 0.0), (3280, 0.0), (3281, 0.0), (3282, 0.011465854525574127), (3283, 0.023085014002013654), (3284, 0.0038517956471787527), (3285, 0.0), (3286, 0.004941414049474427), (3287, 0.005243865125594084), (3288, 0.004999154187666823), (3289, 0.024306086517994183), (3290, 0.005282827531777498), (3291, 0.04497605662281874), (3292, 0.0), (3293, 0.004020615553007411), (3294, 0.0), (3295, 0.0048489972684050905), (3296, 0.0048382480025595505), (3297, 0.009318231740964043), (3298, 0.004036507092284725), (3299, 0.0), (3300, 0.00399021659825397), (3301, 0.003584211438502122), (3302, 0.0049933262215417955), (3303, 0.009433509403059231), (3304, 0.008379165964057517), (3305, 0.0), (3306, 0.0), (3307, 0.0), (3308, 0.010764427730904866), (3309, 0.004827549925821806), (3310, 0.0), (3311, 0.008557419783402395), (3312, 0.0), (3313, 0.0), (3314, 0.004408438922326339), (3315, 0.00904431080482272), (3316, 0.003294033457554424), (3317, 0.0034736945782563467), (3318, 0.003815277916292113), (3319, 0.02276997414328474), (3320, 0.004784690586706561), (3321, 0.0), (3322, 0.0), (3323, 0.026735771461263446), (3324, 0.0), (3325, 0.006867873477780082), (3326, 0.00440888755279026), (3327, 0.003756835152971501), (3328, 0.002753770682538495), (3329, 0.03725094491332493), (3330, 0.004241039503351841), (3331, 0.0036546206298935157), (3332, 0.005130862159234791), (3333, 0.0), (3334, 0.0), (3335, 0.0), (3336, 0.0), (3337, 0.005790669105236235), (3338, 0.0), (3339, 0.02352347055769215), (3340, 0.0), (3341, 0.0), (3342, 0.003922846745781081), (3343, 0.01907533403225565), (3344, 0.0035395223633710414), (3345, 0.024264213835324653), (3346, 0.0042134752688774224), (3347, 0.0035629467098286034), (3348, 0.04145073329949114), (3349, 0.009807507588407292), (3350, 0.0), (3351, 0.005120471272273871), (3352, 0.01354237398045391), (3353, 0.004412995567110063), (3354, 0.0), (3355, 0.005012986265083053), (3356, 0.013214103686242106), (3357, 0.05768340068990132), (3358, 0.0), (3359, 0.005010083385112873), (3360, 0.0188338614666572), (3361, 0.0), (3362, 0.0), (3363, 0.005122004846543117), (3364, 0.010743665401147304), (3365, 0.003036245541107527), (3366, 0.024008059492942376), (3367, 0.0), (3368, 0.0), (3369, 0.0), (3370, 0.021623940988448387), (3371, 0.005923400552560844), (3372, 0.03796130935695341), (3373, 0.005537035080138559), (3374, 0.004460801997779827), (3375, 0.04387083624034931), (3376, 0.10120938710492469), (3377, 0.0), (3378, 0.0), (3379, 0.00404601125741259), (3380, 0.028130908711103783), (3381, 0.0), (3382, 0.005170774978843289), (3383, 0.0), (3384, 0.0), (3385, 0.0), (3386, 0.009583228549016599), (3387, 0.0), (3388, 0.029187637610607838), (3389, 0.00846136362158411), (3390, 0.0), (3391, 0.004677522898813892), (3392, 0.0), (3393, 0.008123532495537098), (3394, 0.0), (3395, 0.004652722749893364), (3396, 0.0), (3397, 0.004900363494705498), (3398, 0.0), (3399, 0.0039957686363720785), (3400, 0.005266496366534512), (3401, 0.0), (3402, 0.009111601005814908), (3403, 0.003700463361293262), (3404, 0.0), (3405, 0.0), (3406, 0.004518637727454504), (3407, 0.004052337260788153), (3408, 0.01013240041801489), (3409, 0.003645360991804894), (3410, 0.033277802930105946), (3411, 0.004552959658989708), (3412, 0.0), (3413, 0.010794939289157255), (3414, 0.019202512689820008), (3415, 0.018340723952995176), (3416, 0.0), (3417, 0.004645348579326312), (3418, 0.008982621658463051), (3419, 0.021941506984183467), (3420, 0.015925412783005743), (3421, 0.0036234136234813857), (3422, 0.0), (3423, 0.0), (3424, 0.005656145039711417), (3425, 0.004764156844671705), (3426, 0.0), (3427, 0.019605715391009224), (3428, 0.0), (3429, 0.0), (3430, 0.00421078768999097), (3431, 0.031517839106827365), (3432, 0.0), (3433, 0.004073751235706186), (3434, 0.0), (3435, 0.004210536350620013), (3436, 0.004250181227110774), (3437, 0.004465405269369945), (3438, 0.0), (3439, 0.006774333077858889), (3440, 0.0), (3441, 0.0), (3442, 0.0), (3443, 0.0051156014139894755), (3444, 0.005454502100066046), (3445, 0.00423558798318949), (3446, 0.0), (3447, 0.013404185620013595), (3448, 0.0), (3449, 0.009707366141756012), (3450, 0.00473559773126716), (3451, 0.0), (3452, 0.0), (3453, 0.0), (3454, 0.0), (3455, 0.0), (3456, 0.0), (3457, 0.0), (3458, 0.0), (3459, 0.0), (3460, 0.003926111840983926), (3461, 0.005341684009515917), (3462, 0.0), (3463, 0.0), (3464, 0.00515862777439322), (3465, 0.0), (3466, 0.0), (3467, 0.0), (3468, 0.0), (3469, 0.0), (3470, 0.0), (3471, 0.003619570171171012), (3472, 0.0), (3473, 0.0), (3474, 0.0037774871373740648), (3475, 0.0), (3476, 0.0), (3477, 0.025997409916368053), (3478, 0.0), (3479, 0.012021399732079208), (3480, 0.0), (3481, 0.0), (3482, 0.0), (3483, 0.004323531427655813), (3484, 0.0), (3485, 0.004524626466178245), (3486, 0.0), (3487, 0.004103231982765237), (3488, 0.0), (3489, 0.0), (3490, 0.030530340594994158), (3491, 0.0), (3492, 0.004188732813868237), (3493, 0.0097317180808975), (3494, 0.0), (3495, 0.0), (3496, 0.009703905557259123), (3497, 0.0), (3498, 0.004076226365827297), (3499, 0.0), (3500, 0.00915485377020335), (3501, 0.024142239252368535), (3502, 0.0), (3503, 0.022338480660057992), (3504, 0.05725213739103815), (3505, 0.0), (3506, 0.004754762569444996), (3507, 0.0), (3508, 0.004994131038878013), (3509, 0.0), (3510, 0.0), (3511, 0.0044467211534993615), (3512, 0.015013665209814066), (3513, 0.0051403691295634395), (3514, 0.005201633010007446), (3515, 0.0), (3516, 0.0043329510573950365), (3517, 0.005036475471093844), (3518, 0.0), (3519, 0.0), (3520, 0.0), (3521, 0.005075394730391851), (3522, 0.0), (3523, 0.0), (3524, 0.004812239702276451), (3525, 0.0), (3526, 0.004333865241692241), (3527, 0.0045172131302057975), (3528, 0.0), (3529, 0.005347162482801546), (3530, 0.0), (3531, 0.004945810432933199), (3532, 0.0), (3533, 0.0), (3534, 0.017917270042019325), (3535, 0.0), (3536, 0.0), (3537, 0.006228221736570189), (3538, 0.033829491464245784), (3539, 0.0051503556230037585), (3540, 0.021458654868997205), (3541, 0.004207259260738888), (3542, 0.004318993701118044), (3543, 0.0), (3544, 0.06519150311684013), (3545, 0.00558277115884285), (3546, 0.0031739030957005686), (3547, 0.021807769181458693), (3548, 0.0), (3549, 0.005203543989989504), (3550, 0.0), (3551, 0.004352505334226421), (3552, 0.014706463109364926), (3553, 0.035867972961399354), (3554, 0.005914831241308124), (3555, 0.0), (3556, 0.00369398589409398), (3557, 0.004143671871199395), (3558, 0.004045230927662371), (3559, 0.004283903258788853), (3560, 0.0047936616594584595), (3561, 0.0), (3562, 0.023527471074079074), (3563, 0.0366419580829655), (3564, 0.004307914555754509), (3565, 0.010243317589067035), (3566, 0.0), (3567, 0.0), (3568, 0.0), (3569, 0.003756184495293429), (3570, 0.005085964508286901), (3571, 0.019468424584568305), (3572, 0.0), (3573, 0.0), (3574, 0.0039029307802023144), (3575, 0.007967083818369646), (3576, 0.0), (3577, 0.010952040987413723), (3578, 0.0), (3579, 0.008369128852195061), (3580, 0.0), (3581, 0.043266058952432934), (3582, 0.0048674390267890175), (3583, 0.0), (3584, 0.005534073703279888), (3585, 0.010181242969429427), (3586, 0.0), (3587, 0.0), (3588, 0.0), (3589, 0.004700699732895935), (3590, 0.004813670883957722), (3591, 0.0), (3592, 0.006097664242685364), (3593, 0.0), (3594, 0.046115978061774233), (3595, 0.004844733413238817), (3596, 0.0), (3597, 0.0), (3598, 0.004538820925598775), (3599, 0.005199099903502672), (3600, 0.0), (3601, 0.12351944178858612), (3602, 0.0276116864508185), (3603, 0.005201091578646574), (3604, 0.0), (3605, 0.0), (3606, 0.004944872307434937), (3607, 0.0), (3608, 0.0), (3609, 0.0), (3610, 0.0), (3611, 0.0), (3612, 0.004431302647938524), (3613, 0.005343600175415894), (3614, 0.003915704160937276), (3615, 0.0), (3616, 0.005887378971754798), (3617, 0.0), (3618, 0.004647298829268635), (3619, 0.0), (3620, 0.00512739209183292), (3621, 0.005814849863859766), (3622, 0.09633231604391454), (3623, 0.004400308433133792), (3624, 0.0043473952198512565), (3625, 0.0), (3626, 0.007186228457192856), (3627, 0.0), (3628, 0.005525763736712936), (3629, 0.0), (3630, 0.0), (3631, 0.0), (3632, 0.005067988390551643), (3633, 0.004675701633951982), (3634, 0.0038216279228664805), (3635, 0.005611513479267599), (3636, 0.0), (3637, 0.0037699087475156685), (3638, 0.0050750695957114695), (3639, 0.044871439823427894), (3640, 0.00472123709193468), (3641, 0.009113648509216499), (3642, 0.0), (3643, 0.004370157620231197), (3644, 0.0050316235055382725), (3645, 0.0034969743937583527), (3646, 0.04334230396883309), (3647, 0.019067512961357672), (3648, 0.040566107599714005), (3649, 0.005861230287349644), (3650, 0.0050526111169891695), (3651, 0.0), (3652, 0.00564499120977938), (3653, 0.004314054852385977), (3654, 0.004387785139447523), (3655, 0.0038028890975249866), (3656, 0.0), (3657, 0.0036860246959435077), (3658, 0.004254753224717928), (3659, 0.0), (3660, 0.03828527100997676), (3661, 0.0), (3662, 0.0), (3663, 0.0), (3664, 0.0), (3665, 0.004893755185647269), (3666, 0.004356111509098968), (3667, 0.006452727771993272), (3668, 0.0), (3669, 0.003951093513121647), (3670, 0.0), (3671, 0.006145055625084657), (3672, 0.040891405760439835), (3673, 0.009313806240673236), (3674, 0.00431499122999607), (3675, 0.00516947394001377), (3676, 0.00541905339948099), (3677, 0.0), (3678, 0.04292673289666167), (3679, 0.0), (3680, 0.004863821765105869), (3681, 0.005519849018046357), (3682, 0.0), (3683, 0.0), (3684, 0.004296096258704283), (3685, 0.004939182403289335), (3686, 0.006173685957099075), (3687, 0.0), (3688, 0.005513810778177405), (3689, 0.0323298013802831), (3690, 0.0), (3691, 0.0), (3692, 0.004544831869819066), (3693, 0.0), (3694, 0.004585983790119463), (3695, 0.0), (3696, 0.004063097645491712), (3697, 0.0), (3698, 0.0), (3699, 0.0), (3700, 0.0), (3701, 0.01887893367735611), (3702, 0.0), (3703, 0.0), (3704, 0.004556428990187193), (3705, 0.0038696142532630195), (3706, 0.004052551229230827), (3707, 0.004289896114305083), (3708, 0.0), (3709, 0.0), (3710, 0.02065645643002159), (3711, 0.0), (3712, 0.016274806305942916), (3713, 0.0), (3714, 0.03421761285349706), (3715, 0.006721573986375654), (3716, 0.0), (3717, 0.0), (3718, 0.0), (3719, 0.0), (3720, 0.0), (3721, 0.0), (3722, 0.0), (3723, 0.0), (3724, 0.0), (3725, 0.0), (3726, 0.0), (3727, 0.004273177645538956), (3728, 0.009522443761778257), (3729, 0.0), (3730, 0.0), (3731, 0.0), (3732, 0.004772146309861196), (3733, 0.010229946634553642), (3734, 0.0040639282400552505), (3735, 0.0), (3736, 0.00467231371757986), (3737, 0.0), (3738, 0.0), (3739, 0.004143559116159268), (3740, 0.03263935725604221), (3741, 0.0), (3742, 0.0038383605058726726), (3743, 0.0), (3744, 0.0), (3745, 0.0048573008138355425), (3746, 0.0), (3747, 0.0), (3748, 0.004451342088908652), (3749, 0.004590877804311974), (3750, 0.012611695925062567), (3751, 0.0), (3752, 0.0), (3753, 0.00484326340061888), (3754, 0.0048002488292240965), (3755, 0.003866431215954702), (3756, 0.003540841552971939), (3757, 0.0), (3758, 0.0059829901826904406), (3759, 0.0), (3760, 0.0), (3761, 0.0), (3762, 0.0), (3763, 0.011414001578405164), (3764, 0.005930437568817589), (3765, 0.024525875749550806), (3766, 0.005240902389773311), (3767, 0.023697266503892842), (3768, 0.0), (3769, 0.0), (3770, 0.0), (3771, 0.004461967397165235), (3772, 0.0049493050872519775), (3773, 0.0), (3774, 0.0), (3775, 0.0), (3776, 0.0), (3777, 0.004415125928141698), (3778, 0.0043137617670213945), (3779, 0.0), (3780, 0.004557870212113333), (3781, 0.03285370931429496), (3782, 0.0), (3783, 0.0), (3784, 0.004140828027048644), (3785, 0.0), (3786, 0.0), (3787, 0.0), (3788, 0.0), (3789, 0.0), (3790, 0.005231565252409296), (3791, 0.0), (3792, 0.005071822283889306), (3793, 0.01925554344009017), (3794, 0.0), (3795, 0.0), (3796, 0.0067492317861389565), (3797, 0.0046496225563066726), (3798, 0.0), (3799, 0.004238612896030941), (3800, 0.02830526915297764), (3801, 0.003832455061971173), (3802, 0.0), (3803, 0.0), (3804, 0.0), (3805, 0.005100001482686016), (3806, 0.030341074188684293), (3807, 0.00424560190358163), (3808, 0.005720676410153907), (3809, 0.004367601731956048), (3810, 0.0), (3811, 0.004157711511738796), (3812, 0.005380322601974648), (3813, 0.004604357353531838), (3814, 0.0), (3815, 0.0), (3816, 0.0), (3817, 0.03009206320413897), (3818, 0.0), (3819, 0.004069789401336761), (3820, 0.0), (3821, 0.0), (3822, 0.009864250104712185), (3823, 0.0), (3824, 0.0), (3825, 0.0), (3826, 0.004007842546801), (3827, 0.004721595929919432), (3828, 0.005228996285820591), (3829, 0.06934640411971729), (3830, 0.0), (3831, 0.0), (3832, 0.005274002207137705), (3833, 0.0), (3834, 0.0), (3835, 0.0027623464846451814), (3836, 0.0), (3837, 0.0), (3838, 0.0), (3839, 0.008392012502406612), (3840, 0.0), (3841, 0.0), (3842, 0.004659098262757537), (3843, 0.0), (3844, 0.006040595754562164), (3845, 0.009891572143247897), (3846, 0.0), (3847, 0.0), (3848, 0.0), (3849, 0.0), (3850, 0.0), (3851, 0.0), (3852, 0.0), (3853, 0.0), (3854, 0.003912921141179392), (3855, 0.003552439620458824), (3856, 0.0044004616822433135), (3857, 0.0), (3858, 0.005555229324622772), (3859, 0.0046003466610771634), (3860, 0.03205871240819998), (3861, 0.042072551098957925), (3862, 0.004558528697905732), (3863, 0.047997668876393486), (3864, 0.0), (3865, 0.004583415701122926), (3866, 0.010767184269671978), (3867, 0.0046220440115890575), (3868, 0.009001553967371968), (3869, 0.0), (3870, 0.03548281291487275), (3871, 0.0), (3872, 0.0), (3873, 0.004590113541643788), (3874, 0.0), (3875, 0.02355639917646786), (3876, 0.004160366351472076), (3877, 0.0), (3878, 0.0), (3879, 0.0049811040205839105), (3880, 0.0037927239696187386), (3881, 0.0), (3882, 0.009381917062508528), (3883, 0.00477545967176441), (3884, 0.0), (3885, 0.025017306232048002), (3886, 0.0048428139777292965), (3887, 0.02019760693251537), (3888, 0.009284122589230549), (3889, 0.005344021962574664), (3890, 0.009114096439567738), (3891, 0.0), (3892, 0.011807449965385394), (3893, 0.004679825677573424), (3894, 0.0), (3895, 0.0036991150295906383), (3896, 0.0), (3897, 0.0), (3898, 0.004052051220377878), (3899, 0.0), (3900, 0.07144226422246239), (3901, 0.04220147921746868), (3902, 0.0046080879113762655), (3903, 0.004821392574434261), (3904, 0.004538517333431477), (3905, 0.005218304393361491), (3906, 0.0), (3907, 0.0), (3908, 0.0), (3909, 0.0), (3910, 0.019758476695917262), (3911, 0.0316561149328538), (3912, 0.050113520916924656), (3913, 0.0038091896175621483), (3914, 0.004433355641617142), (3915, 0.004544651588328322), (3916, 0.0), (3917, 0.0042667492385058065), (3918, 0.0), (3919, 0.009847043973906667), (3920, 0.004581921208583456), (3921, 0.0), (3922, 0.005450277060554187), (3923, 0.004592199003870648), (3924, 0.004569437550638745), (3925, 0.006213175826394907), (3926, 0.0), (3927, 0.0036082904755916027), (3928, 0.0037152910413626203), (3929, 0.0), (3930, 0.0), (3931, 0.0), (3932, 0.007827080901978877), (3933, 0.004457160498590544), (3934, 0.005271886854251481), (3935, 0.0), (3936, 0.006925398368919448), (3937, 0.0), (3938, 0.0), (3939, 0.0), (3940, 0.0), (3941, 0.0046118694434888535), (3942, 0.0), (3943, 0.005260155349439579), (3944, 0.0), (3945, 0.0), (3946, 0.0), (3947, 0.0), (3948, 0.0), (3949, 0.006923534101093209), (3950, 0.02640870026435434), (3951, 0.0), (3952, 0.04757156438877042), (3953, 0.004068969762225153), (3954, 0.003914967745260516), (3955, 0.0), (3956, 0.0037922986285117634), (3957, 0.0), (3958, 0.0), (3959, 0.004488575134920259), (3960, 0.0046708834184295495), (3961, 0.03749153950661343), (3962, 0.004740656095241011), (3963, 0.0), (3964, 0.0055283990005310915), (3965, 0.0), (3966, 0.0), (3967, 0.005674065975973001), (3968, 0.0), (3969, 0.0), (3970, 0.018582837637647277), (3971, 0.0), (3972, 0.0), (3973, 0.009600355786340966), (3974, 0.003970842164404451), (3975, 0.0), (3976, 0.0), (3977, 0.0), (3978, 0.0), (3979, 0.0), (3980, 0.0), (3981, 0.0), (3982, 0.0), (3983, 0.003247343286574368), (3984, 0.010151211956739237), (3985, 0.0), (3986, 0.0), (3987, 0.0), (3988, 0.0), (3989, 0.0), (3990, 0.0056494790895097085), (3991, 0.0), (3992, 0.004806954974492081), (3993, 0.0), (3994, 0.0), (3995, 0.0), (3996, 0.0), (3997, 0.0), (3998, 0.004902667319841669), (3999, 0.0), (4000, 0.0), (4001, 0.0), (4002, 0.0), (4003, 0.0), (4004, 0.0), (4005, 0.004438550518212965), (4006, 0.01754780687381253), (4007, 0.006632414125917683), (4008, 0.0), (4009, 0.0), (4010, 0.023307494427955412), (4011, 0.004059591910949399), (4012, 0.009853283610758488), (4013, 0.0), (4014, 0.004556664062506059), (4015, 0.0), (4016, 0.004313981848921213), (4017, 0.0), (4018, 0.004572469385206443), (4019, 0.0), (4020, 0.004112912501572735), (4021, 0.0), (4022, 0.0), (4023, 0.0058193556691676605), (4024, 0.004600386209181971), (4025, 0.004316970655571912), (4026, 0.010957993589217828), (4027, 0.005129179811482976), (4028, 0.0), (4029, 0.005042161346989627), (4030, 0.0), (4031, 0.0), (4032, 0.0), (4033, 0.004411452343297647), (4034, 0.0), (4035, 0.0), (4036, 0.06014640038531846), (4037, 0.004937920870683346), (4038, 0.05884693705922084), (4039, 0.0), (4040, 0.0), (4041, 0.050604904282658625), (4042, 0.0), (4043, 0.0), (4044, 0.0), (4045, 0.0), (4046, 0.004503216373685302), (4047, 0.0), (4048, 0.0), (4049, 0.0050045054834857465), (4050, 0.0), (4051, 0.010550311839601976), (4052, 0.0053454848312438335), (4053, 0.004173685622130606), (4054, 0.02948516922237584), (4055, 0.0), (4056, 0.004351576625848387), (4057, 0.0), (4058, 0.0), (4059, 0.0), (4060, 0.0), (4061, 0.00535085274457319), (4062, 0.0), (4063, 0.0), (4064, 0.006168332931195928), (4065, 0.0), (4066, 0.008383305963614925), (4067, 0.0), (4068, 0.004185654064318688), (4069, 0.033778066222966655), (4070, 0.0), (4071, 0.004793679464370567), (4072, 0.0), (4073, 0.06301136274144539), (4074, 0.00374193242619821), (4075, 0.0), (4076, 0.0), (4077, 0.0), (4078, 0.0), (4079, 0.04343464641870663), (4080, 0.0), (4081, 0.0), (4082, 0.006008503774504333), (4083, 0.0), (4084, 0.006479686658777872), (4085, 0.004025968174036064), (4086, 0.005723096388275246), (4087, 0.004717985428073445), (4088, 0.0), (4089, 0.0), (4090, 0.0), (4091, 0.0), (4092, 0.004733353528334774), (4093, 0.05469826089536606), (4094, 0.005322590363440902), (4095, 0.003587375203196615), (4096, 0.0), (4097, 0.0), (4098, 0.004601145499638177), (4099, 0.004948595270480199), (4100, 0.02040667435801906), (4101, 0.004667350430885847), (4102, 0.006554977228570519), (4103, 0.0), (4104, 0.004566086386061162), (4105, 0.005801922064708838), (4106, 0.0), (4107, 0.0), (4108, 0.00535018944745133), (4109, 0.0369327706010185), (4110, 0.0), (4111, 0.023154345874626826), (4112, 0.004961500043596826), (4113, 0.010156621936271662), (4114, 0.0), (4115, 0.0), (4116, 0.004607097041140301), (4117, 0.01093510722737831), (4118, 0.005639064505697109), (4119, 0.0), (4120, 0.0), (4121, 0.005655404876732777), (4122, 0.0), (4123, 0.004472164505633585), (4124, 0.0), (4125, 0.0), (4126, 0.0), (4127, 0.0), (4128, 0.0), (4129, 0.0), (4130, 0.00468537628358689), (4131, 0.0), (4132, 0.005410271402880481), (4133, 0.004710101504781846), (4134, 0.0), (4135, 0.02879823992299707), (4136, 0.0), (4137, 0.00413641687110443), (4138, 0.004645234289965542), (4139, 0.0), (4140, 0.005583301711172654), (4141, 0.0038222045270454833), (4142, 0.0), (4143, 0.021596910554245605), (4144, 0.0), (4145, 0.0), (4146, 0.020330113896811358), (4147, 0.006014946853970205), (4148, 0.026667470822736898), (4149, 0.0), (4150, 0.0), (4151, 0.003656851957774598), (4152, 0.004040575897502737), (4153, 0.0), (4154, 0.004019450789408766), (4155, 0.0), (4156, 0.007951488297072033), (4157, 0.0), (4158, 0.0), (4159, 0.0), (4160, 0.0047460643053106), (4161, 0.0), (4162, 0.0), (4163, 0.005134665321073697), (4164, 0.0), (4165, 0.0), (4166, 0.006590400034264138), (4167, 0.0), (4168, 0.0), (4169, 0.0), (4170, 0.0), (4171, 0.003010194238208085), (4172, 0.0), (4173, 0.005327830441186063), (4174, 0.004681707656581956), (4175, 0.0), (4176, 0.003929807595154128), (4177, 0.0), (4178, 0.004292067211710208), (4179, 0.0), (4180, 0.0), (4181, 0.0), (4182, 0.0033981008869741363), (4183, 0.00416171829864982), (4184, 0.0346628697758387), (4185, 0.0), (4186, 0.0), (4187, 0.004603038241097815), (4188, 0.0), (4189, 0.004099810499424925), (4190, 0.005893683868356056), (4191, 0.004470030929903757), (4192, 0.008776602723592474), (4193, 0.0), (4194, 0.0), (4195, 0.005020409920155129), (4196, 0.0), (4197, 0.004874072299647301), (4198, 0.006757474422238158), (4199, 0.0), (4200, 0.004391298157465737), (4201, 0.0), (4202, 0.0059572583895036915), (4203, 0.010454993307163579), (4204, 0.0), (4205, 0.004013651237561457), (4206, 0.004943738035657143), (4207, 0.005582071850144245), (4208, 0.0), (4209, 0.037361522062152264), (4210, 0.0), (4211, 0.0), (4212, 0.026964735804525543), (4213, 0.004906274202202591), (4214, 0.021051563463958454), (4215, 0.0), (4216, 0.0), (4217, 0.009657339486562576), (4218, 0.005025378012918934), (4219, 0.0), (4220, 0.0), (4221, 0.0), (4222, 0.006783898619119735), (4223, 0.007294780812439705), (4224, 0.0), (4225, 0.0), (4226, 0.005482249958703272), (4227, 0.0), (4228, 0.0), (4229, 0.0), (4230, 0.0), (4231, 0.0044796972447128545), (4232, 0.0), (4233, 0.01054032533737377), (4234, 0.005220793696662081), (4235, 0.0), (4236, 0.0), (4237, 0.004604502023127038), (4238, 0.0), (4239, 0.0), (4240, 0.0), (4241, 0.0), (4242, 0.0), (4243, 0.00506076830964049), (4244, 0.004966744628440755), (4245, 0.0), (4246, 0.004786808559181311), (4247, 0.0037245971612825273), (4248, 0.0), (4249, 0.004531294453433254), (4250, 0.0), (4251, 0.0), (4252, 0.0490119612949515), (4253, 0.0), (4254, 0.004996740625271274), (4255, 0.004249132506633498), (4256, 0.0), (4257, 0.029558704847838853), (4258, 0.0), (4259, 0.009926947349558308), (4260, 0.0), (4261, 0.0), (4262, 0.020475956099701223), (4263, 0.005298361902073173), (4264, 0.0), (4265, 0.0), (4266, 0.004270624326477341), (4267, 0.0), (4268, 0.004194316459065596), (4269, 0.004812071956951445), (4270, 0.0), (4271, 0.0), (4272, 0.004743499476836727), (4273, 0.0), (4274, 0.03240164341668997), (4275, 0.032851225771107835), (4276, 0.0), (4277, 0.050421187239959975), (4278, 0.0), (4279, 0.0), (4280, 0.0), (4281, 0.0), (4282, 0.0039770292140944175), (4283, 0.004195425232819574), (4284, 0.0042779346328053365), (4285, 0.005825277186919773), (4286, 0.00448801637019312), (4287, 0.009433795469959417), (4288, 0.008772390357720075), (4289, 0.0), (4290, 0.03182663729012104), (4291, 0.0), (4292, 0.0), (4293, 0.010723325064987698), (4294, 0.0), (4295, 0.010638283539399648), (4296, 0.0), (4297, 0.0), (4298, 0.0), (4299, 0.0), (4300, 0.005390576438883838), (4301, 0.0), (4302, 0.0), (4303, 0.0), (4304, 0.004944814334848015), (4305, 0.0), (4306, 0.0), (4307, 0.0), (4308, 0.005606599483503841), (4309, 0.0041213062114849935), (4310, 0.0), (4311, 0.003639131794309304), (4312, 0.0), (4313, 0.0), (4314, 0.0), (4315, 0.00549730998894596), (4316, 0.0), (4317, 0.0), (4318, 0.0), (4319, 0.0051995959438591), (4320, 0.0), (4321, 0.02703752542760249), (4322, 0.0), (4323, 0.026909850589425004), (4324, 0.0053883396158239385), (4325, 0.004693026334452506), (4326, 0.0), (4327, 0.004762999692078351), (4328, 0.0), (4329, 0.0), (4330, 0.004576809865056969), (4331, 0.0), (4332, 0.0), (4333, 0.004893777419769241), (4334, 0.004309528249648759), (4335, 0.0), (4336, 0.004351854145187822), (4337, 0.0), (4338, 0.0), (4339, 0.0), (4340, 0.0), (4341, 0.005934593758146053), (4342, 0.01792995705290612), (4343, 0.0), (4344, 0.003608565519095357), (4345, 0.004062279320943922), (4346, 0.005604905784061743), (4347, 0.025383037642359968), (4348, 0.0), (4349, 0.0), (4350, 0.0038825825632526055), (4351, 0.00550227398415713), (4352, 0.0), (4353, 0.015138859401821317), (4354, 0.0), (4355, 0.0), (4356, 0.038698769687737986), (4357, 0.009802596077216055), (4358, 0.0), (4359, 0.03328070784836444), (4360, 0.0), (4361, 0.0), (4362, 0.0041499504687173595), (4363, 0.0), (4364, 0.0), (4365, 0.0), (4366, 0.0), (4367, 0.0), (4368, 0.00478738952555272), (4369, 0.004796400384151286), (4370, 0.0), (4371, 0.004477957411407328), (4372, 0.0), (4373, 0.0), (4374, 0.0039528602561177744), (4375, 0.0), (4376, 0.0), (4377, 0.0), (4378, 0.0), (4379, 0.004413923011609145), (4380, 0.0), (4381, 0.0), (4382, 0.00398809156380157), (4383, 0.036464081010141924), (4384, 0.021084797350272123), (4385, 0.0), (4386, 0.0), (4387, 0.023130788758035585), (4388, 0.0), (4389, 0.0), (4390, 0.0), (4391, 0.017615006554898702), (4392, 0.0), (4393, 0.0), (4394, 0.00408948171285276), (4395, 0.00522945323129689), (4396, 0.021331198495525262), (4397, 0.0), (4398, 0.0), (4399, 0.0), (4400, 0.0), (4401, 0.004506775266477784), (4402, 0.06044875738511378), (4403, 0.00521746028720294), (4404, 0.033017261712164264), (4405, 0.0), (4406, 0.0), (4407, 0.0), (4408, 0.026719345612445784), (4409, 0.0), (4410, 0.0), (4411, 0.0036725471634035476), (4412, 0.004947099970277122), (4413, 0.0), (4414, 0.0), (4415, 0.0), (4416, 0.0), (4417, 0.0), (4418, 0.0), (4419, 0.004527136492033392), (4420, 0.009566356539823604), (4421, 0.0), (4422, 0.009709225904217227), (4423, 0.0), (4424, 0.0), (4425, 0.0), (4426, 0.004530456442230899), (4427, 0.0), (4428, 0.0), (4429, 0.0038242524765079522), (4430, 0.004455467461060547), (4431, 0.0), (4432, 0.018549221154066414), (4433, 0.005410820723250796), (4434, 0.005279517754509268), (4435, 0.0), (4436, 0.020973334103474593), (4437, 0.009272152934099179), (4438, 0.0), (4439, 0.0), (4440, 0.006075613126249457), (4441, 0.0), (4442, 0.00484343435976597), (4443, 0.005039890967413929), (4444, 0.005547855795858424), (4445, 0.0), (4446, 0.009628421135567413), (4447, 0.004835408338714694), (4448, 0.010250931093369206), (4449, 0.0), (4450, 0.0), (4451, 0.0), (4452, 0.0), (4453, 0.005674488737446201), (4454, 0.0), (4455, 0.0), (4456, 0.0), (4457, 0.03325095877919464), (4458, 0.0), (4459, 0.0), (4460, 0.005629462440071308), (4461, 0.0), (4462, 0.0), (4463, 0.0057588481011306295), (4464, 0.0246624986312339), (4465, 0.0), (4466, 0.0), (4467, 0.0), (4468, 0.0), (4469, 0.0), (4470, 0.004426195906155627), (4471, 0.0), (4472, 0.003989902016680479), (4473, 0.008576844814344151), (4474, 0.0), (4475, 0.004112821515338809), (4476, 0.0), (4477, 0.00505396996449873), (4478, 0.0), (4479, 0.003946935048093993), (4480, 0.0), (4481, 0.0), (4482, 0.018864773504876687), (4483, 0.005988132886378929), (4484, 0.03086452697800194), (4485, 0.0), (4486, 0.0051360279670527665), (4487, 0.004150882579404675), (4488, 0.0), (4489, 0.00983672933433093), (4490, 0.0051099233291550805), (4491, 0.0), (4492, 0.0), (4493, 0.0), (4494, 0.0353778980464575), (4495, 0.0), (4496, 0.0227918267039124), (4497, 0.0), (4498, 0.0), (4499, 0.0), (4500, 0.0), (4501, 0.004432990510402973), (4502, 0.0039657928934228245), (4503, 0.004153943873996633), (4504, 0.0), (4505, 0.0), (4506, 0.0), (4507, 0.004650393670207144), (4508, 0.0), (4509, 0.0), (4510, 0.0), (4511, 0.004157317537796776), (4512, 0.0), (4513, 0.0), (4514, 0.006094543675530608), (4515, 0.021202140061510957), (4516, 0.027452891560291442), (4517, 0.004465319715369859), (4518, 0.0), (4519, 0.004489106127578146), (4520, 0.004541143178009118), (4521, 0.005124974896663555), (4522, 0.010537925752189719), (4523, 0.00393962287848466), (4524, 0.0), (4525, 0.0), (4526, 0.0), (4527, 0.0), (4528, 0.0045972013228656305), (4529, 0.0), (4530, 0.004118269217753932), (4531, 0.0), (4532, 0.0), (4533, 0.004295727669817036), (4534, 0.0), (4535, 0.004707678247154138), (4536, 0.004015023271006479), (4537, 0.0), (4538, 0.0), (4539, 0.0), (4540, 0.0), (4541, 0.02638256164851019), (4542, 0.004814391485613786), (4543, 0.0), (4544, 0.0), (4545, 0.0), (4546, 0.00541643688480871), (4547, 0.0), (4548, 0.0), (4549, 0.0), (4550, 0.0), (4551, 0.03687503360901501), (4552, 0.03269536526296595), (4553, 0.0), (4554, 0.0), (4555, 0.07354220594435308), (4556, 0.010621099734334736), (4557, 0.005246459060374912), (4558, 0.0), (4559, 0.0), (4560, 0.034480426335677626), (4561, 0.0), (4562, 0.03187341335151091), (4563, 0.004304025743503146), (4564, 0.0), (4565, 0.0), (4566, 0.004376829150184259), (4567, 0.0), (4568, 0.0), (4569, 0.0), (4570, 0.0062126796979053425), (4571, 0.006407464015905951), (4572, 0.0), (4573, 0.004391238427140375), (4574, 0.0), (4575, 0.004750808834978963), (4576, 0.0), (4577, 0.0), (4578, 0.0), (4579, 0.0), (4580, 0.005645725240835026), (4581, 0.0), (4582, 0.0), (4583, 0.0), (4584, 0.0), (4585, 0.0), (4586, 0.0), (4587, 0.0), (4588, 0.0), (4589, 0.004935991852689262), (4590, 0.00369393800476776), (4591, 0.004021403962990301), (4592, 0.0), (4593, 0.004691370303063972), (4594, 0.005051287966613418), (4595, 0.0), (4596, 0.0), (4597, 0.0), (4598, 0.0), (4599, 0.051442993638679685), (4600, 0.0), (4601, 0.004478197815449864), (4602, 0.0), (4603, 0.009480287135729596), (4604, 0.0), (4605, 0.0), (4606, 0.0), (4607, 0.0), (4608, 0.0), (4609, 0.0), (4610, 0.0035433670210237556), (4611, 0.0), (4612, 0.0), (4613, 0.0), (4614, 0.0), (4615, 0.0), (4616, 0.0), (4617, 0.005686093521516629), (4618, 0.0), (4619, 0.005041461625722774), (4620, 0.0), (4621, 0.0), (4622, 0.0), (4623, 0.0), (4624, 0.004621616617405538), (4625, 0.004587580537967815), (4626, 0.0036221352151185903), (4627, 0.004543873169534761), (4628, 0.005214107084018805), (4629, 0.004428310255950462), (4630, 0.0), (4631, 0.0), (4632, 0.004983881354792595), (4633, 0.0058350649422439765), (4634, 0.0), (4635, 0.0), (4636, 0.008063106889832278), (4637, 0.005208098973329023), (4638, 0.003942985779590246), (4639, 0.0), (4640, 0.004206705285202218), (4641, 0.0), (4642, 0.0), (4643, 0.004500540903559257), (4644, 0.0), (4645, 0.0), (4646, 0.0), (4647, 0.0), (4648, 0.03658030597226711), (4649, 0.0), (4650, 0.004742732667618645), (4651, 0.0), (4652, 0.020012225188739418), (4653, 0.0), (4654, 0.0), (4655, 0.0), (4656, 0.0), (4657, 0.004685083880077167), (4658, 0.003999097019209064), (4659, 0.0), (4660, 0.005128652594188282), (4661, 0.0), (4662, 0.0), (4663, 0.0), (4664, 0.0), (4665, 0.0), (4666, 0.0), (4667, 0.0), (4668, 0.0043462039960584994), (4669, 0.04334968824430244), (4670, 0.004145475458206023), (4671, 0.0), (4672, 0.0), (4673, 0.004067460891423561), (4674, 0.0034016308279551924), (4675, 0.0052246542251773494), (4676, 0.0), (4677, 0.0), (4678, 0.0), (4679, 0.0), (4680, 0.0), (4681, 0.0), (4682, 0.0), (4683, 0.030656761999035033), (4684, 0.0), (4685, 0.0), (4686, 0.0), (4687, 0.0), (4688, 0.0), (4689, 0.0), (4690, 0.05035772023432403), (4691, 0.0), (4692, 0.0), (4693, 0.0), (4694, 0.0), (4695, 0.0), (4696, 0.0), (4697, 0.0), (4698, 0.0), (4699, 0.004671353771521181), (4700, 0.006671018598117701), (4701, 0.004872851747382661), (4702, 0.0), (4703, 0.0), (4704, 0.0), (4705, 0.0), (4706, 0.004892592842642127), (4707, 0.0), (4708, 0.0), (4709, 0.0), (4710, 0.005594910241932512), (4711, 0.0), (4712, 0.0038822807693114033), (4713, 0.004861798057175015), (4714, 0.0), (4715, 0.0), (4716, 0.0), (4717, 0.006067013024965119), (4718, 0.004806414752056164), (4719, 0.008869037181051866), (4720, 0.006345406320677488), (4721, 0.006163143889816881), (4722, 0.004503654727129815), (4723, 0.005338565883261716), (4724, 0.0), (4725, 0.03335207968132695), (4726, 0.0), (4727, 0.0), (4728, 0.0), (4729, 0.0), (4730, 0.0), (4731, 0.004943349230723914), (4732, 0.0), (4733, 0.003694614481510171), (4734, 0.004642615311340216), (4735, 0.0), (4736, 0.0), (4737, 0.0), (4738, 0.004928674814844766), (4739, 0.00872583027823614), (4740, 0.0), (4741, 0.0), (4742, 0.0), (4743, 0.04836435498857181), (4744, 0.004258743120844316), (4745, 0.0), (4746, 0.006081813697194554), (4747, 0.0), (4748, 0.0), (4749, 0.0), (4750, 0.0), (4751, 0.0), (4752, 0.003005575382733047), (4753, 0.0), (4754, 0.0), (4755, 0.0314271520256428), (4756, 0.005142038491469485), (4757, 0.0512389902344417), (4758, 0.0), (4759, 0.0)]\n"
          ]
        }
      ]
    },
    {
      "cell_type": "code",
      "source": [
        "len(Recommendation_Score)"
      ],
      "metadata": {
        "colab": {
          "base_uri": "https://localhost:8080/"
        },
        "id": "nZ7lqkdy2cyk",
        "outputId": "5bb94d6a-e7e6-4559-e96d-cc491ff9fa8b"
      },
      "execution_count": 25,
      "outputs": [
        {
          "output_type": "execute_result",
          "data": {
            "text/plain": [
              "4760"
            ]
          },
          "metadata": {},
          "execution_count": 25
        }
      ]
    },
    {
      "cell_type": "markdown",
      "source": [
        "**Get All Movies Sort Based on Recommendation Score wrt Favourite Movie**"
      ],
      "metadata": {
        "id": "JO505bFw6Sy-"
      }
    },
    {
      "cell_type": "code",
      "source": [
        "# sorting the movies based on similarities score\n",
        "\n",
        "Sorted_Similar_Movies = sorted(Recommendation_Score, key = lambda x:x[1], reverse = True)\n",
        "print(Sorted_Similar_Movies)"
      ],
      "metadata": {
        "colab": {
          "base_uri": "https://localhost:8080/"
        },
        "id": "QbzVR7VP2jDC",
        "outputId": "4e01198b-ff81-4970-d799-4e9bf0df0340"
      },
      "execution_count": 26,
      "outputs": [
        {
          "output_type": "stream",
          "name": "stdout",
          "text": [
            "[(2945, 1.0), (1096, 0.13827456874730606), (2983, 0.12533085931502616), (3601, 0.12351944178858612), (2211, 0.12007754094715463), (2702, 0.11436668506464125), (851, 0.11140143205313487), (1815, 0.11068494319673403), (1338, 0.10714841917892717), (1371, 0.10283580838001809), (3376, 0.10120938710492469), (1503, 0.09875041765073284), (2768, 0.09843508030602316), (3622, 0.09633231604391454), (2669, 0.09593421844334693), (2802, 0.08304720780895558), (60, 0.0816910331899211), (3003, 0.08136678017270615), (758, 0.08135205553822189), (2431, 0.08106110570524534), (2999, 0.0805418773616399), (1929, 0.0800988216850426), (1757, 0.07913901488807168), (1227, 0.0790952043295259), (2877, 0.07717944943501336), (2334, 0.07566402617519194), (3175, 0.07545792174413184), (4555, 0.07354220594435308), (1986, 0.07195189198203641), (1636, 0.07160471511158664), (3900, 0.07144226422246239), (1939, 0.0710510064962569), (1797, 0.06991558410294882), (212, 0.0697471843092721), (3829, 0.06934640411971729), (373, 0.06866780767338526), (1464, 0.06827737998876593), (1519, 0.06820955587453298), (975, 0.06620282061078903), (449, 0.06619660553235243), (1318, 0.0661624828395164), (1741, 0.06542707112035734), (3544, 0.06519150311684013), (2390, 0.06433389880763414), (2417, 0.064148442786542), (2958, 0.06372539446910142), (642, 0.06353605601767971), (4073, 0.06301136274144539), (2541, 0.06289104097817838), (2978, 0.06239605968600373), (2006, 0.06225262120433957), (512, 0.06168596990119176), (2230, 0.061416813724397015), (668, 0.061335616215031016), (4402, 0.06044875738511378), (4036, 0.06014640038531846), (4038, 0.05884693705922084), (1555, 0.057777942873975474), (249, 0.05775816052991556), (3357, 0.05768340068990132), (3504, 0.05725213739103815), (3257, 0.056706003647872455), (2893, 0.056491113591910655), (2446, 0.055735612967670975), (3147, 0.05552545706876963), (1779, 0.05518553083372117), (4093, 0.05469826089536606), (877, 0.054362933555521006), (1391, 0.05352428588344436), (2317, 0.05322327146230671), (2316, 0.052122468079909154), (49, 0.051914127315578484), (2645, 0.05190994418680414), (2375, 0.05162832882142189), (2478, 0.051539660644495666), (4599, 0.051442993638679685), (1032, 0.05124581419557511), (4757, 0.0512389902344417), (1053, 0.050961331869379414), (4041, 0.050604904282658625), (1818, 0.05045328512250524), (4277, 0.050421187239959975), (4690, 0.05035772023432403), (2523, 0.050283392930946524), (2486, 0.050165333817011146), (2727, 0.050159866981151394), (3912, 0.050113520916924656), (531, 0.04993031081190396), (2348, 0.04918543069847825), (442, 0.049049026366777784), (4252, 0.0490119612949515), (835, 0.04879842827332663), (1169, 0.04850991028079775), (2756, 0.048467838634540766), (754, 0.04842150562061426), (4743, 0.04836435498857181), (3863, 0.047997668876393486), (2900, 0.047932121508919165), (3952, 0.04757156438877042), (1084, 0.04716508568689235), (1947, 0.04699456183763326), (1902, 0.04698090347072101), (830, 0.04697894182873013), (2535, 0.04692239432508805), (1598, 0.04678937547277701), (579, 0.046550743614848594), (3594, 0.046115978061774233), (1836, 0.0459934937133443), (2209, 0.04590032751070125), (2469, 0.04569516186318667), (2222, 0.045653640428798346), (687, 0.045362277023533), (2249, 0.045207080199474226), (1591, 0.045105038077626815), (3291, 0.04497605662281874), (3639, 0.044871439823427894), (2490, 0.04454099209985808), (1409, 0.04438769717378328), (1337, 0.04436396743184044), (2507, 0.044259988819702854), (2970, 0.044201990560446144), (455, 0.0440513282671728), (3375, 0.04387083624034931), (1543, 0.043833195744838876), (3013, 0.04369816492025401), (1765, 0.04361321871955127), (2402, 0.04360375311721923), (1822, 0.04357709132959575), (4079, 0.04343464641870663), (4669, 0.04334968824430244), (3646, 0.04334230396883309), (3581, 0.043266058952432934), (826, 0.04301868475280157), (2167, 0.0429566442913569), (3678, 0.04292673289666167), (2857, 0.042859069200458774), (3031, 0.042846709130260646), (3224, 0.04279458435270966), (2292, 0.042718068991361796), (2387, 0.04250202138997056), (3182, 0.04236147224868715), (959, 0.04223894643165421), (3901, 0.04220147921746868), (761, 0.042146517184137075), (3861, 0.042072551098957925), (1447, 0.04201110262056061), (2769, 0.041984738233523944), (182, 0.041907290685112675), (2726, 0.04186182914503238), (2254, 0.04181679566792413), (2319, 0.0417681743133603), (1704, 0.041760495077537735), (1497, 0.041751179116265774), (1189, 0.04155892261170247), (2396, 0.041499749951391454), (3348, 0.04145073329949114), (3012, 0.041449314850219285), (2876, 0.041209053283928584), (1935, 0.0411132477427301), (2305, 0.04104614304137476), (1507, 0.040924607611931285), (3672, 0.040891405760439835), (3228, 0.04086610723160979), (1200, 0.040589883283607346), (3648, 0.040566107599714005), (927, 0.040544439570802324), (2912, 0.04051929546011024), (2060, 0.04050610528207089), (279, 0.04047555854294808), (238, 0.04045161264373663), (1112, 0.040364274907738085), (606, 0.040285752352016736), (2787, 0.040250675296698124), (473, 0.04022008248144121), (2794, 0.04018322259857121), (3108, 0.04008764846332623), (2812, 0.040028191846244066), (1423, 0.039954778192125694), (2615, 0.039842049276985377), (759, 0.03957785101277234), (2509, 0.039509961895611206), (2409, 0.03950798700084739), (2237, 0.03934457638727195), (2805, 0.039317784376992605), (2587, 0.03931462480855634), (2698, 0.03928864835587025), (1026, 0.03927448800501852), (1639, 0.03923668126457145), (2195, 0.03922170692040025), (349, 0.039142508070957906), (1486, 0.039138128015116264), (847, 0.039086462077901146), (852, 0.03894591775410634), (2503, 0.03893961224798174), (4356, 0.038698769687737986), (2629, 0.038685353535773695), (679, 0.038641631354092654), (2519, 0.03846431143621127), (3660, 0.03828527100997676), (2947, 0.038283660018085905), (598, 0.03820883850511922), (356, 0.03819191227558987), (1531, 0.038179783627700054), (2465, 0.03817239278159158), (2147, 0.038109964139194014), (3234, 0.03810785119343957), (3054, 0.03806413253823055), (1331, 0.0379797860088607), (3372, 0.03796130935695341), (2368, 0.03788011862183217), (2149, 0.03758638466461024), (3961, 0.03749153950661343), (2299, 0.037490260961017936), (843, 0.03747361393690509), (2441, 0.03744534059583342), (4209, 0.037361522062152264), (896, 0.03730636281107804), (3329, 0.03725094491332493), (119, 0.03714622972863762), (1339, 0.03706883876643691), (2607, 0.03705949512960473), (113, 0.0370390842704518), (4109, 0.0369327706010185), (4551, 0.03687503360901501), (3226, 0.036855385387501036), (1360, 0.03674066442869302), (2637, 0.03665735193066898), (3563, 0.0366419580829655), (4648, 0.03658030597226711), (2033, 0.036545421524653045), (654, 0.03652773522471265), (1145, 0.03648069734956247), (4383, 0.036464081010141924), (1847, 0.03644144838810606), (583, 0.03640864744550108), (3184, 0.03629721127605373), (3027, 0.036160383990498125), (2533, 0.03615561269639475), (2122, 0.03608198216936084), (2908, 0.036067910885538984), (856, 0.035896765163986905), (3553, 0.035867972961399354), (596, 0.03580430602251677), (2799, 0.035745018856562664), (1405, 0.03554191311180066), (3870, 0.03548281291487275), (21, 0.03546148188556367), (4494, 0.0353778980464575), (1807, 0.03533859011894343), (1663, 0.035235595544581534), (1879, 0.03505980139484192), (1325, 0.035053586779903785), (3239, 0.03469526702233698), (4184, 0.0346628697758387), (1419, 0.03465901669433792), (1934, 0.034523883926883124), (4560, 0.034480426335677626), (2735, 0.0343865320030966), (3714, 0.03421761285349706), (2248, 0.03420452118250464), (2835, 0.03402687824019479), (2175, 0.03392577632412787), (3538, 0.033829491464245784), (4069, 0.033778066222966655), (1981, 0.033724104916547315), (3021, 0.033646258386202735), (411, 0.033631336579573436), (2272, 0.033590240015039546), (2671, 0.03357854411799192), (788, 0.03356026847648984), (1893, 0.033544697905209), (1379, 0.03353517645843461), (2128, 0.03348601504948938), (562, 0.03345647019669312), (4725, 0.03335207968132695), (1454, 0.03328472810629857), (4359, 0.03328070784836444), (3410, 0.033277802930105946), (4457, 0.03325095877919464), (677, 0.033202469523281465), (2118, 0.03319819657641252), (154, 0.033151018932368395), (1463, 0.03309803630973548), (180, 0.0330571961742892), (4404, 0.033017261712164264), (2514, 0.032931444751742714), (3781, 0.03285370931429496), (4275, 0.032851225771107835), (3152, 0.03281560356264218), (2906, 0.03272614557780783), (4552, 0.03269536526296595), (1218, 0.03263961947805271), (3740, 0.03263935725604221), (551, 0.03262734809191829), (2855, 0.032506214655257236), (2433, 0.032492180190757176), (2813, 0.032432383228075165), (291, 0.03241192429470984), (4274, 0.03240164341668997), (454, 0.032352216494952894), (3689, 0.0323298013802831), (1369, 0.03230586998778526), (2964, 0.03227615680866714), (2287, 0.032199384517008225), (141, 0.032146442403731136), (987, 0.03211821812840076), (3860, 0.03205871240819998), (944, 0.03200037260030002), (1335, 0.03199932731461571), (271, 0.0319053744928015), (4562, 0.03187341335151091), (4290, 0.03182663729012104), (708, 0.031775076275734525), (1450, 0.031753251884250155), (912, 0.03169473349452717), (3911, 0.0316561149328538), (957, 0.031601645017646965), (2142, 0.031572510742889165), (2763, 0.031548643939551715), (1370, 0.031520630749768366), (3431, 0.031517839106827365), (2108, 0.03148669363323494), (1588, 0.03144190272399019), (4755, 0.0314271520256428), (2374, 0.03140474158404101), (2163, 0.03140213760070531), (850, 0.031244484916103175), (1573, 0.031212390096361245), (83, 0.031153336029077904), (894, 0.031137460973522598), (2460, 0.031101491610618398), (3205, 0.031069126408346196), (3122, 0.031013223202409162), (1473, 0.0309374262055195), (2255, 0.030901038587110654), (4484, 0.03086452697800194), (1483, 0.030806213494359504), (1168, 0.030716531434548774), (617, 0.03070003522107264), (4683, 0.030656761999035033), (2216, 0.030640541058150797), (3490, 0.030530340594994158), (1438, 0.030510979408512395), (1821, 0.03034485351974938), (3806, 0.030341074188684293), (1966, 0.030245750842035665), (3213, 0.030187338757760286), (1301, 0.030184394116505118), (3817, 0.03009206320413897), (1786, 0.030075218025471778), (663, 0.029903081130893225), (2828, 0.029816212327762315), (2181, 0.02974849526908456), (2926, 0.02973377729561802), (1167, 0.02961682640833401), (4257, 0.029558704847838853), (2781, 0.029509258064125715), (4054, 0.02948516922237584), (1344, 0.02943388207587872), (3249, 0.029317975890552295), (3388, 0.029187637610607838), (1107, 0.029170881003370435), (842, 0.02911734958543122), (1844, 0.02908400989216934), (675, 0.029052111399137114), (974, 0.02894190352275192), (1174, 0.02892500768120094), (1760, 0.0289132852107928), (4135, 0.02879823992299707), (1213, 0.028641839984594245), (243, 0.028633469672188328), (2539, 0.0286307575538682), (2286, 0.028461629995024842), (665, 0.02841646114011885), (3115, 0.02838231677109272), (740, 0.028316340365379916), (3800, 0.02830526915297764), (1277, 0.02829446768357444), (166, 0.02828281424853842), (1914, 0.028153085088233016), (3380, 0.028130908711103783), (918, 0.028063349803543396), (760, 0.028037323698350693), (158, 0.028032599375556126), (2720, 0.027873625030256637), (1919, 0.027802143802400876), (2171, 0.02773430152722324), (1640, 0.02765556463859607), (3602, 0.0276116864508185), (187, 0.02760159224374177), (2274, 0.027583757088523075), (653, 0.027560790888023316), (4516, 0.027452891560291442), (1398, 0.027368401658856824), (2388, 0.0273519234414151), (1999, 0.02730811493191152), (1142, 0.02726403618660395), (3212, 0.027252292026779562), (907, 0.027218378943054372), (699, 0.02721402704857473), (3020, 0.02711515803521691), (2512, 0.02706504790839391), (1319, 0.02706147048577895), (4321, 0.02703752542760249), (4212, 0.026964735804525543), (4323, 0.026909850589425004), (1392, 0.02689957212636851), (796, 0.02687483053469155), (1210, 0.02683269898557243), (3323, 0.026735771461263446), (4408, 0.026719345612445784), (1442, 0.026718936957193004), (2621, 0.026692732179108114), (4148, 0.026667470822736898), (554, 0.026609841383484146), (1399, 0.02644973305583036), (1479, 0.026416304397366586), (3950, 0.02640870026435434), (4541, 0.02638256164851019), (508, 0.026240670331880843), (1742, 0.02618783779776487), (2322, 0.026177071238918184), (2114, 0.026157179636559655), (1230, 0.026143238259411797), (3477, 0.025997409916368053), (84, 0.02597761483233197), (2309, 0.02593238902753816), (3052, 0.02577652609699673), (3164, 0.025775383872160853), (2711, 0.025679558079522786), (706, 0.025665243217255763), (1336, 0.025504353653368842), (2882, 0.02548054121199984), (1029, 0.02538987552708923), (4347, 0.025383037642359968), (2096, 0.025362405384140845), (1613, 0.025271704402410073), (215, 0.025191145401779774), (2041, 0.025164512040770266), (2067, 0.025163232711853934), (1155, 0.025137536747390766), (2521, 0.025106561990648563), (1918, 0.02504058816240221), (3885, 0.025017306232048002), (1469, 0.024998063124752116), (1166, 0.024910719659585037), (863, 0.024870162165835062), (1456, 0.024770004957913826), (1672, 0.02469876265197475), (4464, 0.0246624986312339), (3765, 0.024525875749550806), (1, 0.024479695062427687), (427, 0.024410501648920425), (173, 0.024371970396062263), (462, 0.02432418129739657), (3289, 0.024306086517994183), (636, 0.024303154575083454), (3345, 0.024264213835324653), (2996, 0.02417890504049434), (2153, 0.02417537107140343), (3501, 0.024142239252368535), (914, 0.024101188982678), (3366, 0.024008059492942376), (2179, 0.024003423591378015), (696, 0.02393216791130573), (2466, 0.023893487010272454), (2207, 0.02369752454849932), (3767, 0.023697266503892842), (125, 0.02360752406818169), (2869, 0.023557443604224997), (3875, 0.02355639917646786), (3562, 0.023527471074079074), (3339, 0.02352347055769215), (1621, 0.02350047719762691), (2817, 0.02347700152925142), (2144, 0.023409820874464693), (2904, 0.023355342478412533), (4010, 0.023307494427955412), (4111, 0.023154345874626826), (2816, 0.02313555980299511), (4387, 0.023130788758035585), (1292, 0.02308848567381375), (3283, 0.023085014002013654), (1061, 0.02298565924456713), (2628, 0.02296732911621387), (2925, 0.022823346652634857), (4496, 0.0227918267039124), (2046, 0.02277945579274394), (3319, 0.02276997414328474), (901, 0.02273218983031941), (939, 0.022654019297400185), (2973, 0.022647225998480357), (1618, 0.022638820735721606), (3070, 0.022578345894628083), (1769, 0.022547043756270323), (2653, 0.02250851885998441), (2527, 0.022491220334372113), (1411, 0.02248853077695682), (1466, 0.022459487888523966), (2340, 0.022357223934690716), (3503, 0.022338480660057992), (2941, 0.022238180210547926), (2029, 0.022228614475021325), (3206, 0.02218027448152167), (1448, 0.022154791175329466), (1100, 0.022150182903674022), (3092, 0.022009931447426294), (2721, 0.02198301041423249), (1980, 0.021981335767425735), (3419, 0.021941506984183467), (3029, 0.0219254602371071), (1509, 0.02188938441047309), (2301, 0.021817039797093235), (3547, 0.021807769181458693), (2977, 0.021721481838072126), (3370, 0.021623940988448387), (804, 0.021601471255606686), (4143, 0.021596910554245605), (235, 0.021584384813027036), (558, 0.021574233657270802), (3540, 0.021458654868997205), (1011, 0.02141899564087818), (4396, 0.021331198495525262), (2594, 0.02127587558385134), (4515, 0.021202140061510957), (3170, 0.02114216692698787), (1089, 0.021110112056409617), (2580, 0.021100170904816397), (2833, 0.021086898403949072), (4384, 0.021084797350272123), (1499, 0.021078568315155054), (4214, 0.021051563463958454), (4436, 0.020973334103474593), (2259, 0.02095183758441129), (1954, 0.02084587255077408), (2845, 0.020834104646182586), (2136, 0.02077112086578579), (2954, 0.020732368655861026), (3710, 0.02065645643002159), (2015, 0.02065614108926965), (1564, 0.02064141421571507), (2939, 0.02057724646612082), (777, 0.020502865924556246), (17, 0.02049382558177545), (4262, 0.020475956099701223), (4100, 0.02040667435801906), (2636, 0.020361431288596618), (66, 0.02034052257600125), (4146, 0.020330113896811358), (2244, 0.02025278097703572), (3887, 0.02019760693251537), (3269, 0.020021927191977963), (4652, 0.020012225188739418), (258, 0.019958990521016837), (3910, 0.019758476695917262), (711, 0.019632442196462076), (3427, 0.019605715391009224), (718, 0.019585058951495076), (633, 0.019489083846361794), (1694, 0.019474814254425134), (3571, 0.019468424584568305), (2585, 0.019338659523441454), (2071, 0.019320027982603367), (3793, 0.01925554344009017), (467, 0.019222256887580124), (3414, 0.019202512689820008), (2452, 0.019139922544572738), (3007, 0.019124281417394272), (3343, 0.01907533403225565), (3647, 0.019067512961357672), (520, 0.019052646294672355), (840, 0.01903971752190114), (942, 0.018973152408008048), (1657, 0.018934896096075654), (292, 0.018890996789552514), (3701, 0.01887893367735611), (2076, 0.018874497017088678), (4482, 0.018864773504876687), (1928, 0.018834732742234378), (3360, 0.0188338614666572), (2173, 0.01878907043396588), (2981, 0.018670508889072637), (1963, 0.01866309844588459), (746, 0.01860338960072379), (3970, 0.018582837637647277), (4432, 0.018549221154066414), (2190, 0.018413576275560336), (3415, 0.018340723952995176), (319, 0.018225287235274223), (46, 0.01821243124070619), (1617, 0.01821230253084647), (441, 0.01809167733730645), (2739, 0.018085789927054743), (4342, 0.01792995705290612), (3534, 0.017917270042019325), (3143, 0.017826539422642732), (2552, 0.01766915234148046), (4391, 0.017615006554898702), (2311, 0.01759908770563679), (4006, 0.01754780687381253), (1036, 0.017480484651930518), (1978, 0.017187259853970717), (81, 0.017126571776201045), (459, 0.01711571112760301), (1272, 0.016788943953145317), (2749, 0.016773358889503782), (144, 0.01653644167131825), (336, 0.016528413979410572), (929, 0.016414523498038878), (3712, 0.016274806305942916), (3057, 0.016232616116374075), (2141, 0.016054129371488948), (1267, 0.016052567865956595), (3420, 0.015925412783005743), (1625, 0.01592359682812374), (1109, 0.015856564076131435), (524, 0.015785263501274446), (575, 0.015768657915985897), (2129, 0.015714040416695774), (3247, 0.0155438392043221), (2734, 0.01518412806069749), (4353, 0.015138859401821317), (1039, 0.015128519155114387), (456, 0.015090451428349), (1951, 0.015068895281286854), (3512, 0.015013665209814066), (2678, 0.014766121285364057), (3552, 0.014706463109364926), (2204, 0.014704801758741108), (2534, 0.014486420738918204), (3178, 0.014200565691162145), (1488, 0.014064463443067688), (1634, 0.013999346014367534), (2867, 0.013787197270977096), (1002, 0.013633794834278824), (3352, 0.01354237398045391), (3447, 0.013404185620013595), (735, 0.013395062193881542), (2538, 0.013312928862193117), (2529, 0.013287634876453049), (3356, 0.013214103686242106), (2764, 0.012877984414815604), (2747, 0.012874971753408142), (1690, 0.012853332855650816), (1539, 0.012821791341247491), (3137, 0.012795796941633223), (2379, 0.012778693121673295), (2832, 0.012735485548470782), (3750, 0.012611695925062567), (3166, 0.012435569303488728), (3479, 0.012021399732079208), (2423, 0.011925549318815978), (3892, 0.011807449965385394), (2199, 0.011649004559825857), (2797, 0.011544486029865745), (2838, 0.011476597666152766), (3282, 0.011465854525574127), (3763, 0.011414001578405164), (1208, 0.011262453606226772), (2834, 0.01117095227649231), (2304, 0.011138182437059382), (2488, 0.01103044926288748), (2434, 0.010971814348719404), (4026, 0.010957993589217828), (3192, 0.010956117510925787), (3577, 0.010952040987413723), (4117, 0.01093510722737831), (1803, 0.010895518877318247), (737, 0.01089462867326279), (925, 0.010856845010229418), (2570, 0.010844593369395457), (1049, 0.010844530120303574), (2696, 0.010839146233305643), (2872, 0.010818640269659657), (2986, 0.010813351860819203), (2796, 0.010803739962179967), (3413, 0.010794939289157255), (1187, 0.010775735881210082), (3866, 0.010767184269671978), (3308, 0.010764427730904866), (3364, 0.010743665401147304), (3062, 0.01074181580608107), (2320, 0.01073606349413437), (1658, 0.01072884342090788), (4293, 0.010723325064987698), (3271, 0.01071404440145931), (2151, 0.010713440812963238), (4295, 0.010638283539399648), (4556, 0.010621099734334736), (985, 0.010599100451869962), (4051, 0.010550311839601976), (4233, 0.01054032533737377), (4522, 0.010537925752189719), (3258, 0.010527066788052847), (1489, 0.010518740343897694), (344, 0.01049778518790595), (998, 0.010477257125613253), (1585, 0.010466027073642166), (2302, 0.01045804554746182), (4203, 0.010454993307163579), (1359, 0.010449013477391293), (2610, 0.010448876814914238), (778, 0.010440154373067568), (3044, 0.010422907594359319), (999, 0.010418478715703467), (2924, 0.01040226716924587), (2106, 0.010383772359297156), (752, 0.01037722708590289), (2148, 0.01037287998563669), (2049, 0.010364731732558877), (413, 0.010364535965460605), (2260, 0.010362474326267348), (2729, 0.010319770567701258), (246, 0.010289570070572946), (4448, 0.010250931093369206), (3565, 0.010243317589067035), (2732, 0.010242574367099216), (3733, 0.010229946634553642), (2592, 0.01020797575687531), (3585, 0.010181242969429427), (4113, 0.010156621936271662), (3984, 0.010151211956739237), (2116, 0.010148800350019051), (3265, 0.010144054531237503), (3146, 0.010140533341162468), (3408, 0.01013240041801489), (2755, 0.010125182256708701), (2223, 0.010120899508111694), (3187, 0.010105693327004516), (2394, 0.010101061570617888), (350, 0.010097422292279438), (2782, 0.010088160505461935), (1923, 0.010080812280063073), (211, 0.01005262403271782), (1759, 0.010043052289613249), (3183, 0.010032744641156072), (1007, 0.010025198422477816), (2234, 0.010015698471955893), (3198, 0.010005774650779092), (318, 0.009982448636558054), (3218, 0.009973495399798627), (2391, 0.00995338665199573), (4259, 0.009926947349558308), (1518, 0.00992473116965478), (768, 0.009923910865878429), (1513, 0.009893852630971589), (3845, 0.009891572143247897), (1537, 0.009869486682993771), (3822, 0.009864250104712185), (2663, 0.009854122567142973), (4012, 0.009853283610758488), (1888, 0.009847972531520657), (3919, 0.009847043973906667), (4489, 0.00983672933433093), (2601, 0.009829497369086082), (1224, 0.00982102014820878), (1851, 0.009819835591300459), (3097, 0.009813449537286117), (3349, 0.009807507588407292), (4357, 0.009802596077216055), (1329, 0.009796717160494253), (2776, 0.009785462349322267), (903, 0.009782322336079943), (1364, 0.00977324863932812), (2111, 0.009756055582272856), (2633, 0.009752228684085464), (872, 0.009746436304092443), (3493, 0.0097317180808975), (4422, 0.009709225904217227), (3449, 0.009707366141756012), (3496, 0.009703905557259123), (1382, 0.009689441814706315), (879, 0.009670725411671584), (4217, 0.009657339486562576), (2531, 0.00965322571999792), (4446, 0.009628421135567413), (741, 0.009613175424439705), (3973, 0.009600355786340966), (1286, 0.009595111297753669), (3386, 0.009583228549016599), (2661, 0.009570082073280552), (2554, 0.009569327547641658), (4420, 0.009566356539823604), (2242, 0.009556393386954801), (3214, 0.009529189309052314), (3728, 0.009522443761778257), (1722, 0.00949277744779884), (2494, 0.009484621177851113), (4603, 0.009480287135729596), (3077, 0.009471099368302687), (174, 0.009466654407465344), (479, 0.009448620368404513), (2744, 0.009442004753107865), (4287, 0.009433795469959417), (3303, 0.009433509403059231), (1232, 0.009416937969320183), (169, 0.009415200457209793), (504, 0.009386833910177268), (3882, 0.009381917062508528), (2746, 0.009381212773237186), (2492, 0.009372753746857818), (923, 0.009341410195643971), (776, 0.009325281773935781), (3297, 0.009318231740964043), (3673, 0.009313806240673236), (1410, 0.009310336640847613), (697, 0.00930185631136491), (1533, 0.00928765721877424), (3888, 0.009284122589230549), (4437, 0.009272152934099179), (2706, 0.009263429989099703), (2972, 0.009259500745956514), (2584, 0.009232474738461555), (867, 0.009217302801961846), (2422, 0.00920453837759868), (969, 0.009189307378253651), (2145, 0.009177948283364408), (1476, 0.009166463354897524), (3500, 0.00915485377020335), (2687, 0.009152417806180275), (2087, 0.009140427208624846), (3890, 0.009114096439567738), (3641, 0.009113648509216499), (3402, 0.009111601005814908), (1422, 0.009099318123635888), (1170, 0.009093370052273422), (114, 0.009064237860557635), (1693, 0.009052308986777138), (3315, 0.00904431080482272), (1816, 0.009022588952246986), (2397, 0.009019900643276346), (3098, 0.009012321409589664), (3868, 0.009001553967371968), (1408, 0.008983381512199348), (3418, 0.008982621658463051), (2131, 0.008973527255552914), (2642, 0.008947672619591179), (2068, 0.008940028002227181), (197, 0.008899704978027043), (2553, 0.00888824961864913), (3220, 0.008882033663680088), (3050, 0.008880912023209571), (1261, 0.008870061162597557), (2614, 0.008869088221263808), (4719, 0.008869037181051866), (3194, 0.00883115099875761), (2461, 0.008826137005479252), (2467, 0.00881922393940517), (1878, 0.008794257623592426), (325, 0.008792257791607961), (4192, 0.008776602723592474), (4288, 0.008772390357720075), (2809, 0.008770649726737294), (1744, 0.008752219749997535), (4739, 0.00872583027823614), (1582, 0.008702104796854071), (589, 0.008676887542683365), (1372, 0.008636295114199983), (1309, 0.008630895379193737), (1217, 0.00860996475202402), (605, 0.008600062318542623), (1340, 0.008586647943638136), (2201, 0.008581321220188669), (1308, 0.008581068097766783), (4473, 0.008576844814344151), (2367, 0.008564555865068683), (3311, 0.008557419783402395), (3071, 0.008550792806068599), (2741, 0.00852648312874603), (2265, 0.00848649625453668), (515, 0.00847320035740011), (3389, 0.00846136362158411), (1427, 0.008456115245906597), (1827, 0.008443350466819703), (2399, 0.008436295164650979), (1477, 0.008415130931259462), (103, 0.00839725345381561), (3839, 0.008392012502406612), (416, 0.008388840626980592), (4066, 0.008383305963614925), (3304, 0.008379165964057517), (703, 0.008378131235099293), (3579, 0.008369128852195061), (951, 0.008362790606012286), (1719, 0.008319617832857538), (1216, 0.008310200080014978), (161, 0.008304258197204938), (2591, 0.008297574403534059), (1830, 0.008289321523191671), (2240, 0.008253116564368614), (1199, 0.00825142453888336), (357, 0.00823264106050053), (1251, 0.008203390039608134), (2597, 0.008124069492227059), (3393, 0.008123532495537098), (2933, 0.008115522146417364), (1616, 0.008107227453779337), (4636, 0.008063106889832278), (1040, 0.008053922530926832), (807, 0.00803992091340945), (1394, 0.008001997746436437), (712, 0.007990421678493483), (3575, 0.007967083818369646), (1088, 0.007964688661829034), (4156, 0.007951488297072033), (1943, 0.007924016994407635), (195, 0.007912507127762938), (3, 0.00790839703921657), (1078, 0.007896777463588129), (2603, 0.007890025254520799), (2157, 0.007886316290636393), (707, 0.007868593159295952), (2737, 0.007845518476024537), (3932, 0.007827080901978877), (25, 0.007740837068074805), (2758, 0.007722726130735592), (1861, 0.007664548337581729), (156, 0.007514733242216612), (1677, 0.007480541959881565), (2701, 0.007403385644881835), (1871, 0.0073644165450969246), (510, 0.007348492391503907), (351, 0.007334280278320131), (4223, 0.007294780812439705), (3626, 0.007186228457192856), (1403, 0.007133378931081272), (2395, 0.007073678713825602), (3040, 0.007031204215808719), (764, 0.0070111368750030495), (2722, 0.006998851317445177), (2858, 0.006995120938719654), (3139, 0.006938708448688855), (2891, 0.006933190176664418), (996, 0.006925792796661525), (3936, 0.006925398368919448), (3949, 0.006923534101093209), (2500, 0.006909740942023828), (3325, 0.006867873477780082), (3142, 0.006865705598674554), (2404, 0.0067929452198030585), (4222, 0.006783898619119735), (2137, 0.006783444987470264), (3439, 0.006774333077858889), (4198, 0.006757474422238158), (3796, 0.0067492317861389565), (3715, 0.006721573986375654), (2537, 0.006708523683337037), (4700, 0.006671018598117701), (3042, 0.006656412830173983), (2715, 0.006640954240686866), (4007, 0.006632414125917683), (3009, 0.006615958545121408), (3217, 0.006602316148126829), (4166, 0.006590400034264138), (4102, 0.006554977228570519), (2281, 0.006546210358159337), (2600, 0.00653581175427711), (129, 0.006513184718389851), (824, 0.006490992205386029), (940, 0.006486118077210796), (4084, 0.006479686658777872), (3667, 0.006452727771993272), (2543, 0.006430776204359798), (4571, 0.006407464015905951), (2928, 0.006405059440524541), (2363, 0.00636591536082607), (2948, 0.006348420552481658), (4720, 0.006345406320677488), (3078, 0.006314808454233021), (1506, 0.006311781719635444), (2228, 0.006282581338950654), (3537, 0.006228221736570189), (3925, 0.006213175826394907), (4570, 0.0062126796979053425), (948, 0.006183034278073057), (3686, 0.006173685957099075), (4064, 0.006168332931195928), (4721, 0.006163143889816881), (3671, 0.006145055625084657), (904, 0.006121907659870759), (2656, 0.0061073756230079525), (3592, 0.006097664242685364), (4514, 0.006094543675530608), (3276, 0.006091843201433707), (3017, 0.006082427812416979), (4746, 0.006081813697194554), (2738, 0.006077423848440753), (4440, 0.006075613126249457), (202, 0.0060727357333494655), (4717, 0.006067013024965119), (2581, 0.006066819083594071), (3168, 0.006057539702969239), (2998, 0.006043769245018298), (2333, 0.006043140586633125), (3844, 0.006040595754562164), (947, 0.006030303700633302), (2730, 0.006026975599957126), (4147, 0.006014946853970205), (4082, 0.006008503774504333), (391, 0.006004502735223045), (1424, 0.006003346915802358), (3089, 0.006002684781314742), (2077, 0.006002037082895371), (2786, 0.005998065289287555), (4483, 0.005988132886378929), (3758, 0.0059829901826904406), (2009, 0.005974863108176535), (2479, 0.005964215102094191), (2619, 0.005960803674156422), (4202, 0.0059572583895036915), (3256, 0.00595575758798091), (2464, 0.005952140149035844), (153, 0.005941680610735671), (2468, 0.005939566138134667), (4341, 0.005934593758146053), (2308, 0.005931357974329824), (582, 0.005930986414109469), (3764, 0.005930437568817589), (3371, 0.005923400552560844), (3554, 0.005914831241308124), (2351, 0.005905156564279668), (1637, 0.005903680274565584), (4190, 0.005893683868356056), (2846, 0.0058906530190413085), (2989, 0.005889218417500313), (3616, 0.005887378971754798), (2186, 0.0058858349706996495), (2251, 0.005864916381297673), (2870, 0.005861473322516737), (3649, 0.005861230287349644), (751, 0.005859748676106288), (1792, 0.0058525433199104315), (4633, 0.0058350649422439765), (3051, 0.0058344953981591665), (4285, 0.005825277186919773), (225, 0.005824421895661687), (4023, 0.0058193556691676605), (3621, 0.005814849863859766), (3080, 0.005807788382347452), (795, 0.005807706103012202), (4105, 0.005801922064708838), (3262, 0.0057927975156161614), (3337, 0.005790669105236235), (1941, 0.005781808259909342), (2357, 0.005777879881155702), (1615, 0.005774604750124881), (2810, 0.005770249716777482), (1806, 0.005768004507978611), (368, 0.0057653409008127585), (4463, 0.0057588481011306295), (2261, 0.005758059503504601), (2568, 0.005758006895975632), (2349, 0.00575448191589443), (2403, 0.005746964877084224), (2884, 0.005746283320288701), (2635, 0.005737828916150824), (4086, 0.005723096388275246), (905, 0.005721705438218186), (461, 0.005721594146967729), (3808, 0.005720676410153907), (2655, 0.005718526840058789), (2187, 0.005706484367610027), (1766, 0.005694478614733722), (2032, 0.005691884893082822), (4617, 0.005686093521516629), (1560, 0.00568606265740605), (2643, 0.005676589389466539), (4453, 0.005674488737446201), (3967, 0.005674065975973001), (2575, 0.005665927286544066), (2883, 0.005660699737096033), (3424, 0.005656145039711417), (4121, 0.005655404876732777), (3990, 0.0056494790895097085), (2775, 0.005648386951933687), (4580, 0.005645725240835026), (3652, 0.00564499120977938), (2982, 0.005642589583286978), (3039, 0.005642386944310245), (2493, 0.005639882754187287), (4118, 0.005639064505697109), (40, 0.0056369307841909215), (2410, 0.005630322281210366), (1601, 0.005630150501630122), (4460, 0.005629462440071308), (2754, 0.005625991516165285), (2082, 0.005624502914423019), (2852, 0.005620067058184673), (1491, 0.005615901030459487), (627, 0.005615690221711648), (2158, 0.005615380532933566), (3635, 0.005611513479267599), (2889, 0.00561065250365961), (3221, 0.005609137253525609), (4308, 0.005606599483503841), (4346, 0.005604905784061743), (4710, 0.005594910241932512), (365, 0.0055918139170188326), (933, 0.005585159204802797), (2012, 0.005584791412358361), (4140, 0.005583301711172654), (3545, 0.00558277115884285), (4207, 0.005582071850144245), (3109, 0.005577580292075336), (38, 0.005577537619752873), (2994, 0.005574779352097823), (2407, 0.005572132733811626), (2731, 0.005572090793196242), (2932, 0.005571597994017338), (2843, 0.00556330411663866), (2381, 0.005562529570958289), (1656, 0.005559992901462022), (3858, 0.005555229324622772), (4444, 0.005547855795858424), (2604, 0.005547105380893866), (139, 0.00553955577015876), (2901, 0.005537368133275672), (3373, 0.005537035080138559), (3026, 0.0055368176413712975), (2559, 0.005536017629775347), (3584, 0.005534073703279888), (385, 0.005533010100968439), (3964, 0.0055283990005310915), (3628, 0.005525763736712936), (678, 0.005525179550112551), (2484, 0.005522430439045361), (1243, 0.0055205488453316095), (3681, 0.005519849018046357), (2561, 0.0055169566450686365), (2101, 0.005516735878353095), (1733, 0.005516600466831649), (1260, 0.005514173199417908), (3688, 0.005513810778177405), (3076, 0.005506231657795432), (2873, 0.005504631967091947), (2979, 0.005503916207350766), (4351, 0.00550227398415713), (1596, 0.005500592938843517), (253, 0.005500303733673376), (1848, 0.005498510520911683), (1201, 0.005497390021563098), (4315, 0.00549730998894596), (2420, 0.005494405405265481), (4226, 0.005482249958703272), (2021, 0.005479353591054689), (3219, 0.005476880574885795), (1614, 0.005476737993842316), (1246, 0.0054766155691500715), (3444, 0.005454502100066046), (1099, 0.005451996705924185), (3922, 0.005450277060554187), (873, 0.0054468216821388785), (2257, 0.005437977829461481), (2795, 0.0054343798389131955), (784, 0.005430351883328669), (1926, 0.005427794689342926), (2880, 0.005426187308098135), (3140, 0.00542443181694479), (3676, 0.00541905339948099), (4546, 0.00541643688480871), (2350, 0.005415197099253551), (4433, 0.005410820723250796), (4132, 0.005410271402880481), (1594, 0.005409534348005643), (146, 0.005405354588127469), (667, 0.005401139153357674), (2218, 0.005397263274057962), (2546, 0.005394671464556069), (2709, 0.005392136068105029), (1282, 0.005391410669558878), (4300, 0.005390576438883838), (4324, 0.0053883396158239385), (1520, 0.0053881113624180315), (3015, 0.005385303677932651), (2448, 0.005383044447297253), (3812, 0.005380322601974648), (2626, 0.005379804309971728), (362, 0.005378368008146188), (961, 0.0053766998455318585), (2951, 0.005374155662509152), (982, 0.005373445693926907), (2811, 0.00537005110164994), (1955, 0.00536996437773823), (2662, 0.005355643591772302), (4061, 0.00535085274457319), (4108, 0.00535018944745133), (2438, 0.005349692631188125), (2075, 0.0053492200068874325), (1432, 0.005347682766531982), (3529, 0.005347162482801546), (4052, 0.0053454848312438335), (1718, 0.0053452603402780186), (3889, 0.005344021962574664), (3613, 0.005343600175415894), (2415, 0.005342251139627291), (3461, 0.005341684009515917), (4723, 0.005338565883261716), (3181, 0.005334107388655273), (2086, 0.005328790967223002), (1495, 0.005328283843146543), (4173, 0.005327830441186063), (3074, 0.005323523686869401), (363, 0.005323136190738977), (1731, 0.0053227658882541735), (4094, 0.005322590363440902), (3189, 0.005309493908511775), (1727, 0.005307260642765175), (2241, 0.005305261007699035), (990, 0.005303610162171171), (418, 0.005303235374796606), (2194, 0.005301557937395002), (4263, 0.005298361902073173), (2588, 0.005298198865322712), (630, 0.005295058642592766), (1791, 0.005293619602943592), (392, 0.005288801461046268), (3229, 0.005288612737119734), (3290, 0.005282827531777498), (2566, 0.005282216574464928), (4434, 0.005279517754509268), (2605, 0.005274662591887968), (3832, 0.005274002207137705), (2303, 0.005273488387717999), (890, 0.005272598518886947), (3934, 0.005271886854251481), (884, 0.00527030254790463), (3113, 0.005268191883972744), (3400, 0.005266496366534512), (1683, 0.005265053966146177), (1205, 0.005264463249475165), (245, 0.005263505524966327), (2140, 0.005263436518202632), (2472, 0.005262724065139834), (3943, 0.005260155349439579), (401, 0.005258230599049574), (1516, 0.005256798128636839), (2487, 0.005256742091322779), (2495, 0.005256713551040982), (474, 0.005255536549629497), (1572, 0.005254910590704503), (134, 0.005252561148709571), (1587, 0.005252539036753396), (415, 0.0052512864688006415), (3236, 0.005249615466653658), (3245, 0.005249295651636863), (1013, 0.005247366838837203), (4557, 0.005246459060374912), (405, 0.005244447063760744), (3287, 0.005243865125594084), (781, 0.005243507795099852), (2208, 0.005242474071394848), (3766, 0.005240902389773311), (3084, 0.0052378378438654866), (1445, 0.00523719488893746), (2966, 0.005234892012725712), (361, 0.005234363053990848), (3790, 0.005231565252409296), (4395, 0.00522945323129689), (2090, 0.0052293959490527136), (3828, 0.005228996285820591), (1024, 0.00522708827308447), (4675, 0.0052246542251773494), (1124, 0.0052214310803519815), (4234, 0.005220793696662081), (1085, 0.005220375203720893), (1234, 0.005218382197012276), (3905, 0.005218304393361491), (4403, 0.00521746028720294), (849, 0.00521449020048932), (4628, 0.005214107084018805), (1655, 0.005211413445982245), (2504, 0.005210052943719928), (3061, 0.005208747290397372), (4637, 0.005208098973329023), (941, 0.00520496947979034), (1660, 0.00520467667240079), (3549, 0.005203543989989504), (3514, 0.005201633010007446), (3603, 0.005201091578646574), (4319, 0.0051995959438591), (2081, 0.005199205986119917), (3599, 0.005199099903502672), (219, 0.005193157059744912), (3275, 0.005187879812139775), (3081, 0.005186729925767568), (2940, 0.005186655970844297), (1108, 0.005185321323021921), (1264, 0.005180329941201339), (2530, 0.005179972338728814), (312, 0.005178957901927096), (1911, 0.005174100268193841), (908, 0.00517348206447903), (2353, 0.005172625709300777), (3382, 0.005170774978843289), (3675, 0.00516947394001377), (2879, 0.005167320473607741), (1711, 0.005166185373059342), (2444, 0.005166056461918791), (1505, 0.005165383857566246), (2586, 0.005163149431136917), (1688, 0.00516289328060526), (2856, 0.005162403905678867), (1361, 0.005161439752915539), (3464, 0.00515862777439322), (2569, 0.00515355471329544), (1697, 0.005153383419643834), (1956, 0.005153061875321824), (2511, 0.0051519120198342235), (3539, 0.0051503556230037585), (793, 0.005149147805289451), (1889, 0.005146902183552206), (4756, 0.005142038491469485), (1165, 0.005141522696641246), (1965, 0.005140761042872894), (1094, 0.00514072182741482), (3513, 0.0051403691295634395), (2499, 0.005139541617834398), (2449, 0.005139507607232228), (2582, 0.005137818136855982), (4486, 0.0051360279670527665), (4163, 0.005134665321073697), (3034, 0.005134663989588645), (3332, 0.005130862159234791), (2456, 0.0051303262618414515), (1064, 0.005130159938867101), (4027, 0.005129179811482976), (4660, 0.005128652594188282), (3154, 0.005128068911700113), (3620, 0.00512739209183292), (931, 0.0051263891835771095), (4521, 0.005124974896663555), (3155, 0.005122407083551489), (3363, 0.005122004846543117), (3351, 0.005120471272273871), (1549, 0.005119820660030741), (2217, 0.005117729151719584), (3443, 0.0051156014139894755), (1345, 0.005115547810796909), (1751, 0.005114816940841333), (1881, 0.005112891355758219), (2778, 0.0051119297367897346), (115, 0.005110359529405333), (671, 0.005110249208546712), (4490, 0.0051099233291550805), (331, 0.005109850703712944), (28, 0.005107394669764933), (3102, 0.005106328351485069), (971, 0.0051028496829492445), (2125, 0.005102368179017087), (3805, 0.005100001482686016), (1638, 0.005098409609135507), (3016, 0.005094702616367769), (1837, 0.005094666586489441), (326, 0.0050923164542660965), (2284, 0.0050921399741972045), (946, 0.005091416478076251), (1542, 0.0050906996873336255), (2685, 0.005089196836167877), (110, 0.005088565127937611), (2266, 0.005087020663025901), (1198, 0.005086448392657143), (3570, 0.005085964508286901), (1525, 0.005085866400523951), (264, 0.005085640341903323), (1494, 0.005083218459157899), (2807, 0.005081926045654192), (3018, 0.00508180243782914), (1461, 0.005081150603798945), (2154, 0.005080147694350577), (1047, 0.005079338910863838), (1557, 0.005078720380883495), (3150, 0.005078166510880488), (2336, 0.005077666617784003), (1961, 0.0050762800238822285), (3521, 0.005075394730391851), (3638, 0.0050750695957114695), (2003, 0.005074779142325165), (3792, 0.005071822283889306), (3632, 0.005067988390551643), (3019, 0.005067315456011613), (3072, 0.005065759333266584), (1726, 0.0050641383677013105), (4243, 0.00506076830964049), (1508, 0.005059762252965571), (2890, 0.005058172922056248), (2385, 0.005056933922967353), (528, 0.005055736247249216), (4477, 0.00505396996449873), (3650, 0.0050526111169891695), (4594, 0.005051287966613418), (2193, 0.005051126853625825), (529, 0.005049681926093364), (377, 0.005049263888139137), (1496, 0.005049262590837986), (586, 0.005049245597033828), (398, 0.005048285570832384), (2192, 0.005046200620119342), (498, 0.005044644269754573), (2297, 0.005043255599999228), (4029, 0.005042161346989627), (4619, 0.005041461625722774), (4443, 0.005039890967413929), (3188, 0.00503978981414434), (983, 0.005037838817108663), (2406, 0.005037631621832507), (670, 0.005036988094481389), (3517, 0.005036475471093844), (3644, 0.0050316235055382725), (720, 0.005031449333918042), (1501, 0.005029461444949495), (1302, 0.005029041236322161), (2848, 0.005026938547631248), (736, 0.005026298563210938), (4218, 0.005025378012918934), (2428, 0.005024418608320175), (2690, 0.005023349877805886), (1330, 0.0050208909887942904), (4195, 0.005020409920155129), (521, 0.005020334473703511), (1995, 0.005017876446644531), (1589, 0.0050177653190841085), (2290, 0.005017172378251532), (3033, 0.0050164016750576515), (3004, 0.0050142564254088105), (3270, 0.005013576275807779), (3355, 0.005012986265083053), (3359, 0.005010083385112873), (1256, 0.005009035792729452), (4049, 0.0050045054834857465), (3123, 0.00500329073046569), (42, 0.005000036387241641), (3288, 0.004999154187666823), (1783, 0.004998828094590025), (1429, 0.004998227421200668), (2435, 0.004998173422999782), (1700, 0.004997761344281957), (4254, 0.004996740625271274), (937, 0.004996469495221003), (3508, 0.004994131038878013), (3302, 0.0049933262215417955), (2772, 0.004986094660027777), (4632, 0.004983881354792595), (1485, 0.004983470851538674), (3165, 0.0049816737007509874), (3879, 0.0049811040205839105), (404, 0.004974265092400723), (503, 0.004972630321946115), (494, 0.0049719181158439305), (785, 0.004971698651979737), (2335, 0.004969726992711355), (1373, 0.004969190370405943), (1880, 0.004969018119397474), (1298, 0.004968501535067915), (938, 0.004967472182624244), (4244, 0.004966744628440755), (2836, 0.004965352664604171), (1022, 0.004963713521935269), (1238, 0.004962995942559289), (4112, 0.004961500043596826), (2677, 0.004955549345221414), (448, 0.004954639920753944), (346, 0.004953283471096778), (2019, 0.004952461786471364), (2748, 0.004951394830283882), (3772, 0.0049493050872519775), (4099, 0.004948595270480199), (3066, 0.004947687479532823), (4412, 0.004947099970277122), (1885, 0.004946139657941488), (3531, 0.004945810432933199), (3606, 0.004944872307434937), (4304, 0.004944814334848015), (1304, 0.004944722497226428), (4206, 0.004943738035657143), (4731, 0.004943349230723914), (1420, 0.004942919206315679), (2475, 0.0049420257031411105), (1204, 0.004941570111561176), (3286, 0.004941414049474427), (2623, 0.004941187793612188), (2188, 0.004941180317737056), (2450, 0.004940423869448202), (3685, 0.004939182403289335), (1804, 0.004939075128416813), (4037, 0.004937920870683346), (22, 0.004937511564438654), (1794, 0.0049374910659339905), (4589, 0.004935991852689262), (1867, 0.004934794937626826), (770, 0.004934385879977062), (436, 0.0049320866397620875), (2804, 0.00493018861920117), (2914, 0.004929882725862956), (4738, 0.004928674814844766), (2437, 0.004928529712593462), (1297, 0.0049273301177559774), (973, 0.004927114223197032), (1126, 0.00492577948907239), (2427, 0.004923869569975232), (2866, 0.004922847432212598), (859, 0.0049221627791348225), (945, 0.0049214559274273284), (2280, 0.004921307069350128), (1912, 0.004921244877126261), (2693, 0.004919019439057651), (1738, 0.004917698816400013), (2440, 0.004917580226769132), (188, 0.004917094992488137), (1984, 0.004915371689893564), (2026, 0.004914904506343482), (1074, 0.004914618284358631), (721, 0.004914198929923341), (1547, 0.004911495474071314), (2825, 0.004909491596372479), (4213, 0.004906274202202591), (50, 0.0049038888966316824), (3998, 0.004902667319841669), (1721, 0.004902096612655993), (2459, 0.004900840381055896), (2329, 0.004900529451499628), (3397, 0.004900363494705498), (1842, 0.0048995292232774275), (3260, 0.004897788964042176), (1771, 0.00489508256756396), (4333, 0.004893777419769241), (3665, 0.004893755185647269), (4706, 0.004892592842642127), (2056, 0.0048923956150780466), (1190, 0.004888515317651217), (507, 0.004885931342729127), (2916, 0.004885493439599762), (1750, 0.004883051236882516), (2590, 0.004881071989110103), (1211, 0.004881025507873213), (419, 0.004880481704584849), (1498, 0.0048801135965116085), (2823, 0.004879986486432558), (532, 0.004879182440559271), (3274, 0.004874174302399026), (2134, 0.004874122366331243), (4197, 0.004874072299647301), (4701, 0.004872851747382661), (2202, 0.004872482016938079), (2897, 0.004871801832477389), (1284, 0.0048713828473347116), (2616, 0.004871010992193008), (860, 0.00486946928154524), (3582, 0.0048674390267890175), (883, 0.004865906691920286), (1552, 0.004864624405822628), (3680, 0.004863821765105869), (1231, 0.004862682843421657), (4713, 0.004861798057175015), (662, 0.004861470442268549), (1748, 0.004860863855208525), (1913, 0.004857303609039107), (3745, 0.0048573008138355425), (3295, 0.0048489972684050905), (505, 0.0048475425175475585), (1113, 0.004847388798938211), (2740, 0.0048469390617302535), (1363, 0.0048464460665132506), (1117, 0.0048462530566804225), (1909, 0.00484561332984812), (157, 0.004845246906082403), (780, 0.004845196953812422), (3595, 0.004844733413238817), (4442, 0.00484343435976597), (3753, 0.00484326340061888), (1610, 0.0048430274720089594), (614, 0.0048430036900000304), (3886, 0.0048428139777292965), (2051, 0.00484146254855774), (3094, 0.0048406970178070585), (2036, 0.004840197440660762), (2089, 0.004840117558110076), (3296, 0.0048382480025595505), (813, 0.004837721204958215), (2229, 0.00483627684954359), (4447, 0.004835408338714694), (690, 0.004832688147216496), (2699, 0.004832540820265095), (3309, 0.004827549925821806), (2625, 0.004826499604768577), (3248, 0.004825422341549077), (702, 0.00482502261642475), (2881, 0.0048223286069105), (2269, 0.0048219678018169955), (3903, 0.004821392574434261), (2974, 0.004819170146131333), (2050, 0.004818941481075732), (2681, 0.004817454677854491), (4542, 0.004814391485613786), (3590, 0.004813670883957722), (1900, 0.004812447320218935), (3524, 0.004812239702276451), (4269, 0.004812071956951445), (773, 0.004811510554549877), (1196, 0.004808353002661913), (3992, 0.004806954974492081), (2107, 0.004806850109662356), (4718, 0.004806414752056164), (217, 0.004805046222183642), (2166, 0.004803915860612238), (431, 0.004803458532951581), (3754, 0.0048002488292240965), (263, 0.004800119895587784), (649, 0.004797981354599471), (4369, 0.004796400384151286), (2664, 0.004795941390590176), (4071, 0.004793679464370567), (3560, 0.0047936616594584595), (2644, 0.004792005082739989), (3149, 0.00479079486429901), (4368, 0.00478738952555272), (4246, 0.004786808559181311), (3083, 0.004786136227310321), (3320, 0.004784690586706561), (3032, 0.004784424673629617), (2411, 0.0047794581808498614), (2150, 0.004776433898999728), (3883, 0.00477545967176441), (2728, 0.004775421840653478), (1457, 0.00477502349731098), (3732, 0.004772146309861196), (1778, 0.004769760606167306), (3177, 0.004769594157351973), (2829, 0.004768502087050195), (2162, 0.004764669008098375), (458, 0.0047643080207980595), (3425, 0.004764156844671705), (1184, 0.0047637561512179055), (4327, 0.004762999692078351), (1383, 0.0047612118742621995), (1898, 0.004760439848458992), (274, 0.004757860852072313), (2666, 0.004755728842078742), (3506, 0.004754762569444996), (409, 0.004754127556245626), (2638, 0.004751496474073035), (4575, 0.004750808834978963), (533, 0.004750677311936435), (1973, 0.004748524929772428), (1073, 0.004747919780181656), (1642, 0.0047471770409002936), (1368, 0.004746442955195837), (4160, 0.0047460643053106), (3246, 0.004744276934334653), (4272, 0.004743499476836727), (4650, 0.004742732667618645), (3962, 0.004740656095241011), (3232, 0.004740345045907648), (1877, 0.004737418568717785), (1327, 0.0047358399583703765), (3450, 0.00473559773126716), (2705, 0.00473501110216609), (4092, 0.004733353528334774), (2888, 0.004731943206289839), (546, 0.0047316430239720915), (3148, 0.004731322172194406), (2327, 0.004729652613742184), (2992, 0.00472841491405238), (1023, 0.00472742835013068), (1992, 0.004725034643680849), (107, 0.004723915281781578), (3827, 0.004721595929919432), (3640, 0.00472123709193468), (2971, 0.004720072652101651), (45, 0.004719242838642073), (345, 0.004718995057150467), (4087, 0.004717985428073445), (2093, 0.004717588873552903), (984, 0.00471617996702977), (443, 0.004712842481549566), (4133, 0.004710101504781846), (1203, 0.004710043921410696), (1824, 0.004708986096086821), (4535, 0.004707678247154138), (857, 0.004705886540733946), (701, 0.004704829953490853), (2424, 0.00470386726804698), (2962, 0.004703190148826619), (2176, 0.004702273658476044), (1275, 0.004701652493570276), (1839, 0.004701519236125623), (2943, 0.004701312264553106), (3589, 0.004700699732895935), (53, 0.004699473744737213), (185, 0.004698505437297676), (2400, 0.004698410416837968), (1291, 0.0046983486478076155), (1788, 0.004696368920955388), (4325, 0.004693026334452506), (1746, 0.0046922288813869605), (1968, 0.0046914912834072), (4593, 0.004691370303063972), (739, 0.004691326969850333), (3116, 0.004685768532874073), (73, 0.004685577934398611), (4130, 0.00468537628358689), (4657, 0.004685083880077167), (208, 0.004683135394166914), (1487, 0.004682736552174402), (3127, 0.004682578630627492), (2915, 0.004682572561110803), (4174, 0.004681707656581956), (3893, 0.004679825677573424), (1833, 0.004678580108284302), (3391, 0.004677522898813892), (2903, 0.004677027750059899), (2840, 0.004676718582982229), (3633, 0.004675701633951982), (311, 0.004674349146623615), (62, 0.004673262090717186), (3736, 0.00467231371757986), (367, 0.004671857516219058), (4699, 0.004671353771521181), (3960, 0.0046708834184295495), (1787, 0.004670183764293637), (4101, 0.004667350430885847), (214, 0.0046649273684156315), (2099, 0.004664827693551946), (1899, 0.004663217247893469), (3196, 0.004662224414439929), (1924, 0.004662079998941473), (2579, 0.004659852293790416), (2560, 0.004659513702076601), (576, 0.004659455034827436), (3842, 0.004659098262757537), (2170, 0.0046581902223187645), (3267, 0.004657771030158354), (1310, 0.004654148869983814), (3395, 0.004652722749893364), (4507, 0.004650393670207144), (3797, 0.0046496225563066726), (1468, 0.004648641961492716), (3618, 0.004647298829268635), (632, 0.004645937971691971), (1482, 0.004645579442689131), (3417, 0.004645348579326312), (587, 0.004645315615956593), (4138, 0.004645234289965542), (1974, 0.004645003935611422), (1323, 0.0046449838681060325), (2497, 0.004644795703620284), (716, 0.0046432715262866115), (4734, 0.004642615311340216), (48, 0.004641941450961488), (1119, 0.00464172882225931), (1349, 0.00464171228881278), (383, 0.004641008954719547), (3043, 0.004635812057414185), (1173, 0.004635095255271877), (876, 0.004634693074757677), (338, 0.004634200989586072), (1714, 0.004633600265317698), (12, 0.004633526451451086), (2225, 0.004631742644217303), (916, 0.00462823400539212), (623, 0.004625769040103972), (2436, 0.004625710598196234), (14, 0.00462526163810293), (3867, 0.0046220440115890575), (4624, 0.004621616617405538), (3037, 0.004619080391756894), (1521, 0.004613692907859553), (2214, 0.004612700577914353), (3941, 0.0046118694434888535), (1982, 0.004611708523618129), (967, 0.004611416154594019), (2854, 0.004611134135025859), (1474, 0.004608518628396894), (3902, 0.0046080879113762655), (2097, 0.004607216364065907), (4116, 0.004607097041140301), (2608, 0.00460641815451466), (1141, 0.004606191087504021), (2159, 0.004605781499402648), (1716, 0.004605525072042557), (4237, 0.004604502023127038), (3813, 0.004604357353531838), (2555, 0.004603409514667565), (4187, 0.004603038241097815), (417, 0.004602640896193433), (1528, 0.004602296167616426), (4098, 0.004601145499638177), (4024, 0.004600386209181971), (8, 0.004600350891637774), (3859, 0.0046003466610771634), (1025, 0.004597605296945845), (4528, 0.0045972013228656305), (3273, 0.004595989463793446), (2236, 0.004595546568704688), (1157, 0.004594804845700444), (1038, 0.004593745842196426), (2361, 0.0045931337903059605), (3923, 0.004592199003870648), (688, 0.00459199213971631), (3749, 0.004590877804311974), (3873, 0.004590113541643788), (4625, 0.004587580537967815), (1798, 0.004587253383668671), (1997, 0.004586840095133956), (3694, 0.004585983790119463), (745, 0.004585048699156997), (2043, 0.00458485686193048), (3244, 0.00458423456681555), (3865, 0.004583415701122926), (3920, 0.004581921208583456), (210, 0.004577079013976867), (2426, 0.004576965757165858), (4330, 0.004576809865056969), (3238, 0.004576660243869508), (2830, 0.004574153941357706), (4018, 0.004572469385206443), (3924, 0.004569437550638745), (1903, 0.004567713379906687), (2770, 0.004566601206005859), (4104, 0.004566086386061162), (1897, 0.0045650158220637855), (729, 0.0045648075797722724), (820, 0.004563898071664577), (3112, 0.004562396882875873), (1905, 0.004561496513765725), (481, 0.0045599559310531244), (3862, 0.004558528697905732), (612, 0.004558371048268963), (2874, 0.00455801415893984), (3780, 0.004557870212113333), (4014, 0.004556664062506059), (1715, 0.004556457482543896), (3704, 0.004556428990187193), (2389, 0.004556039256849292), (1397, 0.0045545063828221445), (3411, 0.004552959658989708), (2264, 0.004548340427726341), (1896, 0.004547908205449406), (2262, 0.004546551649610221), (1987, 0.004545712380314424), (888, 0.004545463257372629), (1567, 0.004545283376122037), (3692, 0.004544831869819066), (3915, 0.004544651588328322), (1008, 0.004544036406891631), (4627, 0.004543873169534761), (2289, 0.004543047341151902), (4520, 0.004541143178009118), (1784, 0.004540510174195569), (2058, 0.004539389343999454), (3598, 0.004538820925598775), (3904, 0.004538517333431477), (41, 0.00453813514825336), (885, 0.004538074483525212), (206, 0.004537316038988057), (4249, 0.004531294453433254), (2522, 0.004530671497503514), (4426, 0.004530456442230899), (2040, 0.00452929152577851), (1687, 0.004527571913375056), (4419, 0.004527136492033392), (1684, 0.0045253212649088255), (3485, 0.004524626466178245), (1907, 0.004523566441313959), (1866, 0.0045232284054705935), (1685, 0.004522045631830361), (3231, 0.004520419472801193), (3406, 0.004518637727454504), (3235, 0.004517845549173165), (3527, 0.0045172131302057975), (120, 0.004514976241922332), (2112, 0.004514314634073913), (2146, 0.004511804243640517), (2821, 0.004511288866323276), (371, 0.004510988087289067), (534, 0.004510745205729843), (2007, 0.004509813288638831), (664, 0.004509602294268119), (978, 0.004508423520186246), (1570, 0.004507670377096756), (4401, 0.004506775266477784), (278, 0.004506478246317562), (4722, 0.004503654727129815), (4046, 0.004503216373685302), (4643, 0.004500540903559257), (1348, 0.004496968878562538), (898, 0.004493756132815462), (1916, 0.004493397144089575), (342, 0.0044918842902175625), (1652, 0.004491368790535285), (1703, 0.004490339756564336), (4519, 0.004489106127578146), (3959, 0.004488575134920259), (673, 0.00448803133664007), (4286, 0.00448801637019312), (450, 0.004487842532083692), (1188, 0.0044849356940301266), (227, 0.004483678932362738), (2344, 0.004481925135407988), (1182, 0.00448080453182856), (4231, 0.0044796972447128545), (2161, 0.004478723821903174), (4601, 0.004478197815449864), (4371, 0.004477957411407328), (1249, 0.004477872450058194), (1350, 0.004476840381240234), (3210, 0.004476761454876847), (986, 0.0044759383398479905), (2714, 0.004475880774081446), (1312, 0.004474593208029986), (2168, 0.004474039250860332), (68, 0.00447314813018119), (2439, 0.00447299706386591), (3063, 0.004472393474947551), (774, 0.004472390383432834), (4123, 0.004472164505633585), (493, 0.004471151060349608), (1225, 0.004470962087153404), (2911, 0.004470111106954551), (4191, 0.004470030929903757), (2016, 0.004466284598254514), (74, 0.004465779897440154), (3437, 0.004465405269369945), (4517, 0.004465319715369859), (2104, 0.004464145368214514), (3771, 0.004461967397165235), (3374, 0.004460801997779827), (2088, 0.004458601591041324), (3933, 0.004457160498590544), (2477, 0.004455998788466647), (4430, 0.004455467461060547), (2053, 0.0044542088559940485), (3748, 0.004451342088908652), (728, 0.00445026458495417), (865, 0.004448908607024422), (970, 0.0044476676996812), (34, 0.0044471534277501085), (3511, 0.0044467211534993615), (1571, 0.004446064976983611), (3075, 0.0044456087186354725), (991, 0.0044454618000573706), (2048, 0.004442329685563755), (792, 0.0044417299335459), (1960, 0.004441380484937908), (472, 0.004440839969551143), (4005, 0.004438550518212965), (1324, 0.004433507214969128), (3914, 0.004433355641617142), (584, 0.004433332672562392), (4501, 0.004432990510402973), (1569, 0.004432291364745506), (470, 0.004431716278877942), (3612, 0.004431302647938524), (2712, 0.004429555575786592), (4629, 0.004428310255950462), (629, 0.004426589383518484), (4470, 0.004426195906155627), (3086, 0.004425910800601478), (497, 0.0044229579634113125), (564, 0.004420405243908374), (1876, 0.004419374439002316), (482, 0.004418942820478718), (836, 0.004418765824862966), (2105, 0.004417840160473796), (1853, 0.004416210748213139), (3777, 0.004415125928141698), (192, 0.004415025118405096), (4379, 0.004413923011609145), (429, 0.004413238607104532), (3353, 0.004412995567110063), (2270, 0.00441226163614237), (1229, 0.00441213324319324), (4033, 0.004411452343297647), (952, 0.004410192990755933), (930, 0.004410001473215065), (3326, 0.00440888755279026), (255, 0.004408568225983709), (3314, 0.004408438922326339), (2037, 0.0044050573854257325), (844, 0.004402934303795475), (2798, 0.004402030253248348), (178, 0.004401921070518563), (2609, 0.004401629697671135), (1850, 0.004401547976982925), (3856, 0.0044004616822433135), (3623, 0.004400308433133792), (2820, 0.004397132320624145), (1465, 0.004394300622753243), (2894, 0.0043935820173774225), (2988, 0.004393346640360523), (2277, 0.004392239436615417), (743, 0.004391597944692215), (4200, 0.004391298157465737), (4573, 0.004391238427140375), (1071, 0.00438915861094856), (3654, 0.004387785139447523), (3227, 0.004387274209792032), (2919, 0.004386564208081023), (2083, 0.004384040518852011), (91, 0.004383717493622583), (538, 0.004382657941059733), (1946, 0.004382122814927601), (1400, 0.004380139746369549), (2688, 0.00437952758749212), (23, 0.0043791596263006586), (1643, 0.004378161466513636), (2386, 0.004377372508606501), (4566, 0.004376829150184259), (2001, 0.004376441468635741), (1194, 0.004376293604303358), (545, 0.00437518357157279), (11, 0.004375144291250412), (2091, 0.0043736356215069), (1006, 0.004372841954987255), (3233, 0.004372391095055083), (3643, 0.004370157620231197), (204, 0.004369633244648657), (51, 0.004369317393546397), (3809, 0.004367601731956048), (543, 0.004363694248588783), (1015, 0.0043629188627288835), (652, 0.004360855924091875), (1140, 0.004360763944584026), (2913, 0.0043599047203645835), (2910, 0.004359364477542734), (1619, 0.004356972668883904), (3666, 0.004356111509098968), (430, 0.004355694518858157), (3241, 0.004353880306614995), (3551, 0.004352505334226421), (1475, 0.004352135746040368), (216, 0.004352002322967469), (4336, 0.004351854145187822), (4056, 0.004351576625848387), (783, 0.004348358473097676), (3624, 0.0043473952198512565), (3153, 0.004346571972122655), (4668, 0.0043462039960584994), (622, 0.004342900831559936), (1083, 0.004337639007353939), (580, 0.0043356029935104025), (871, 0.0043351854670854685), (3526, 0.004333865241692241), (3516, 0.0043329510573950365), (2405, 0.0043320503190602275), (1122, 0.004329583111852641), (2878, 0.00432791513236513), (1942, 0.004325821420515556), (3483, 0.004323531427655813), (2331, 0.004321322289043199), (2393, 0.004319441830058194), (3542, 0.004318993701118044), (4025, 0.004316970655571912), (1413, 0.004316910408579042), (86, 0.004315586549783283), (1645, 0.004315221227970686), (3674, 0.00431499122999607), (3653, 0.004314054852385977), (4016, 0.004313981848921213), (3778, 0.0043137617670213945), (4334, 0.004309528249648759), (2668, 0.004308155167621124), (3564, 0.004307914555754509), (2934, 0.004307624251815057), (1176, 0.004305626455678869), (4563, 0.004304025743503146), (175, 0.004303416146287335), (1115, 0.004302893464661093), (588, 0.004302359214221066), (3125, 0.004302333295206891), (1212, 0.004302227106460915), (1931, 0.0042993454261630055), (1223, 0.004296146308404675), (3684, 0.004296096258704283), (4533, 0.004295727669817036), (2295, 0.004293639970484818), (964, 0.004293431322235143), (4178, 0.004292067211710208), (502, 0.0042910893253635595), (3707, 0.004289896114305083), (71, 0.004288532745237775), (2489, 0.0042882645317799594), (1131, 0.00428634678790069), (193, 0.0042845534259352315), (3559, 0.004283903258788853), (794, 0.004283540154946415), (1179, 0.004280861893036092), (644, 0.004278962394823473), (4284, 0.0042779346328053365), (980, 0.004274839179612026), (87, 0.004273922291674862), (3727, 0.004273177645538956), (4266, 0.004270624326477341), (1019, 0.004268298919800779), (1985, 0.00426690890820267), (3917, 0.0042667492385058065), (660, 0.004265772428925456), (1192, 0.004264082529762471), (1214, 0.004263290703257899), (1967, 0.004260046736581483), (897, 0.004259899189215197), (4744, 0.004258743120844316), (1163, 0.00425831035553402), (464, 0.004255785345452497), (3658, 0.004254753224717928), (406, 0.0042538744852768234), (755, 0.004252071273576062), (270, 0.0042517584403964385), (2632, 0.004251696711874932), (862, 0.004251553469461688), (1983, 0.004251379811792695), (637, 0.004250418918173159), (3436, 0.004250181227110774), (4255, 0.004249132506633498), (1077, 0.004248663572752722), (2364, 0.004248563790255091), (1252, 0.004247820920559776), (509, 0.004247441266900493), (2321, 0.004247387373974096), (3807, 0.00424560190358163), (2155, 0.0042421715444379325), (3330, 0.004241039503351841), (387, 0.00423992666608957), (280, 0.00423913760490157), (1453, 0.00423907881373112), (3799, 0.004238612896030941), (1523, 0.004238588205408344), (2946, 0.0042362885991702424), (3445, 0.00423558798318949), (1717, 0.004235122322795436), (726, 0.0042345015182237876), (2695, 0.0042324856009794175), (1020, 0.004232164947448849), (2887, 0.004231265421195116), (2961, 0.004229195511794261), (1740, 0.004228064573315393), (198, 0.004227934847383777), (2279, 0.004227356218241781), (832, 0.004224354845636304), (3268, 0.004223762087144644), (2745, 0.004222979029665274), (2606, 0.004222513782945305), (1317, 0.004221916047996963), (2652, 0.004221879519363007), (2647, 0.004221801465365647), (2018, 0.00422059872752339), (2073, 0.004219837279374955), (3036, 0.004218939157686349), (1175, 0.004218119608256855), (2212, 0.0042171825957273345), (2169, 0.004216661058150566), (2313, 0.004215780167685545), (1075, 0.004215150124746369), (3346, 0.0042134752688774224), (1629, 0.004213241472701974), (1678, 0.004212611618331713), (1268, 0.004212002817391983), (3430, 0.00421078768999097), (3435, 0.004210536350620013), (1160, 0.0042102775742008935), (1017, 0.004209729551213702), (1781, 0.004209602732157946), (3541, 0.004207259260738888), (4640, 0.004206705285202218), (2784, 0.004206149176519424), (3067, 0.004204930373545425), (1191, 0.004203623376738388), (1300, 0.004203537453179116), (1102, 0.004203397128742771), (5, 0.004200124767755249), (1768, 0.004199052702311406), (693, 0.004198122921360365), (1334, 0.004197805338167216), (864, 0.004195927222473815), (4283, 0.004195425232819574), (4268, 0.004194316459065596), (1969, 0.004192815681640921), (19, 0.00419268286422644), (749, 0.004192282869965943), (698, 0.004190752518644914), (2665, 0.004190640320088722), (1367, 0.004189597062790153), (1671, 0.004189188567676965), (3492, 0.004188732813868237), (437, 0.004188679466710078), (1653, 0.004185782574278907), (4068, 0.004185654064318688), (1035, 0.004185610203673906), (806, 0.004185132056763475), (1730, 0.004183973941025844), (769, 0.0041820744595679644), (2045, 0.0041818368501747505), (1222, 0.004181554206634502), (353, 0.004181149750762926), (4053, 0.004173685622130606), (1378, 0.004171307766641846), (370, 0.004170478859464766), (2226, 0.004167477809272904), (750, 0.004165333939313719), (490, 0.004164761841905301), (2061, 0.004164703686836033), (1341, 0.004164517372942335), (2008, 0.004162365039125193), (4183, 0.00416171829864982), (3876, 0.004160366351472076), (2980, 0.004157915356285663), (3811, 0.004157711511738796), (4511, 0.004157317537796776), (3237, 0.004156935624686242), (1882, 0.004156780229057523), (628, 0.004156391082511378), (2027, 0.00415563319800862), (2024, 0.0041543010288725354), (4503, 0.004153943873996633), (2362, 0.004153481596935426), (1620, 0.0041529062398656625), (1706, 0.004152421298629257), (786, 0.004152327280855971), (1138, 0.004152122123300448), (4487, 0.004150882579404675), (1472, 0.004150122112495287), (4362, 0.0041499504687173595), (1313, 0.004148816418976257), (2121, 0.004147492929590731), (4670, 0.004145475458206023), (104, 0.004143702485833492), (2808, 0.00414367608155491), (3557, 0.004143671871199395), (3739, 0.004143559116159268), (3171, 0.0041431278026399935), (400, 0.004142300447925109), (2831, 0.004142092984851859), (3784, 0.004140828027048644), (109, 0.004139756262053745), (1320, 0.004139736039695438), (4137, 0.00413641687110443), (1257, 0.004132965428536629), (3195, 0.0041324816836554165), (1891, 0.004131241785419748), (799, 0.004130420789244463), (691, 0.004129975573055688), (3151, 0.00412978332712647), (79, 0.0041284472879173865), (2593, 0.004126331189355804), (348, 0.004125824442689811), (2779, 0.004123325903306451), (2174, 0.0041226886939014435), (4309, 0.0041213062114849935), (4530, 0.004118269217753932), (2250, 0.004118030972424999), (2612, 0.0041179036236439984), (689, 0.004117553093981145), (2716, 0.004116536359728349), (2965, 0.0041159829638596325), (2210, 0.004114587349080503), (1421, 0.004114474268040563), (966, 0.0041137179876826946), (112, 0.004113569484638813), (282, 0.004112997357729718), (4020, 0.004112912501572735), (4475, 0.004112821515338809), (1123, 0.004111690836765423), (2886, 0.004111173971690835), (1161, 0.004110366812525333), (1892, 0.004109947434752322), (1247, 0.0041099129827760535), (727, 0.004108068486802126), (1027, 0.004107670416068103), (2558, 0.004105317144312766), (1248, 0.004103869482180903), (3487, 0.004103231982765237), (4189, 0.004099810499424925), (1666, 0.004099469510761226), (522, 0.0040991911445151675), (2103, 0.004097062099187595), (1558, 0.004095772010059905), (1021, 0.004095380798891236), (2496, 0.004095300786821375), (1710, 0.004094963474914578), (1044, 0.0040917138640949435), (2430, 0.00408949231495551), (4394, 0.00408948171285276), (1676, 0.004089240598822465), (2102, 0.004088326430367476), (1245, 0.004086896235130958), (870, 0.004086808148577297), (343, 0.00408597992314145), (988, 0.004083061111755558), (29, 0.004080708027595553), (126, 0.0040802169716102335), (2069, 0.004079300267091073), (374, 0.0040791472480263755), (651, 0.004078779153328266), (3498, 0.004076226365827297), (3433, 0.004073751235706186), (854, 0.004073259765735346), (962, 0.0040732078293542785), (989, 0.0040707942416806095), (3819, 0.004069789401336761), (2907, 0.004069327756048301), (1060, 0.004069173761767415), (3953, 0.004068969762225153), (2634, 0.004068413069733851), (358, 0.0040681964628990555), (4673, 0.004067460891423561), (1446, 0.004066903869578012), (85, 0.004064908220943349), (818, 0.004064721009350423), (1597, 0.004064455332275388), (3734, 0.0040639282400552505), (2777, 0.004063918901795835), (3696, 0.004063097645491712), (1628, 0.004062401790990526), (4345, 0.004062279320943922), (2995, 0.004061980410548891), (4011, 0.004059591910949399), (2540, 0.004058021200892033), (838, 0.004057949823693966), (1667, 0.004056817310513416), (578, 0.004056556504236973), (61, 0.0040561734651460716), (1510, 0.00405378016219321), (3706, 0.004052551229230827), (3407, 0.004052337260788153), (3898, 0.004052051220377878), (1782, 0.004049717716559201), (1030, 0.004048520842626208), (676, 0.004047771718604997), (1883, 0.004046165687452035), (3379, 0.00404601125741259), (3558, 0.004045230927662371), (2646, 0.004044511968434614), (880, 0.00404418810659982), (1813, 0.004043890745374008), (4152, 0.004040575897502737), (221, 0.004037238372417912), (3298, 0.004036507092284725), (127, 0.00403590064096294), (2674, 0.004035224897761905), (2473, 0.004032892590616179), (1481, 0.004031287145001406), (878, 0.0040308398136003785), (757, 0.004030523881468742), (2117, 0.004029862379619456), (3014, 0.0040294977409222775), (1132, 0.004029491305027809), (1665, 0.004027983922807817), (421, 0.0040276021800986096), (4085, 0.004025968174036064), (488, 0.004023181472537155), (2528, 0.004022678657999221), (4591, 0.004021403962990301), (2556, 0.004020813800043963), (3293, 0.004020615553007411), (4154, 0.004019450789408766), (4536, 0.004015023271006479), (4205, 0.004013651237561457), (1796, 0.0040121912543896595), (1183, 0.004009019610335983), (643, 0.004008985595214971), (798, 0.004008454658024266), (1864, 0.004007985362688598), (3826, 0.004007842546801), (1001, 0.004007580807122526), (471, 0.0040062380871620515), (1819, 0.004003556730518927), (1385, 0.004000879337082757), (388, 0.004000618594114872), (276, 0.003999927959695126), (4658, 0.003999097019209064), (2004, 0.003998783476147215), (3240, 0.0039959750931370585), (2859, 0.003995861276035864), (3399, 0.0039957686363720785), (1177, 0.0039938249641049755), (866, 0.003992321037424063), (2743, 0.003992080877364697), (2892, 0.003992007994779996), (116, 0.003991455702566117), (132, 0.003990500950447057), (3300, 0.00399021659825397), (4472, 0.003989902016680479), (1478, 0.00398817015391818), (4382, 0.00398809156380157), (52, 0.003987047769098061), (1220, 0.003982249372229359), (3028, 0.0039799392914989405), (1695, 0.003979430164948926), (1255, 0.003979348120448461), (408, 0.00397777526204908), (4282, 0.0039770292140944175), (1034, 0.00397655836048935), (2023, 0.003974121312033543), (3974, 0.003970842164404451), (31, 0.003969511066173069), (3278, 0.003969152013462584), (82, 0.003967544589148199), (2482, 0.00396597281740875), (4502, 0.0039657928934228245), (926, 0.003964875484974987), (2862, 0.003964322675326634), (96, 0.003962775726114476), (1884, 0.00396228726856782), (1514, 0.00396211711653416), (372, 0.003958026506115999), (655, 0.0039569868237475814), (1608, 0.003954036101440677), (2143, 0.003953991302873678), (4374, 0.0039528602561177744), (742, 0.00395241667135748), (3669, 0.003951093513121647), (236, 0.003948025479662084), (4479, 0.003946935048093993), (2800, 0.003944754531657962), (1375, 0.003943553150580103), (4638, 0.003942985779590246), (434, 0.00394266646334566), (1206, 0.003941964266947554), (355, 0.00394079793363116), (4523, 0.00393962287848466), (2453, 0.003939006479764705), (659, 0.003938607823633009), (972, 0.0039381716475484765), (2347, 0.003938022025856113), (1009, 0.003935683761171162), (1041, 0.0039343561473157386), (594, 0.003933952386404708), (734, 0.003933174143238639), (963, 0.003933165923432861), (1682, 0.0039330505625574195), (359, 0.003932562029762306), (2899, 0.0039322421287346), (900, 0.003932077984655398), (18, 0.003931947508272941), (121, 0.003931400383989745), (1357, 0.003930544084189739), (4176, 0.003929807595154128), (3460, 0.003926111840983926), (111, 0.003925312701213413), (2598, 0.003924656538731125), (92, 0.003923320983317635), (3342, 0.003922846745781081), (2920, 0.003919650106699279), (252, 0.003919076979890428), (1065, 0.0039174795752768485), (3614, 0.003915704160937276), (3954, 0.003914967745260516), (886, 0.003913921923626656), (3854, 0.003912921141179392), (2457, 0.00390880904290543), (608, 0.003908529833438222), (200, 0.003906263775299975), (2224, 0.0039057649936485783), (3574, 0.0039029307802023144), (1052, 0.0039025353306176946), (32, 0.0039022169491596797), (369, 0.0038994371443670612), (934, 0.0038876784489040397), (2803, 0.0038848252429712674), (4350, 0.0038825825632526055), (4712, 0.0038822807693114033), (218, 0.003881131708491347), (1605, 0.00388083931613014), (1079, 0.003880164296619114), (465, 0.0038754805544211294), (1209, 0.0038742130562577685), (669, 0.003874168125842329), (3705, 0.0038696142532630195), (307, 0.0038681058853045533), (1462, 0.0038680995101132484), (3755, 0.003866431215954702), (590, 0.0038662377502494574), (3120, 0.0038638930854929298), (1739, 0.0038596096564880817), (2191, 0.003858868569031982), (136, 0.0038584978085844392), (563, 0.003857968567324636), (910, 0.0038575423268651025), (1675, 0.0038549962396190796), (124, 0.0038533900360611267), (1000, 0.003852886882392872), (428, 0.003852128423728554), (3284, 0.0038517956471787527), (1595, 0.0038451009391801978), (1273, 0.0038423488432883252), (638, 0.003841830316595001), (183, 0.003840893880438146), (3742, 0.0038383605058726726), (968, 0.003837641926670233), (2031, 0.0038370044202388418), (1875, 0.003836210719082395), (15, 0.003832647695224629), (3801, 0.003832455061971173), (184, 0.003831436487209625), (495, 0.003826927565851751), (744, 0.003825886862947452), (4429, 0.0038242524765079522), (4141, 0.0038222045270454833), (3634, 0.0038216279228664805), (1627, 0.003819643710064323), (199, 0.0038190420002857228), (2931, 0.003817921984323193), (1565, 0.003816274294899221), (1865, 0.0038157830860788833), (3318, 0.003815277916292113), (1869, 0.003811521869758082), (1219, 0.003810924034140916), (3913, 0.0038091896175621483), (286, 0.0038083304658872883), (1763, 0.0038070884689282974), (457, 0.003804680825233128), (2055, 0.003804522596405055), (410, 0.0038041411595985987), (1080, 0.0038036143321773376), (3655, 0.0038028890975249866), (604, 0.0038004207580125383), (2611, 0.0037976948139143984), (981, 0.003795315713540607), (936, 0.00379525303749248), (2011, 0.003792766009783111), (3880, 0.0037927239696187386), (3956, 0.0037922986285117634), (2502, 0.0037914078226717767), (149, 0.0037900422849666262), (1920, 0.003787622722801586), (463, 0.00378753123856153), (2771, 0.003786418846246735), (722, 0.0037847077509708133), (1964, 0.0037839025631934624), (1762, 0.0037792532419158955), (3474, 0.0037774871373740648), (2338, 0.0037731850357676914), (3637, 0.0037699087475156685), (2724, 0.003767626003713946), (364, 0.0037619375381263004), (519, 0.003760699413177604), (3327, 0.003756835152971501), (815, 0.003756466908679752), (3569, 0.003756184495293429), (267, 0.0037561149996345414), (147, 0.0037559555870828325), (33, 0.0037555767179518577), (1977, 0.0037512660672504865), (1136, 0.00375087140879419), (1764, 0.0037491892633112573), (1362, 0.003745407966872097), (3065, 0.003744441607025176), (1186, 0.003744361458684099), (672, 0.003744127253556422), (2520, 0.0037421089520626883), (1971, 0.003742022589611188), (1352, 0.0037419524170474064), (4074, 0.00374193242619821), (1290, 0.003740813591769764), (1237, 0.0037407877454094084), (657, 0.003739086254621405), (800, 0.0037357255768405077), (2602, 0.00373305394636198), (1050, 0.003732619606267762), (705, 0.00373021998108064), (1153, 0.0037277947505052894), (4247, 0.0037245971612825273), (1387, 0.0037194856403874274), (251, 0.003717536507295926), (2976, 0.0037160240828787777), (3928, 0.0037152910413626203), (222, 0.0037149463277941362), (2065, 0.003714434982394634), (808, 0.003703836290315826), (242, 0.003703513812726149), (480, 0.0037031930984152976), (3403, 0.003700463361293262), (3895, 0.0036991150295906383), (1414, 0.0036953675283241745), (2975, 0.0036951784632687796), (194, 0.0036950023809925983), (4733, 0.003694614481510171), (3556, 0.00369398589409398), (4590, 0.00369393800476776), (3657, 0.0036860246959435077), (3111, 0.003683435235314316), (2692, 0.0036774527454647935), (97, 0.003676452223972531), (816, 0.0036758514903506515), (496, 0.003675554394876306), (4411, 0.0036725471634035476), (733, 0.003660148947638681), (3254, 0.003658819033884543), (16, 0.0036578245544735513), (4151, 0.003656851957774598), (3331, 0.0036546206298935157), (165, 0.003654193150458399), (403, 0.0036497208375304863), (3096, 0.0036491430497055735), (190, 0.0036458080742285282), (3409, 0.003645360991804894), (611, 0.003642575361205631), (4311, 0.003639131794309304), (1215, 0.0036364531589824075), (566, 0.0036297896503993767), (732, 0.003625762050488704), (1241, 0.0036250658218050843), (861, 0.0036250074226848103), (2412, 0.003624883503963838), (3421, 0.0036234136234813857), (4626, 0.0036221352151185903), (2447, 0.0036196156912089643), (3471, 0.003619570171171012), (2355, 0.0036192173874450917), (1365, 0.0036100074726893344), (4344, 0.003608565519095357), (3927, 0.0036082904755916027), (269, 0.0036076814369102876), (1377, 0.0036036619417713564), (3200, 0.00359940381244504), (2814, 0.0035991679609648766), (1828, 0.003593037513516458), (2359, 0.0035928259443719223), (626, 0.0035924048966556143), (1415, 0.003592017205373148), (2969, 0.003590373576541346), (3056, 0.003589610659350929), (4095, 0.003587375203196615), (3301, 0.003584211438502122), (2034, 0.0035793101865825854), (924, 0.0035760232923301937), (44, 0.0035751169107948967), (547, 0.0035751009068219447), (2070, 0.003573095455141937), (1707, 0.0035730791350733655), (2127, 0.0035719468984243144), (2035, 0.0035710951682475004), (3347, 0.0035629467098286034), (63, 0.003562149590367045), (2132, 0.0035615160327161378), (1202, 0.003559659626209945), (2526, 0.0035570905931880145), (2761, 0.0035570592491759455), (3855, 0.003552439620458824), (1743, 0.0035520746139552756), (142, 0.0035463530790533072), (4610, 0.0035433670210237556), (3756, 0.003540841552971939), (3344, 0.0035395223633710414), (2563, 0.0035349882543532886), (3024, 0.003531058155434547), (1356, 0.003525069481606244), (1845, 0.003520198341925188), (1624, 0.003519869903474954), (1950, 0.0035182029838707316), (2039, 0.0035141405622066803), (719, 0.003508732438577434), (3091, 0.0035068109841531977), (3645, 0.0034969743937583527), (616, 0.0034922443273298536), (2697, 0.003491034629696105), (1305, 0.003489748551908008), (3317, 0.0034736945782563467), (2010, 0.003470873740254337), (1886, 0.0034494474522671747), (2844, 0.0034405357709434725), (2000, 0.0034384090746113678), (433, 0.0034310584166452568), (453, 0.0034295194895139084), (309, 0.0034216227211705183), (1989, 0.0034146574922944623), (1303, 0.003404798813750024), (4674, 0.0034016308279551924), (609, 0.003401160660293581), (4182, 0.0033981008869741363), (953, 0.003386667871325672), (2917, 0.003372829109021227), (407, 0.0033714813741622792), (2474, 0.003366005450161332), (2766, 0.003354482466466781), (256, 0.0033539001509297612), (1005, 0.0033379789160909467), (3199, 0.0033376667830185896), (1747, 0.003322088407184591), (2767, 0.0033192672724136783), (1417, 0.003310120029378958), (571, 0.003305735711557415), (224, 0.003304327871313799), (296, 0.0032980471893378593), (3316, 0.003294033457554424), (607, 0.0032792078535354334), (684, 0.0032770270756483856), (3983, 0.003247343286574368), (1774, 0.0032405488067865757), (266, 0.0032405363458875122), (1648, 0.003237231100746743), (452, 0.003230528469218986), (228, 0.0032125153844899126), (641, 0.0032102921803013064), (1471, 0.003200576158370973), (3546, 0.0031739030957005686), (7, 0.0031684565064250643), (831, 0.003161704325255487), (2550, 0.0031564994860871953), (1306, 0.003093789832002305), (1351, 0.0030805851659823466), (542, 0.003070442835649739), (3365, 0.003036245541107527), (4171, 0.003010194238208085), (4752, 0.003005575382733047), (283, 0.002999418991972354), (858, 0.0029567037281204548), (330, 0.002946572663233792), (2443, 0.0028504673709401386), (3835, 0.0027623464846451814), (3328, 0.002753770682538495), (787, 0.0026418036535008974), (475, 0.0015170328823406183), (0, 0.0), (2, 0.0), (4, 0.0), (6, 0.0), (9, 0.0), (10, 0.0), (13, 0.0), (20, 0.0), (24, 0.0), (26, 0.0), (27, 0.0), (30, 0.0), (35, 0.0), (36, 0.0), (37, 0.0), (39, 0.0), (43, 0.0), (47, 0.0), (54, 0.0), (55, 0.0), (56, 0.0), (57, 0.0), (58, 0.0), (59, 0.0), (64, 0.0), (65, 0.0), (67, 0.0), (69, 0.0), (70, 0.0), (72, 0.0), (75, 0.0), (76, 0.0), (77, 0.0), (78, 0.0), (80, 0.0), (88, 0.0), (89, 0.0), (90, 0.0), (93, 0.0), (94, 0.0), (95, 0.0), (98, 0.0), (99, 0.0), (100, 0.0), (101, 0.0), (102, 0.0), (105, 0.0), (106, 0.0), (108, 0.0), (117, 0.0), (118, 0.0), (122, 0.0), (123, 0.0), (128, 0.0), (130, 0.0), (131, 0.0), (133, 0.0), (135, 0.0), (137, 0.0), (138, 0.0), (140, 0.0), (143, 0.0), (145, 0.0), (148, 0.0), (150, 0.0), (151, 0.0), (152, 0.0), (155, 0.0), (159, 0.0), (160, 0.0), (162, 0.0), (163, 0.0), (164, 0.0), (167, 0.0), (168, 0.0), (170, 0.0), (171, 0.0), (172, 0.0), (176, 0.0), (177, 0.0), (179, 0.0), (181, 0.0), (186, 0.0), (189, 0.0), (191, 0.0), (196, 0.0), (201, 0.0), (203, 0.0), (205, 0.0), (207, 0.0), (209, 0.0), (213, 0.0), (220, 0.0), (223, 0.0), (226, 0.0), (229, 0.0), (230, 0.0), (231, 0.0), (232, 0.0), (233, 0.0), (234, 0.0), (237, 0.0), (239, 0.0), (240, 0.0), (241, 0.0), (244, 0.0), (247, 0.0), (248, 0.0), (250, 0.0), (254, 0.0), (257, 0.0), (259, 0.0), (260, 0.0), (261, 0.0), (262, 0.0), (265, 0.0), (268, 0.0), (272, 0.0), (273, 0.0), (275, 0.0), (277, 0.0), (281, 0.0), (284, 0.0), (285, 0.0), (287, 0.0), (288, 0.0), (289, 0.0), (290, 0.0), (293, 0.0), (294, 0.0), (295, 0.0), (297, 0.0), (298, 0.0), (299, 0.0), (300, 0.0), (301, 0.0), (302, 0.0), (303, 0.0), (304, 0.0), (305, 0.0), (306, 0.0), (308, 0.0), (310, 0.0), (313, 0.0), (314, 0.0), (315, 0.0), (316, 0.0), (317, 0.0), (320, 0.0), (321, 0.0), (322, 0.0), (323, 0.0), (324, 0.0), (327, 0.0), (328, 0.0), (329, 0.0), (332, 0.0), (333, 0.0), (334, 0.0), (335, 0.0), (337, 0.0), (339, 0.0), (340, 0.0), (341, 0.0), (347, 0.0), (352, 0.0), (354, 0.0), (360, 0.0), (366, 0.0), (375, 0.0), (376, 0.0), (378, 0.0), (379, 0.0), (380, 0.0), (381, 0.0), (382, 0.0), (384, 0.0), (386, 0.0), (389, 0.0), (390, 0.0), (393, 0.0), (394, 0.0), (395, 0.0), (396, 0.0), (397, 0.0), (399, 0.0), (402, 0.0), (412, 0.0), (414, 0.0), (420, 0.0), (422, 0.0), (423, 0.0), (424, 0.0), (425, 0.0), (426, 0.0), (432, 0.0), (435, 0.0), (438, 0.0), (439, 0.0), (440, 0.0), (444, 0.0), (445, 0.0), (446, 0.0), (447, 0.0), (451, 0.0), (460, 0.0), (466, 0.0), (468, 0.0), (469, 0.0), (476, 0.0), (477, 0.0), (478, 0.0), (483, 0.0), (484, 0.0), (485, 0.0), (486, 0.0), (487, 0.0), (489, 0.0), (491, 0.0), (492, 0.0), (499, 0.0), (500, 0.0), (501, 0.0), (506, 0.0), (511, 0.0), (513, 0.0), (514, 0.0), (516, 0.0), (517, 0.0), (518, 0.0), (523, 0.0), (525, 0.0), (526, 0.0), (527, 0.0), (530, 0.0), (535, 0.0), (536, 0.0), (537, 0.0), (539, 0.0), (540, 0.0), (541, 0.0), (544, 0.0), (548, 0.0), (549, 0.0), (550, 0.0), (552, 0.0), (553, 0.0), (555, 0.0), (556, 0.0), (557, 0.0), (559, 0.0), (560, 0.0), (561, 0.0), (565, 0.0), (567, 0.0), (568, 0.0), (569, 0.0), (570, 0.0), (572, 0.0), (573, 0.0), (574, 0.0), (577, 0.0), (581, 0.0), (585, 0.0), (591, 0.0), (592, 0.0), (593, 0.0), (595, 0.0), (597, 0.0), (599, 0.0), (600, 0.0), (601, 0.0), (602, 0.0), (603, 0.0), (610, 0.0), (613, 0.0), (615, 0.0), (618, 0.0), (619, 0.0), (620, 0.0), (621, 0.0), (624, 0.0), (625, 0.0), (631, 0.0), (634, 0.0), (635, 0.0), (639, 0.0), (640, 0.0), (645, 0.0), (646, 0.0), (647, 0.0), (648, 0.0), (650, 0.0), (656, 0.0), (658, 0.0), (661, 0.0), (666, 0.0), (674, 0.0), (680, 0.0), (681, 0.0), (682, 0.0), (683, 0.0), (685, 0.0), (686, 0.0), (692, 0.0), (694, 0.0), (695, 0.0), (700, 0.0), (704, 0.0), (709, 0.0), (710, 0.0), (713, 0.0), (714, 0.0), (715, 0.0), (717, 0.0), (723, 0.0), (724, 0.0), (725, 0.0), (730, 0.0), (731, 0.0), (738, 0.0), (747, 0.0), (748, 0.0), (753, 0.0), (756, 0.0), (762, 0.0), (763, 0.0), (765, 0.0), (766, 0.0), (767, 0.0), (771, 0.0), (772, 0.0), (775, 0.0), (779, 0.0), (782, 0.0), (789, 0.0), (790, 0.0), (791, 0.0), (797, 0.0), (801, 0.0), (802, 0.0), (803, 0.0), (805, 0.0), (809, 0.0), (810, 0.0), (811, 0.0), (812, 0.0), (814, 0.0), (817, 0.0), (819, 0.0), (821, 0.0), (822, 0.0), (823, 0.0), (825, 0.0), (827, 0.0), (828, 0.0), (829, 0.0), (833, 0.0), (834, 0.0), (837, 0.0), (839, 0.0), (841, 0.0), (845, 0.0), (846, 0.0), (848, 0.0), (853, 0.0), (855, 0.0), (868, 0.0), (869, 0.0), (874, 0.0), (875, 0.0), (881, 0.0), (882, 0.0), (887, 0.0), (889, 0.0), (891, 0.0), (892, 0.0), (893, 0.0), (895, 0.0), (899, 0.0), (902, 0.0), (906, 0.0), (909, 0.0), (911, 0.0), (913, 0.0), (915, 0.0), (917, 0.0), (919, 0.0), (920, 0.0), (921, 0.0), (922, 0.0), (928, 0.0), (932, 0.0), (935, 0.0), (943, 0.0), (949, 0.0), (950, 0.0), (954, 0.0), (955, 0.0), (956, 0.0), (958, 0.0), (960, 0.0), (965, 0.0), (976, 0.0), (977, 0.0), (979, 0.0), (992, 0.0), (993, 0.0), (994, 0.0), (995, 0.0), (997, 0.0), (1003, 0.0), (1004, 0.0), (1010, 0.0), (1012, 0.0), (1014, 0.0), (1016, 0.0), (1018, 0.0), (1028, 0.0), (1031, 0.0), (1033, 0.0), (1037, 0.0), (1042, 0.0), (1043, 0.0), (1045, 0.0), (1046, 0.0), (1048, 0.0), (1051, 0.0), (1054, 0.0), (1055, 0.0), (1056, 0.0), (1057, 0.0), (1058, 0.0), (1059, 0.0), (1062, 0.0), (1063, 0.0), (1066, 0.0), (1067, 0.0), (1068, 0.0), (1069, 0.0), (1070, 0.0), (1072, 0.0), (1076, 0.0), (1081, 0.0), (1082, 0.0), (1086, 0.0), (1087, 0.0), (1090, 0.0), (1091, 0.0), (1092, 0.0), (1093, 0.0), (1095, 0.0), (1097, 0.0), (1098, 0.0), (1101, 0.0), (1103, 0.0), (1104, 0.0), (1105, 0.0), (1106, 0.0), (1110, 0.0), (1111, 0.0), (1114, 0.0), (1116, 0.0), (1118, 0.0), (1120, 0.0), (1121, 0.0), (1125, 0.0), (1127, 0.0), (1128, 0.0), (1129, 0.0), (1130, 0.0), (1133, 0.0), (1134, 0.0), (1135, 0.0), (1137, 0.0), (1139, 0.0), (1143, 0.0), (1144, 0.0), (1146, 0.0), (1147, 0.0), (1148, 0.0), (1149, 0.0), (1150, 0.0), (1151, 0.0), (1152, 0.0), (1154, 0.0), (1156, 0.0), (1158, 0.0), (1159, 0.0), (1162, 0.0), (1164, 0.0), (1171, 0.0), (1172, 0.0), (1178, 0.0), (1180, 0.0), (1181, 0.0), (1185, 0.0), (1193, 0.0), (1195, 0.0), (1197, 0.0), (1207, 0.0), (1221, 0.0), (1226, 0.0), (1228, 0.0), (1233, 0.0), (1235, 0.0), (1236, 0.0), (1239, 0.0), (1240, 0.0), (1242, 0.0), (1244, 0.0), (1250, 0.0), (1253, 0.0), (1254, 0.0), (1258, 0.0), (1259, 0.0), (1262, 0.0), (1263, 0.0), (1265, 0.0), (1266, 0.0), (1269, 0.0), (1270, 0.0), (1271, 0.0), (1274, 0.0), (1276, 0.0), (1278, 0.0), (1279, 0.0), (1280, 0.0), (1281, 0.0), (1283, 0.0), (1285, 0.0), (1287, 0.0), (1288, 0.0), (1289, 0.0), (1293, 0.0), (1294, 0.0), (1295, 0.0), (1296, 0.0), (1299, 0.0), (1307, 0.0), (1311, 0.0), (1314, 0.0), (1315, 0.0), (1316, 0.0), (1321, 0.0), (1322, 0.0), (1326, 0.0), (1328, 0.0), (1332, 0.0), (1333, 0.0), (1342, 0.0), (1343, 0.0), (1346, 0.0), (1347, 0.0), (1353, 0.0), (1354, 0.0), (1355, 0.0), (1358, 0.0), (1366, 0.0), (1374, 0.0), (1376, 0.0), (1380, 0.0), (1381, 0.0), (1384, 0.0), (1386, 0.0), (1388, 0.0), (1389, 0.0), (1390, 0.0), (1393, 0.0), (1395, 0.0), (1396, 0.0), (1401, 0.0), (1402, 0.0), (1404, 0.0), (1406, 0.0), (1407, 0.0), (1412, 0.0), (1416, 0.0), (1418, 0.0), (1425, 0.0), (1426, 0.0), (1428, 0.0), (1430, 0.0), (1431, 0.0), (1433, 0.0), (1434, 0.0), (1435, 0.0), (1436, 0.0), (1437, 0.0), (1439, 0.0), (1440, 0.0), (1441, 0.0), (1443, 0.0), (1444, 0.0), (1449, 0.0), (1451, 0.0), (1452, 0.0), (1455, 0.0), (1458, 0.0), (1459, 0.0), (1460, 0.0), (1467, 0.0), (1470, 0.0), (1480, 0.0), (1484, 0.0), (1490, 0.0), (1492, 0.0), (1493, 0.0), (1500, 0.0), (1502, 0.0), (1504, 0.0), (1511, 0.0), (1512, 0.0), (1515, 0.0), (1517, 0.0), (1522, 0.0), (1524, 0.0), (1526, 0.0), (1527, 0.0), (1529, 0.0), (1530, 0.0), (1532, 0.0), (1534, 0.0), (1535, 0.0), (1536, 0.0), (1538, 0.0), (1540, 0.0), (1541, 0.0), (1544, 0.0), (1545, 0.0), (1546, 0.0), (1548, 0.0), (1550, 0.0), (1551, 0.0), (1553, 0.0), (1554, 0.0), (1556, 0.0), (1559, 0.0), (1561, 0.0), (1562, 0.0), (1563, 0.0), (1566, 0.0), (1568, 0.0), (1574, 0.0), (1575, 0.0), (1576, 0.0), (1577, 0.0), (1578, 0.0), (1579, 0.0), (1580, 0.0), (1581, 0.0), (1583, 0.0), (1584, 0.0), (1586, 0.0), (1590, 0.0), (1592, 0.0), (1593, 0.0), (1599, 0.0), (1600, 0.0), (1602, 0.0), (1603, 0.0), (1604, 0.0), (1606, 0.0), (1607, 0.0), (1609, 0.0), (1611, 0.0), (1612, 0.0), (1622, 0.0), (1623, 0.0), (1626, 0.0), (1630, 0.0), (1631, 0.0), (1632, 0.0), (1633, 0.0), (1635, 0.0), (1641, 0.0), (1644, 0.0), (1646, 0.0), (1647, 0.0), (1649, 0.0), (1650, 0.0), (1651, 0.0), (1654, 0.0), (1659, 0.0), (1661, 0.0), (1662, 0.0), (1664, 0.0), (1668, 0.0), (1669, 0.0), (1670, 0.0), (1673, 0.0), (1674, 0.0), (1679, 0.0), (1680, 0.0), (1681, 0.0), (1686, 0.0), (1689, 0.0), (1691, 0.0), (1692, 0.0), (1696, 0.0), (1698, 0.0), (1699, 0.0), (1701, 0.0), (1702, 0.0), (1705, 0.0), (1708, 0.0), (1709, 0.0), (1712, 0.0), (1713, 0.0), (1720, 0.0), (1723, 0.0), (1724, 0.0), (1725, 0.0), (1728, 0.0), (1729, 0.0), (1732, 0.0), (1734, 0.0), (1735, 0.0), (1736, 0.0), (1737, 0.0), (1745, 0.0), (1749, 0.0), (1752, 0.0), (1753, 0.0), (1754, 0.0), (1755, 0.0), (1756, 0.0), (1758, 0.0), (1761, 0.0), (1767, 0.0), (1770, 0.0), (1772, 0.0), (1773, 0.0), (1775, 0.0), (1776, 0.0), (1777, 0.0), (1780, 0.0), (1785, 0.0), (1789, 0.0), (1790, 0.0), (1793, 0.0), (1795, 0.0), (1799, 0.0), (1800, 0.0), (1801, 0.0), (1802, 0.0), (1805, 0.0), (1808, 0.0), (1809, 0.0), (1810, 0.0), (1811, 0.0), (1812, 0.0), (1814, 0.0), (1817, 0.0), (1820, 0.0), (1823, 0.0), (1825, 0.0), (1826, 0.0), (1829, 0.0), (1831, 0.0), (1832, 0.0), (1834, 0.0), (1835, 0.0), (1838, 0.0), (1840, 0.0), (1841, 0.0), (1843, 0.0), (1846, 0.0), (1849, 0.0), (1852, 0.0), (1854, 0.0), (1855, 0.0), (1856, 0.0), (1857, 0.0), (1858, 0.0), (1859, 0.0), (1860, 0.0), (1862, 0.0), (1863, 0.0), (1868, 0.0), (1870, 0.0), (1872, 0.0), (1873, 0.0), (1874, 0.0), (1887, 0.0), (1890, 0.0), (1894, 0.0), (1895, 0.0), (1901, 0.0), (1904, 0.0), (1906, 0.0), (1908, 0.0), (1910, 0.0), (1915, 0.0), (1917, 0.0), (1921, 0.0), (1922, 0.0), (1925, 0.0), (1927, 0.0), (1930, 0.0), (1932, 0.0), (1933, 0.0), (1936, 0.0), (1937, 0.0), (1938, 0.0), (1940, 0.0), (1944, 0.0), (1945, 0.0), (1948, 0.0), (1949, 0.0), (1952, 0.0), (1953, 0.0), (1957, 0.0), (1958, 0.0), (1959, 0.0), (1962, 0.0), (1970, 0.0), (1972, 0.0), (1975, 0.0), (1976, 0.0), (1979, 0.0), (1988, 0.0), (1990, 0.0), (1991, 0.0), (1993, 0.0), (1994, 0.0), (1996, 0.0), (1998, 0.0), (2002, 0.0), (2005, 0.0), (2013, 0.0), (2014, 0.0), (2017, 0.0), (2020, 0.0), (2022, 0.0), (2025, 0.0), (2028, 0.0), (2030, 0.0), (2038, 0.0), (2042, 0.0), (2044, 0.0), (2047, 0.0), (2052, 0.0), (2054, 0.0), (2057, 0.0), (2059, 0.0), (2062, 0.0), (2063, 0.0), (2064, 0.0), (2066, 0.0), (2072, 0.0), (2074, 0.0), (2078, 0.0), (2079, 0.0), (2080, 0.0), (2084, 0.0), (2085, 0.0), (2092, 0.0), (2094, 0.0), (2095, 0.0), (2098, 0.0), (2100, 0.0), (2109, 0.0), (2110, 0.0), (2113, 0.0), (2115, 0.0), (2119, 0.0), (2120, 0.0), (2123, 0.0), (2124, 0.0), (2126, 0.0), (2130, 0.0), (2133, 0.0), (2135, 0.0), (2138, 0.0), (2139, 0.0), (2152, 0.0), (2156, 0.0), (2160, 0.0), (2164, 0.0), (2165, 0.0), (2172, 0.0), (2177, 0.0), (2178, 0.0), (2180, 0.0), (2182, 0.0), (2183, 0.0), (2184, 0.0), (2185, 0.0), (2189, 0.0), (2196, 0.0), (2197, 0.0), (2198, 0.0), (2200, 0.0), (2203, 0.0), (2205, 0.0), (2206, 0.0), (2213, 0.0), (2215, 0.0), (2219, 0.0), (2220, 0.0), (2221, 0.0), (2227, 0.0), (2231, 0.0), (2232, 0.0), (2233, 0.0), (2235, 0.0), (2238, 0.0), (2239, 0.0), (2243, 0.0), (2245, 0.0), (2246, 0.0), (2247, 0.0), (2252, 0.0), (2253, 0.0), (2256, 0.0), (2258, 0.0), (2263, 0.0), (2267, 0.0), (2268, 0.0), (2271, 0.0), (2273, 0.0), (2275, 0.0), (2276, 0.0), (2278, 0.0), (2282, 0.0), (2283, 0.0), (2285, 0.0), (2288, 0.0), (2291, 0.0), (2293, 0.0), (2294, 0.0), (2296, 0.0), (2298, 0.0), (2300, 0.0), (2306, 0.0), (2307, 0.0), (2310, 0.0), (2312, 0.0), (2314, 0.0), (2315, 0.0), (2318, 0.0), (2323, 0.0), (2324, 0.0), (2325, 0.0), (2326, 0.0), (2328, 0.0), (2330, 0.0), (2332, 0.0), (2337, 0.0), (2339, 0.0), (2341, 0.0), (2342, 0.0), (2343, 0.0), (2345, 0.0), (2346, 0.0), (2352, 0.0), (2354, 0.0), (2356, 0.0), (2358, 0.0), (2360, 0.0), (2365, 0.0), (2366, 0.0), (2369, 0.0), (2370, 0.0), (2371, 0.0), (2372, 0.0), (2373, 0.0), (2376, 0.0), (2377, 0.0), (2378, 0.0), (2380, 0.0), (2382, 0.0), (2383, 0.0), (2384, 0.0), (2392, 0.0), (2398, 0.0), (2401, 0.0), (2408, 0.0), (2413, 0.0), (2414, 0.0), (2416, 0.0), (2418, 0.0), (2419, 0.0), (2421, 0.0), (2425, 0.0), (2429, 0.0), (2432, 0.0), (2442, 0.0), (2445, 0.0), (2451, 0.0), (2454, 0.0), (2455, 0.0), (2458, 0.0), (2462, 0.0), (2463, 0.0), (2470, 0.0), (2471, 0.0), (2476, 0.0), (2480, 0.0), (2481, 0.0), (2483, 0.0), (2485, 0.0), (2491, 0.0), (2498, 0.0), (2501, 0.0), (2505, 0.0), (2506, 0.0), (2508, 0.0), (2510, 0.0), (2513, 0.0), (2515, 0.0), (2516, 0.0), (2517, 0.0), (2518, 0.0), (2524, 0.0), (2525, 0.0), (2532, 0.0), (2536, 0.0), (2542, 0.0), (2544, 0.0), (2545, 0.0), (2547, 0.0), (2548, 0.0), (2549, 0.0), (2551, 0.0), (2557, 0.0), (2562, 0.0), (2564, 0.0), (2565, 0.0), (2567, 0.0), (2571, 0.0), (2572, 0.0), (2573, 0.0), (2574, 0.0), (2576, 0.0), (2577, 0.0), (2578, 0.0), (2583, 0.0), (2589, 0.0), (2595, 0.0), (2596, 0.0), (2599, 0.0), (2613, 0.0), (2617, 0.0), (2618, 0.0), (2620, 0.0), (2622, 0.0), (2624, 0.0), (2627, 0.0), (2630, 0.0), (2631, 0.0), (2639, 0.0), (2640, 0.0), (2641, 0.0), (2648, 0.0), (2649, 0.0), (2650, 0.0), (2651, 0.0), (2654, 0.0), (2657, 0.0), (2658, 0.0), (2659, 0.0), (2660, 0.0), (2667, 0.0), (2670, 0.0), (2672, 0.0), (2673, 0.0), (2675, 0.0), (2676, 0.0), (2679, 0.0), (2680, 0.0), (2682, 0.0), (2683, 0.0), (2684, 0.0), (2686, 0.0), (2689, 0.0), (2691, 0.0), (2694, 0.0), (2700, 0.0), (2703, 0.0), (2704, 0.0), (2707, 0.0), (2708, 0.0), (2710, 0.0), (2713, 0.0), (2717, 0.0), (2718, 0.0), (2719, 0.0), (2723, 0.0), (2725, 0.0), (2733, 0.0), (2736, 0.0), (2742, 0.0), (2750, 0.0), (2751, 0.0), (2752, 0.0), (2753, 0.0), (2757, 0.0), (2759, 0.0), (2760, 0.0), (2762, 0.0), (2765, 0.0), (2773, 0.0), (2774, 0.0), (2780, 0.0), (2783, 0.0), (2785, 0.0), (2788, 0.0), (2789, 0.0), (2790, 0.0), (2791, 0.0), (2792, 0.0), (2793, 0.0), (2801, 0.0), (2806, 0.0), (2815, 0.0), (2818, 0.0), (2819, 0.0), (2822, 0.0), (2824, 0.0), (2826, 0.0), (2827, 0.0), (2837, 0.0), (2839, 0.0), (2841, 0.0), (2842, 0.0), (2847, 0.0), (2849, 0.0), (2850, 0.0), (2851, 0.0), (2853, 0.0), (2860, 0.0), (2861, 0.0), (2863, 0.0), (2864, 0.0), (2865, 0.0), (2868, 0.0), (2871, 0.0), (2875, 0.0), (2885, 0.0), (2895, 0.0), (2896, 0.0), (2898, 0.0), (2902, 0.0), (2905, 0.0), (2909, 0.0), (2918, 0.0), (2921, 0.0), (2922, 0.0), (2923, 0.0), (2927, 0.0), (2929, 0.0), (2930, 0.0), (2935, 0.0), (2936, 0.0), (2937, 0.0), (2938, 0.0), (2942, 0.0), (2944, 0.0), (2949, 0.0), (2950, 0.0), (2952, 0.0), (2953, 0.0), (2955, 0.0), (2956, 0.0), (2957, 0.0), (2959, 0.0), (2960, 0.0), (2963, 0.0), (2967, 0.0), (2968, 0.0), (2984, 0.0), (2985, 0.0), (2987, 0.0), (2990, 0.0), (2991, 0.0), (2993, 0.0), (2997, 0.0), (3000, 0.0), (3001, 0.0), (3002, 0.0), (3005, 0.0), (3006, 0.0), (3008, 0.0), (3010, 0.0), (3011, 0.0), (3022, 0.0), (3023, 0.0), (3025, 0.0), (3030, 0.0), (3035, 0.0), (3038, 0.0), (3041, 0.0), (3045, 0.0), (3046, 0.0), (3047, 0.0), (3048, 0.0), (3049, 0.0), (3053, 0.0), (3055, 0.0), (3058, 0.0), (3059, 0.0), (3060, 0.0), (3064, 0.0), (3068, 0.0), (3069, 0.0), (3073, 0.0), (3079, 0.0), (3082, 0.0), (3085, 0.0), (3087, 0.0), (3088, 0.0), (3090, 0.0), (3093, 0.0), (3095, 0.0), (3099, 0.0), (3100, 0.0), (3101, 0.0), (3103, 0.0), (3104, 0.0), (3105, 0.0), (3106, 0.0), (3107, 0.0), (3110, 0.0), (3114, 0.0), (3117, 0.0), (3118, 0.0), (3119, 0.0), (3121, 0.0), (3124, 0.0), (3126, 0.0), (3128, 0.0), (3129, 0.0), (3130, 0.0), (3131, 0.0), (3132, 0.0), (3133, 0.0), (3134, 0.0), (3135, 0.0), (3136, 0.0), (3138, 0.0), (3141, 0.0), (3144, 0.0), (3145, 0.0), (3156, 0.0), (3157, 0.0), (3158, 0.0), (3159, 0.0), (3160, 0.0), (3161, 0.0), (3162, 0.0), (3163, 0.0), (3167, 0.0), (3169, 0.0), (3172, 0.0), (3173, 0.0), (3174, 0.0), (3176, 0.0), (3179, 0.0), (3180, 0.0), (3185, 0.0), (3186, 0.0), (3190, 0.0), (3191, 0.0), (3193, 0.0), (3197, 0.0), (3201, 0.0), (3202, 0.0), (3203, 0.0), (3204, 0.0), (3207, 0.0), (3208, 0.0), (3209, 0.0), (3211, 0.0), (3215, 0.0), (3216, 0.0), (3222, 0.0), (3223, 0.0), (3225, 0.0), (3230, 0.0), (3242, 0.0), (3243, 0.0), (3250, 0.0), (3251, 0.0), (3252, 0.0), (3253, 0.0), (3255, 0.0), (3259, 0.0), (3261, 0.0), (3263, 0.0), (3264, 0.0), (3266, 0.0), (3272, 0.0), (3277, 0.0), (3279, 0.0), (3280, 0.0), (3281, 0.0), (3285, 0.0), (3292, 0.0), (3294, 0.0), (3299, 0.0), (3305, 0.0), (3306, 0.0), (3307, 0.0), (3310, 0.0), (3312, 0.0), (3313, 0.0), (3321, 0.0), (3322, 0.0), (3324, 0.0), (3333, 0.0), (3334, 0.0), (3335, 0.0), (3336, 0.0), (3338, 0.0), (3340, 0.0), (3341, 0.0), (3350, 0.0), (3354, 0.0), (3358, 0.0), (3361, 0.0), (3362, 0.0), (3367, 0.0), (3368, 0.0), (3369, 0.0), (3377, 0.0), (3378, 0.0), (3381, 0.0), (3383, 0.0), (3384, 0.0), (3385, 0.0), (3387, 0.0), (3390, 0.0), (3392, 0.0), (3394, 0.0), (3396, 0.0), (3398, 0.0), (3401, 0.0), (3404, 0.0), (3405, 0.0), (3412, 0.0), (3416, 0.0), (3422, 0.0), (3423, 0.0), (3426, 0.0), (3428, 0.0), (3429, 0.0), (3432, 0.0), (3434, 0.0), (3438, 0.0), (3440, 0.0), (3441, 0.0), (3442, 0.0), (3446, 0.0), (3448, 0.0), (3451, 0.0), (3452, 0.0), (3453, 0.0), (3454, 0.0), (3455, 0.0), (3456, 0.0), (3457, 0.0), (3458, 0.0), (3459, 0.0), (3462, 0.0), (3463, 0.0), (3465, 0.0), (3466, 0.0), (3467, 0.0), (3468, 0.0), (3469, 0.0), (3470, 0.0), (3472, 0.0), (3473, 0.0), (3475, 0.0), (3476, 0.0), (3478, 0.0), (3480, 0.0), (3481, 0.0), (3482, 0.0), (3484, 0.0), (3486, 0.0), (3488, 0.0), (3489, 0.0), (3491, 0.0), (3494, 0.0), (3495, 0.0), (3497, 0.0), (3499, 0.0), (3502, 0.0), (3505, 0.0), (3507, 0.0), (3509, 0.0), (3510, 0.0), (3515, 0.0), (3518, 0.0), (3519, 0.0), (3520, 0.0), (3522, 0.0), (3523, 0.0), (3525, 0.0), (3528, 0.0), (3530, 0.0), (3532, 0.0), (3533, 0.0), (3535, 0.0), (3536, 0.0), (3543, 0.0), (3548, 0.0), (3550, 0.0), (3555, 0.0), (3561, 0.0), (3566, 0.0), (3567, 0.0), (3568, 0.0), (3572, 0.0), (3573, 0.0), (3576, 0.0), (3578, 0.0), (3580, 0.0), (3583, 0.0), (3586, 0.0), (3587, 0.0), (3588, 0.0), (3591, 0.0), (3593, 0.0), (3596, 0.0), (3597, 0.0), (3600, 0.0), (3604, 0.0), (3605, 0.0), (3607, 0.0), (3608, 0.0), (3609, 0.0), (3610, 0.0), (3611, 0.0), (3615, 0.0), (3617, 0.0), (3619, 0.0), (3625, 0.0), (3627, 0.0), (3629, 0.0), (3630, 0.0), (3631, 0.0), (3636, 0.0), (3642, 0.0), (3651, 0.0), (3656, 0.0), (3659, 0.0), (3661, 0.0), (3662, 0.0), (3663, 0.0), (3664, 0.0), (3668, 0.0), (3670, 0.0), (3677, 0.0), (3679, 0.0), (3682, 0.0), (3683, 0.0), (3687, 0.0), (3690, 0.0), (3691, 0.0), (3693, 0.0), (3695, 0.0), (3697, 0.0), (3698, 0.0), (3699, 0.0), (3700, 0.0), (3702, 0.0), (3703, 0.0), (3708, 0.0), (3709, 0.0), (3711, 0.0), (3713, 0.0), (3716, 0.0), (3717, 0.0), (3718, 0.0), (3719, 0.0), (3720, 0.0), (3721, 0.0), (3722, 0.0), (3723, 0.0), (3724, 0.0), (3725, 0.0), (3726, 0.0), (3729, 0.0), (3730, 0.0), (3731, 0.0), (3735, 0.0), (3737, 0.0), (3738, 0.0), (3741, 0.0), (3743, 0.0), (3744, 0.0), (3746, 0.0), (3747, 0.0), (3751, 0.0), (3752, 0.0), (3757, 0.0), (3759, 0.0), (3760, 0.0), (3761, 0.0), (3762, 0.0), (3768, 0.0), (3769, 0.0), (3770, 0.0), (3773, 0.0), (3774, 0.0), (3775, 0.0), (3776, 0.0), (3779, 0.0), (3782, 0.0), (3783, 0.0), (3785, 0.0), (3786, 0.0), (3787, 0.0), (3788, 0.0), (3789, 0.0), (3791, 0.0), (3794, 0.0), (3795, 0.0), (3798, 0.0), (3802, 0.0), (3803, 0.0), (3804, 0.0), (3810, 0.0), (3814, 0.0), (3815, 0.0), (3816, 0.0), (3818, 0.0), (3820, 0.0), (3821, 0.0), (3823, 0.0), (3824, 0.0), (3825, 0.0), (3830, 0.0), (3831, 0.0), (3833, 0.0), (3834, 0.0), (3836, 0.0), (3837, 0.0), (3838, 0.0), (3840, 0.0), (3841, 0.0), (3843, 0.0), (3846, 0.0), (3847, 0.0), (3848, 0.0), (3849, 0.0), (3850, 0.0), (3851, 0.0), (3852, 0.0), (3853, 0.0), (3857, 0.0), (3864, 0.0), (3869, 0.0), (3871, 0.0), (3872, 0.0), (3874, 0.0), (3877, 0.0), (3878, 0.0), (3881, 0.0), (3884, 0.0), (3891, 0.0), (3894, 0.0), (3896, 0.0), (3897, 0.0), (3899, 0.0), (3906, 0.0), (3907, 0.0), (3908, 0.0), (3909, 0.0), (3916, 0.0), (3918, 0.0), (3921, 0.0), (3926, 0.0), (3929, 0.0), (3930, 0.0), (3931, 0.0), (3935, 0.0), (3937, 0.0), (3938, 0.0), (3939, 0.0), (3940, 0.0), (3942, 0.0), (3944, 0.0), (3945, 0.0), (3946, 0.0), (3947, 0.0), (3948, 0.0), (3951, 0.0), (3955, 0.0), (3957, 0.0), (3958, 0.0), (3963, 0.0), (3965, 0.0), (3966, 0.0), (3968, 0.0), (3969, 0.0), (3971, 0.0), (3972, 0.0), (3975, 0.0), (3976, 0.0), (3977, 0.0), (3978, 0.0), (3979, 0.0), (3980, 0.0), (3981, 0.0), (3982, 0.0), (3985, 0.0), (3986, 0.0), (3987, 0.0), (3988, 0.0), (3989, 0.0), (3991, 0.0), (3993, 0.0), (3994, 0.0), (3995, 0.0), (3996, 0.0), (3997, 0.0), (3999, 0.0), (4000, 0.0), (4001, 0.0), (4002, 0.0), (4003, 0.0), (4004, 0.0), (4008, 0.0), (4009, 0.0), (4013, 0.0), (4015, 0.0), (4017, 0.0), (4019, 0.0), (4021, 0.0), (4022, 0.0), (4028, 0.0), (4030, 0.0), (4031, 0.0), (4032, 0.0), (4034, 0.0), (4035, 0.0), (4039, 0.0), (4040, 0.0), (4042, 0.0), (4043, 0.0), (4044, 0.0), (4045, 0.0), (4047, 0.0), (4048, 0.0), (4050, 0.0), (4055, 0.0), (4057, 0.0), (4058, 0.0), (4059, 0.0), (4060, 0.0), (4062, 0.0), (4063, 0.0), (4065, 0.0), (4067, 0.0), (4070, 0.0), (4072, 0.0), (4075, 0.0), (4076, 0.0), (4077, 0.0), (4078, 0.0), (4080, 0.0), (4081, 0.0), (4083, 0.0), (4088, 0.0), (4089, 0.0), (4090, 0.0), (4091, 0.0), (4096, 0.0), (4097, 0.0), (4103, 0.0), (4106, 0.0), (4107, 0.0), (4110, 0.0), (4114, 0.0), (4115, 0.0), (4119, 0.0), (4120, 0.0), (4122, 0.0), (4124, 0.0), (4125, 0.0), (4126, 0.0), (4127, 0.0), (4128, 0.0), (4129, 0.0), (4131, 0.0), (4134, 0.0), (4136, 0.0), (4139, 0.0), (4142, 0.0), (4144, 0.0), (4145, 0.0), (4149, 0.0), (4150, 0.0), (4153, 0.0), (4155, 0.0), (4157, 0.0), (4158, 0.0), (4159, 0.0), (4161, 0.0), (4162, 0.0), (4164, 0.0), (4165, 0.0), (4167, 0.0), (4168, 0.0), (4169, 0.0), (4170, 0.0), (4172, 0.0), (4175, 0.0), (4177, 0.0), (4179, 0.0), (4180, 0.0), (4181, 0.0), (4185, 0.0), (4186, 0.0), (4188, 0.0), (4193, 0.0), (4194, 0.0), (4196, 0.0), (4199, 0.0), (4201, 0.0), (4204, 0.0), (4208, 0.0), (4210, 0.0), (4211, 0.0), (4215, 0.0), (4216, 0.0), (4219, 0.0), (4220, 0.0), (4221, 0.0), (4224, 0.0), (4225, 0.0), (4227, 0.0), (4228, 0.0), (4229, 0.0), (4230, 0.0), (4232, 0.0), (4235, 0.0), (4236, 0.0), (4238, 0.0), (4239, 0.0), (4240, 0.0), (4241, 0.0), (4242, 0.0), (4245, 0.0), (4248, 0.0), (4250, 0.0), (4251, 0.0), (4253, 0.0), (4256, 0.0), (4258, 0.0), (4260, 0.0), (4261, 0.0), (4264, 0.0), (4265, 0.0), (4267, 0.0), (4270, 0.0), (4271, 0.0), (4273, 0.0), (4276, 0.0), (4278, 0.0), (4279, 0.0), (4280, 0.0), (4281, 0.0), (4289, 0.0), (4291, 0.0), (4292, 0.0), (4294, 0.0), (4296, 0.0), (4297, 0.0), (4298, 0.0), (4299, 0.0), (4301, 0.0), (4302, 0.0), (4303, 0.0), (4305, 0.0), (4306, 0.0), (4307, 0.0), (4310, 0.0), (4312, 0.0), (4313, 0.0), (4314, 0.0), (4316, 0.0), (4317, 0.0), (4318, 0.0), (4320, 0.0), (4322, 0.0), (4326, 0.0), (4328, 0.0), (4329, 0.0), (4331, 0.0), (4332, 0.0), (4335, 0.0), (4337, 0.0), (4338, 0.0), (4339, 0.0), (4340, 0.0), (4343, 0.0), (4348, 0.0), (4349, 0.0), (4352, 0.0), (4354, 0.0), (4355, 0.0), (4358, 0.0), (4360, 0.0), (4361, 0.0), (4363, 0.0), (4364, 0.0), (4365, 0.0), (4366, 0.0), (4367, 0.0), (4370, 0.0), (4372, 0.0), (4373, 0.0), (4375, 0.0), (4376, 0.0), (4377, 0.0), (4378, 0.0), (4380, 0.0), (4381, 0.0), (4385, 0.0), (4386, 0.0), (4388, 0.0), (4389, 0.0), (4390, 0.0), (4392, 0.0), (4393, 0.0), (4397, 0.0), (4398, 0.0), (4399, 0.0), (4400, 0.0), (4405, 0.0), (4406, 0.0), (4407, 0.0), (4409, 0.0), (4410, 0.0), (4413, 0.0), (4414, 0.0), (4415, 0.0), (4416, 0.0), (4417, 0.0), (4418, 0.0), (4421, 0.0), (4423, 0.0), (4424, 0.0), (4425, 0.0), (4427, 0.0), (4428, 0.0), (4431, 0.0), (4435, 0.0), (4438, 0.0), (4439, 0.0), (4441, 0.0), (4445, 0.0), (4449, 0.0), (4450, 0.0), (4451, 0.0), (4452, 0.0), (4454, 0.0), (4455, 0.0), (4456, 0.0), (4458, 0.0), (4459, 0.0), (4461, 0.0), (4462, 0.0), (4465, 0.0), (4466, 0.0), (4467, 0.0), (4468, 0.0), (4469, 0.0), (4471, 0.0), (4474, 0.0), (4476, 0.0), (4478, 0.0), (4480, 0.0), (4481, 0.0), (4485, 0.0), (4488, 0.0), (4491, 0.0), (4492, 0.0), (4493, 0.0), (4495, 0.0), (4497, 0.0), (4498, 0.0), (4499, 0.0), (4500, 0.0), (4504, 0.0), (4505, 0.0), (4506, 0.0), (4508, 0.0), (4509, 0.0), (4510, 0.0), (4512, 0.0), (4513, 0.0), (4518, 0.0), (4524, 0.0), (4525, 0.0), (4526, 0.0), (4527, 0.0), (4529, 0.0), (4531, 0.0), (4532, 0.0), (4534, 0.0), (4537, 0.0), (4538, 0.0), (4539, 0.0), (4540, 0.0), (4543, 0.0), (4544, 0.0), (4545, 0.0), (4547, 0.0), (4548, 0.0), (4549, 0.0), (4550, 0.0), (4553, 0.0), (4554, 0.0), (4558, 0.0), (4559, 0.0), (4561, 0.0), (4564, 0.0), (4565, 0.0), (4567, 0.0), (4568, 0.0), (4569, 0.0), (4572, 0.0), (4574, 0.0), (4576, 0.0), (4577, 0.0), (4578, 0.0), (4579, 0.0), (4581, 0.0), (4582, 0.0), (4583, 0.0), (4584, 0.0), (4585, 0.0), (4586, 0.0), (4587, 0.0), (4588, 0.0), (4592, 0.0), (4595, 0.0), (4596, 0.0), (4597, 0.0), (4598, 0.0), (4600, 0.0), (4602, 0.0), (4604, 0.0), (4605, 0.0), (4606, 0.0), (4607, 0.0), (4608, 0.0), (4609, 0.0), (4611, 0.0), (4612, 0.0), (4613, 0.0), (4614, 0.0), (4615, 0.0), (4616, 0.0), (4618, 0.0), (4620, 0.0), (4621, 0.0), (4622, 0.0), (4623, 0.0), (4630, 0.0), (4631, 0.0), (4634, 0.0), (4635, 0.0), (4639, 0.0), (4641, 0.0), (4642, 0.0), (4644, 0.0), (4645, 0.0), (4646, 0.0), (4647, 0.0), (4649, 0.0), (4651, 0.0), (4653, 0.0), (4654, 0.0), (4655, 0.0), (4656, 0.0), (4659, 0.0), (4661, 0.0), (4662, 0.0), (4663, 0.0), (4664, 0.0), (4665, 0.0), (4666, 0.0), (4667, 0.0), (4671, 0.0), (4672, 0.0), (4676, 0.0), (4677, 0.0), (4678, 0.0), (4679, 0.0), (4680, 0.0), (4681, 0.0), (4682, 0.0), (4684, 0.0), (4685, 0.0), (4686, 0.0), (4687, 0.0), (4688, 0.0), (4689, 0.0), (4691, 0.0), (4692, 0.0), (4693, 0.0), (4694, 0.0), (4695, 0.0), (4696, 0.0), (4697, 0.0), (4698, 0.0), (4702, 0.0), (4703, 0.0), (4704, 0.0), (4705, 0.0), (4707, 0.0), (4708, 0.0), (4709, 0.0), (4711, 0.0), (4714, 0.0), (4715, 0.0), (4716, 0.0), (4724, 0.0), (4726, 0.0), (4727, 0.0), (4728, 0.0), (4729, 0.0), (4730, 0.0), (4732, 0.0), (4735, 0.0), (4736, 0.0), (4737, 0.0), (4740, 0.0), (4741, 0.0), (4742, 0.0), (4745, 0.0), (4747, 0.0), (4748, 0.0), (4749, 0.0), (4750, 0.0), (4751, 0.0), (4753, 0.0), (4754, 0.0), (4758, 0.0), (4759, 0.0)]\n"
          ]
        }
      ]
    },
    {
      "cell_type": "code",
      "source": [
        "# print the name of similar movies based on the index\n",
        "\n",
        "print('Top 30 Movies Suggested for You: \\n')\n",
        "i=1\n",
        "for movie in Sorted_Similar_Movies:\n",
        "  index=movie[0]\n",
        "  title_from_index = df[df.index==index]['Movie_Title'].values[0]\n",
        "  if (i<31):\n",
        "    print(i, '.',title_from_index)\n",
        "    i+=1"
      ],
      "metadata": {
        "colab": {
          "base_uri": "https://localhost:8080/"
        },
        "id": "tnad7UhV23JN",
        "outputId": "cb8887bc-c58e-4ff9-c7bb-44d2535af384"
      },
      "execution_count": 27,
      "outputs": [
        {
          "output_type": "stream",
          "name": "stdout",
          "text": [
            "Top 30 Movies Suggested for You: \n",
            "\n",
            "1 . Love Jones\n",
            "2 . A Man Apart\n",
            "3 . Def Jam's How to Be a Player\n",
            "4 . The Inkwell\n",
            "5 . Wristcutters: A Love Story\n",
            "6 . The Brothers\n",
            "7 . My Super Ex-Girlfriend\n",
            "8 . Exit Wounds\n",
            "9 . Menace II Society\n",
            "10 . Big Momma's House\n",
            "11 . Eve's Bayou\n",
            "12 . The Postman\n",
            "13 . In Too Deep\n",
            "14 . Girl 6\n",
            "15 . Held Up\n",
            "16 . Dear John\n",
            "17 . Groundhog Day\n",
            "18 . Soul Food\n",
            "19 . American Pie 2\n",
            "20 . Love Stinks\n",
            "21 . The Incredibly True Adventure of Two Girls In Love\n",
            "22 . The Upside of Anger\n",
            "23 . Bringing Down the House\n",
            "24 . Welcome to Collinwood\n",
            "25 . Leap Year\n",
            "26 . Boiler Room\n",
            "27 . Brown Sugar\n",
            "28 . Anomalisa\n",
            "29 . Big Momma's House 2\n",
            "30 . Stigmata\n"
          ]
        }
      ]
    },
    {
      "cell_type": "markdown",
      "source": [
        "**Top 10 Movie Recommendation System**"
      ],
      "metadata": {
        "id": "Bb86NT136eHJ"
      }
    },
    {
      "cell_type": "code",
      "source": [
        "Movie_Name = input('Enter your favourite movie name :')\n",
        "list_of_all_titles = df['Movie_Title'].tolist()\n",
        "Find_Close_Match = difflib.get_close_matches(Movie_Name, list_of_all_titles)\n",
        "Close_Match = Find_Close_Match[0]\n",
        "Index_of_Movie = df[df.Movie_Title == Close_Match]['Movie_ID'].values[0]\n",
        "Recommendation_Score = list(enumerate(Similarity_Score[Index_of_Movie]))\n",
        "sorted_similar_movies = sorted(Recommendation_Score, key = lambda x:x[1], reverse =True)\n",
        "print('Top 10 Movies suggested for you : \\n')\n",
        "i=1\n",
        "for movie in sorted_similar_movies:\n",
        "  index=movie[0]\n",
        "  title_from_index = df[df.Movie_ID==index]['Movie_Title'].values\n",
        "  if (i<11):\n",
        "    print(i, '.',title_from_index)\n",
        "    i+=1"
      ],
      "metadata": {
        "colab": {
          "base_uri": "https://localhost:8080/"
        },
        "id": "Bs8rU4rm3KzL",
        "outputId": "a08c7667-8cc7-4785-b591-66c86200f226"
      },
      "execution_count": 28,
      "outputs": [
        {
          "output_type": "stream",
          "name": "stdout",
          "text": [
            "Enter your favourite movie name :inception\n",
            "Top 10 Movies suggested for you : \n",
            "\n",
            "1 . ['Inception']\n",
            "2 . ['Day of the Dead']\n",
            "3 . ['Return of the Living Dead 3']\n",
            "4 . ['Monte Carlo']\n",
            "5 . ['10th & Wolf']\n",
            "6 . [\"Say It Isn't So\"]\n",
            "7 . ['Seabiscuit']\n",
            "8 . ['Quills']\n",
            "9 . ['The Matador']\n",
            "10 . ['Babe']\n"
          ]
        }
      ]
    }
  ]
}